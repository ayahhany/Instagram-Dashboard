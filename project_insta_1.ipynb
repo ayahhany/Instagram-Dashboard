{
 "cells": [
  {
   "cell_type": "code",
   "execution_count": 1,
   "id": "e2cbd26b",
   "metadata": {},
   "outputs": [],
   "source": [
    "from dash import Dash,html,dcc\n",
    "import plotly.express as px\n",
    "import pandas as pd\n",
    "import numpy as np\n",
    "from dash.dependencies import Input,Output,State"
   ]
  },
  {
   "cell_type": "code",
   "execution_count": 2,
   "id": "038e9694",
   "metadata": {},
   "outputs": [],
   "source": [
    "df = pd.read_csv('insta_general.csv', header=0)"
   ]
  },
  {
   "cell_type": "code",
   "execution_count": 3,
   "id": "76e9b9c3",
   "metadata": {},
   "outputs": [],
   "source": [
    "df['posts']= df['posts'].astype('string').str.replace(',','').astype('int')"
   ]
  },
  {
   "cell_type": "code",
   "execution_count": 4,
   "id": "f5e21bf2",
   "metadata": {},
   "outputs": [],
   "source": [
    "df['followers']= df['followers'].astype('int')\n",
    "df['followings']= df['followings'].astype('int')"
   ]
  },
  {
   "cell_type": "code",
   "execution_count": 5,
   "id": "16bcac3e",
   "metadata": {},
   "outputs": [],
   "source": [
    "df0 = df.sort_values(by=['followers'])\n",
    "followers_Bar = px.bar(df0 , y= 'name', x='followers', orientation='h')"
   ]
  },
  {
   "cell_type": "code",
   "execution_count": 6,
   "id": "6cf88930",
   "metadata": {},
   "outputs": [],
   "source": [
    "df0 = df.sort_values(by=['posts'], ascending=False)\n",
    "postsNum_Bar = px.bar(df0 , x= 'name', y='posts')"
   ]
  },
  {
   "cell_type": "code",
   "execution_count": 7,
   "id": "647bc8fc",
   "metadata": {},
   "outputs": [],
   "source": [
    "categories_followers_pie = px.pie(df, names='category', values='followers', title='Most Followed Category')"
   ]
  },
  {
   "cell_type": "code",
   "execution_count": 8,
   "id": "f79cff44",
   "metadata": {
    "scrolled": true
   },
   "outputs": [],
   "source": [
    "tier_pie = px.pie(df, names='tier', title='Tiers')"
   ]
  },
  {
   "cell_type": "code",
   "execution_count": null,
   "id": "39132e9f",
   "metadata": {},
   "outputs": [
    {
     "name": "stdout",
     "output_type": "stream",
     "text": [
      "Dash is running on http://127.0.0.1:8050/\n",
      "\n",
      "Dash is running on http://127.0.0.1:8050/\n",
      "\n",
      "Dash is running on http://127.0.0.1:8050/\n",
      "\n",
      "Dash is running on http://127.0.0.1:8050/\n",
      "\n",
      "Dash is running on http://127.0.0.1:8050/\n",
      "\n",
      "Dash is running on http://127.0.0.1:8050/\n",
      "\n",
      "Dash is running on http://127.0.0.1:8050/\n",
      "\n",
      "Dash is running on http://127.0.0.1:8050/\n",
      "\n",
      "Dash is running on http://127.0.0.1:8050/\n",
      "\n",
      " * Serving Flask app \"__main__\" (lazy loading)\n",
      " * Environment: production\n",
      "\u001b[31m   WARNING: This is a development server. Do not use it in a production deployment.\u001b[0m\n",
      "\u001b[2m   Use a production WSGI server instead.\u001b[0m\n",
      " * Debug mode: off\n"
     ]
    },
    {
     "name": "stderr",
     "output_type": "stream",
     "text": [
      " * Running on http://127.0.0.1:8050/ (Press CTRL+C to quit)\n",
      "127.0.0.1 - - [22/Apr/2022 04:25:40] \"GET / HTTP/1.1\" 200 -\n",
      "127.0.0.1 - - [22/Apr/2022 04:25:40] \"GET /_dash-layout HTTP/1.1\" 200 -\n",
      "127.0.0.1 - - [22/Apr/2022 04:25:40] \"GET /_dash-dependencies HTTP/1.1\" 200 -\n",
      "127.0.0.1 - - [22/Apr/2022 04:25:40] \"GET /_favicon.ico?v=2.3.0 HTTP/1.1\" 200 -\n",
      "127.0.0.1 - - [22/Apr/2022 04:25:40] \"GET /_dash-component-suites/dash/dcc/async-graph.js HTTP/1.1\" 200 -\n",
      "127.0.0.1 - - [22/Apr/2022 04:25:40] \"GET /_dash-component-suites/dash/dcc/async-dropdown.js HTTP/1.1\" 200 -\n",
      "127.0.0.1 - - [22/Apr/2022 04:25:40] \"GET /_dash-component-suites/dash/dcc/async-plotlyjs.js HTTP/1.1\" 200 -\n",
      "127.0.0.1 - - [22/Apr/2022 04:25:41] \"POST /_dash-update-component HTTP/1.1\" 200 -\n",
      "127.0.0.1 - - [22/Apr/2022 04:25:47] \"POST /_dash-update-component HTTP/1.1\" 200 -\n",
      "127.0.0.1 - - [22/Apr/2022 04:25:50] \"POST /_dash-update-component HTTP/1.1\" 200 -\n",
      "127.0.0.1 - - [22/Apr/2022 04:45:57] \"GET / HTTP/1.1\" 200 -\n",
      "127.0.0.1 - - [22/Apr/2022 04:45:57] \"GET /_dash-layout HTTP/1.1\" 200 -\n",
      "127.0.0.1 - - [22/Apr/2022 04:45:57] \"GET /_dash-dependencies HTTP/1.1\" 200 -\n",
      "127.0.0.1 - - [22/Apr/2022 04:45:57] \"GET /_dash-component-suites/dash/dcc/async-graph.js HTTP/1.1\" 200 -\n",
      "127.0.0.1 - - [22/Apr/2022 04:45:57] \"GET /_dash-component-suites/dash/dcc/async-dropdown.js HTTP/1.1\" 200 -\n",
      "127.0.0.1 - - [22/Apr/2022 04:45:57] \"GET /_dash-component-suites/dash/dcc/async-plotlyjs.js HTTP/1.1\" 200 -\n",
      "127.0.0.1 - - [22/Apr/2022 04:45:57] \"POST /_dash-update-component HTTP/1.1\" 200 -\n"
     ]
    }
   ],
   "source": [
    "app = Dash()\n",
    "@app.callback(\n",
    "    Output(component_id='graph1',component_property='figure'),\n",
    "    Output(component_id='graph2',component_property='figure'),\n",
    "    #Output(component_id='img',component_property='src'),\n",
    "    Input(component_id='ddown1',component_property='value'),\n",
    "    Input(component_id='ddown2',component_property='value'),\n",
    ")\n",
    "def update_My_Div(category,tier):\n",
    "    if category==None and tier==None:\n",
    "        df0 = df.sort_values(by=['followers'] , ascending=False)\n",
    "        df1 = df.sort_values(by=['posts'], ascending=False)\n",
    "        followers_Bar = px.bar(df0 , x= 'name', y='followers')\n",
    "        postsNum_Bar = px.bar(df1 , x= 'name', y='posts')\n",
    "        return followers_Bar,postsNum_Bar\n",
    "    elif tier==None:\n",
    "        df0 = df[df['category'] == category]\n",
    "        df0 = df0.sort_values(by=['followers'], ascending=False)\n",
    "        df1 = df0.sort_values(by=['posts'], ascending=False)\n",
    "        followers_Bar = px.bar(df0 , x= 'name', y='followers')\n",
    "        postsNum_Bar = px.bar(df1 , x= 'name', y='posts')\n",
    "        return followers_Bar,postsNum_Bar\n",
    "    elif category==None:\n",
    "        df0 = df[df['tier'] == tier]\n",
    "        df0 = df0.sort_values(by=['followers'], ascending=False)\n",
    "        df1 = df0.sort_values(by=['posts'], ascending=False)\n",
    "        followers_Bar = px.bar(df0 , x= 'name', y='followers')\n",
    "        postsNum_Bar = px.bar(df1 , x= 'name', y='posts')\n",
    "        return followers_Bar,postsNum_Bar\n",
    "        \n",
    "    else:\n",
    "        df0 = df[np.logical_and(df['category'] == category,df['tier'] == tier)]\n",
    "        df0 = df0.sort_values(by=['followers'], ascending=False)\n",
    "        df1 = df0.sort_values(by=['posts'], ascending=False)\n",
    "        followers_Bar = px.bar(df0 , x= 'name', y='followers')\n",
    "        postsNum_Bar = px.bar(df1 , x= 'name', y='posts')\n",
    "        return followers_Bar,postsNum_Bar\n",
    "    \n",
    "\n",
    "app.layout=html.Div(children=[\n",
    "    \n",
    "     html.Div(children=[\n",
    "         html.Div('Combined Followers',style={'width':500,'fontSize' :40,}),\n",
    "         html.Div('Total Posts',style={'width': 300, 'fontSize' :40,}),\n",
    "         html.Div('Total Likes',style={'width': 300,'fontSize' :40,}),\n",
    "         html.Div('Total Comments',style={'width': 400,'fontSize' :40,}),\n",
    "      ],style={'width': 1500,\n",
    "              'display': 'flex',\n",
    "              'flex-direction': 'row',\n",
    "              'justify-content': 'center',}\n",
    "        ),\n",
    "     html.Div(children=[\n",
    "         html.Div(str(df['followers'].sum()),style={'width':500,'fontSize' :40,}),\n",
    "         html.Div(str(df['posts'].sum()),style={'width': 300, 'fontSize' :40,}),\n",
    "         html.Div('0',style={'width': 300,'fontSize' :40,}),\n",
    "         html.Div('0',style={'width': 400,'fontSize' :40,}),\n",
    "      ],style={'width': 1500,\n",
    "              'display': 'flex',\n",
    "              'flex-direction': 'row',\n",
    "              'justify-content': 'center',}\n",
    "        ),    \n",
    "    \n",
    "     html.Div(dcc.Graph(figure=categories_followers_pie)),\n",
    "     html.Div(dcc.Graph(figure=tier_pie)),\n",
    "     html.Div(dcc.Graph(id='graph1')),\n",
    "     html.Div(dcc.Graph(id='graph2')),\n",
    "    \n",
    "     dcc.Dropdown(options=[{'label': str(category), 'value': str(category)}  for category in df['category'].unique()],\n",
    "                  id='ddown1',\n",
    "    ),\n",
    "     dcc.Dropdown(options=[{'label': str(tier), 'value': str(tier)}  for tier in df['tier'].unique()],\n",
    "                  id='ddown2',\n",
    "    ),\n",
    "])\n",
    "app.run_server()"
   ]
  },
  {
   "cell_type": "code",
   "execution_count": null,
   "id": "6a78ba38",
   "metadata": {},
   "outputs": [
    {
     "name": "stdout",
     "output_type": "stream",
     "text": [
      "Dash is running on http://127.0.0.1:8050/\n",
      "\n",
      "Dash is running on http://127.0.0.1:8050/\n",
      "\n",
      " * Serving Flask app \"__main__\" (lazy loading)\n",
      " * Environment: production\n",
      "\u001b[31m   WARNING: This is a development server. Do not use it in a production deployment.\u001b[0m\n",
      "\u001b[2m   Use a production WSGI server instead.\u001b[0m\n",
      " * Debug mode: off\n"
     ]
    },
    {
     "name": "stderr",
     "output_type": "stream",
     "text": [
      " * Running on http://127.0.0.1:8050/ (Press CTRL+C to quit)\n",
      "127.0.0.1 - - [22/Apr/2022 05:06:27] \"GET / HTTP/1.1\" 200 -\n",
      "127.0.0.1 - - [22/Apr/2022 05:06:27] \"GET /_dash-layout HTTP/1.1\" 200 -\n",
      "127.0.0.1 - - [22/Apr/2022 05:06:27] \"GET /_dash-dependencies HTTP/1.1\" 200 -\n",
      "127.0.0.1 - - [22/Apr/2022 05:06:27] \"GET /_favicon.ico?v=2.3.0 HTTP/1.1\" 200 -\n",
      "127.0.0.1 - - [22/Apr/2022 05:06:36] \"GET / HTTP/1.1\" 200 -\n",
      "127.0.0.1 - - [22/Apr/2022 05:06:36] \"GET /_dash-layout HTTP/1.1\" 200 -\n",
      "127.0.0.1 - - [22/Apr/2022 05:06:36] \"GET /_dash-dependencies HTTP/1.1\" 200 -\n",
      "127.0.0.1 - - [22/Apr/2022 05:06:36] \"GET /_favicon.ico?v=2.3.0 HTTP/1.1\" 200 -\n"
     ]
    }
   ],
   "source": [
    "from dash import Dash,html,dcc\n",
    "app = Dash()\n",
    "app.layout=html.Div(children=[\n",
    "    html.Div(html.Img(\n",
    "                style={\n",
    "                    'height' : '50%',\n",
    "                    'width' : '50%',\n",
    "                    'float' : 'right',\n",
    "                    'position' : 'relative',\n",
    "                    'padding-top' : 0,\n",
    "                    'padding-right' : 0\n",
    "\n",
    "                },\n",
    "        src='http://en.openfoodfacts.org/images/products/000/000/702/0254/front.16.400.jpg,http://en.openfoodfacts.org/images/products/000/000/702/0254/front.16.200.jpg',\n",
    "                id='img',),)\n",
    "                 \n",
    "])\n",
    "app.run_server()"
   ]
  },
  {
   "cell_type": "code",
   "execution_count": null,
   "id": "786327ad",
   "metadata": {},
   "outputs": [],
   "source": []
  }
 ],
 "metadata": {
  "kernelspec": {
   "display_name": "Python 3 (ipykernel)",
   "language": "python",
   "name": "python3"
  },
  "language_info": {
   "codemirror_mode": {
    "name": "ipython",
    "version": 3
   },
   "file_extension": ".py",
   "mimetype": "text/x-python",
   "name": "python",
   "nbconvert_exporter": "python",
   "pygments_lexer": "ipython3",
   "version": "3.9.7"
  }
 },
 "nbformat": 4,
 "nbformat_minor": 5
}
