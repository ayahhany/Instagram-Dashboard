{
 "cells": [
  {
   "cell_type": "code",
   "execution_count": 1,
   "id": "32052f55",
   "metadata": {},
   "outputs": [],
   "source": [
    "from dash import Dash,html,dcc\n",
    "import plotly.express as px\n",
    "import pandas as pd\n",
    "import numpy as np\n",
    "from dash.dependencies import Input,Output,State\n",
    "import dash_bootstrap_components as dbc"
   ]
  },
  {
   "cell_type": "markdown",
   "id": "a0040b5c",
   "metadata": {},
   "source": [
    "# insta_general"
   ]
  },
  {
   "cell_type": "code",
   "execution_count": 2,
   "id": "9c3dd8d1",
   "metadata": {},
   "outputs": [],
   "source": [
    "df = pd.read_csv('insta_general.csv', header=0)"
   ]
  },
  {
   "cell_type": "code",
   "execution_count": 3,
   "id": "92ba0abe",
   "metadata": {},
   "outputs": [],
   "source": [
    "df['posts']= df['posts'].astype('string').str.replace(',','').astype('int')"
   ]
  },
  {
   "cell_type": "code",
   "execution_count": 4,
   "id": "60c0d837",
   "metadata": {},
   "outputs": [],
   "source": [
    "df['followers']= df['followers'].astype('int')\n",
    "df['followings']= df['followings'].astype('int')"
   ]
  },
  {
   "cell_type": "code",
   "execution_count": 5,
   "id": "71e6af6f",
   "metadata": {},
   "outputs": [],
   "source": [
    "df0 = df.sort_values(by=['followers'])\n",
    "followers_Bar = px.bar(df0 , y= 'name', x='followers', orientation='h')"
   ]
  },
  {
   "cell_type": "code",
   "execution_count": 6,
   "id": "f669a28f",
   "metadata": {},
   "outputs": [],
   "source": [
    "df0 = df.sort_values(by=['posts'])\n",
    "postsNum_Bar = px.bar(df0 , x= 'name', y='posts')"
   ]
  },
  {
   "cell_type": "code",
   "execution_count": 7,
   "id": "05ed249c",
   "metadata": {},
   "outputs": [],
   "source": [
    "categories_followers_pie = px.pie(df, names='category', values='followers', title='Most Followed Category')"
   ]
  },
  {
   "cell_type": "code",
   "execution_count": 8,
   "id": "103cef9f",
   "metadata": {
    "scrolled": true
   },
   "outputs": [],
   "source": [
    "tier_pie = px.pie(df, names='tier', title='Tiers')"
   ]
  },
  {
   "cell_type": "code",
   "execution_count": 9,
   "id": "1297ecf8",
   "metadata": {},
   "outputs": [],
   "source": [
    "df0 = df.sort_values(by=['avg_engagement_rate'])\n",
    "er_Bar = px.bar(df0 , x= 'username', y='avg_engagement_rate')"
   ]
  },
  {
   "cell_type": "markdown",
   "id": "0ca5a951",
   "metadata": {},
   "source": [
    "# insta_detailed"
   ]
  },
  {
   "cell_type": "code",
   "execution_count": 10,
   "id": "4b871bf2",
   "metadata": {},
   "outputs": [],
   "source": [
    "df_detailed = pd.read_csv('outputs/insta_detailed.csv', header=0)"
   ]
  },
  {
   "cell_type": "code",
   "execution_count": 11,
   "id": "580064f5",
   "metadata": {},
   "outputs": [],
   "source": [
    "df_temp = df_detailed.drop(df_detailed[df_detailed['likes']=='unknown'].index)\n",
    "df_detailed['likes'] = df_detailed['likes'].replace('unknown',df_temp['likes'].astype('int').min())\n",
    "df_detailed['likes'] = df_detailed['likes'].astype('int')\n",
    "df_detailed['captions']=df_detailed['captions'].fillna(' ')"
   ]
  },
  {
   "cell_type": "code",
   "execution_count": 12,
   "id": "ba3a8d2c",
   "metadata": {},
   "outputs": [],
   "source": [
    "posts_by_type_pie = px.pie(df_detailed, names='type', title='Types of Posts')"
   ]
  },
  {
   "cell_type": "code",
   "execution_count": 13,
   "id": "03f36584",
   "metadata": {},
   "outputs": [],
   "source": [
    "df_detailed['datetimes'] = pd.to_datetime(df_detailed['datetimes'])"
   ]
  },
  {
   "cell_type": "code",
   "execution_count": 14,
   "id": "037f4147",
   "metadata": {},
   "outputs": [],
   "source": [
    "Likes_scatter = px.scatter(df_detailed,\n",
    "                           x='datetimes',y='likes',\n",
    "                           color='username',\n",
    "                           hover_name='username',\n",
    "                           width=1000,height=1000,\n",
    "                           title='Date and Time of Post VS Likes',\n",
    "                           symbol='username',\n",
    "                           template='seaborn')"
   ]
  },
  {
   "cell_type": "markdown",
   "id": "1ddaa4e9",
   "metadata": {},
   "source": [
    "# Dash App"
   ]
  },
  {
   "cell_type": "code",
   "execution_count": null,
   "id": "2fa1cdb9",
   "metadata": {},
   "outputs": [
    {
     "name": "stdout",
     "output_type": "stream",
     "text": [
      "Dash is running on http://127.0.0.1:8050/\n",
      "\n",
      " * Serving Flask app \"__main__\" (lazy loading)\n",
      " * Environment: production\n",
      "\u001b[31m   WARNING: This is a development server. Do not use it in a production deployment.\u001b[0m\n",
      "\u001b[2m   Use a production WSGI server instead.\u001b[0m\n",
      " * Debug mode: off\n"
     ]
    },
    {
     "name": "stderr",
     "output_type": "stream",
     "text": [
      " * Running on http://127.0.0.1:8050/ (Press CTRL+C to quit)\n"
     ]
    },
    {
     "name": "stdout",
     "output_type": "stream",
     "text": [
      "Exception on /_dash-update-component [POST]\n",
      "Traceback (most recent call last):\n",
      "  File \"/home/ayah/anaconda3/lib/python3.9/site-packages/dash/dash.py\", line 1306, in dispatch\n",
      "    cb = self.callback_map[output]\n",
      "KeyError: 'my_h1.children'\n",
      "\n",
      "The above exception was the direct cause of the following exception:\n",
      "\n",
      "Traceback (most recent call last):\n",
      "  File \"/home/ayah/anaconda3/lib/python3.9/site-packages/flask/app.py\", line 2447, in wsgi_app\n",
      "    response = self.full_dispatch_request()\n",
      "  File \"/home/ayah/anaconda3/lib/python3.9/site-packages/flask/app.py\", line 1952, in full_dispatch_request\n",
      "    rv = self.handle_user_exception(e)\n",
      "  File \"/home/ayah/anaconda3/lib/python3.9/site-packages/flask/app.py\", line 1821, in handle_user_exception\n",
      "    reraise(exc_type, exc_value, tb)\n",
      "  File \"/home/ayah/anaconda3/lib/python3.9/site-packages/flask/_compat.py\", line 39, in reraise\n",
      "    raise value\n",
      "  File \"/home/ayah/anaconda3/lib/python3.9/site-packages/flask/app.py\", line 1950, in full_dispatch_request\n",
      "    rv = self.dispatch_request()\n",
      "  File \"/home/ayah/anaconda3/lib/python3.9/site-packages/flask/app.py\", line 1936, in dispatch_request\n",
      "    return self.view_functions[rule.endpoint](**req.view_args)\n",
      "  File \"/home/ayah/anaconda3/lib/python3.9/site-packages/dash/dash.py\", line 1344, in dispatch\n",
      "    raise KeyError(msg.format(output)) from missing_callback_function\n",
      "KeyError: \"Callback function not found for output 'my_h1.children', perhaps you forgot to prepend the '@'?\"\n"
     ]
    },
    {
     "name": "stderr",
     "output_type": "stream",
     "text": [
      "127.0.0.1 - - [29/Apr/2022 16:53:13] \"POST /_dash-update-component HTTP/1.1\" 500 -\n",
      "127.0.0.1 - - [29/Apr/2022 16:53:14] \"GET / HTTP/1.1\" 200 -\n",
      "127.0.0.1 - - [29/Apr/2022 16:53:15] \"GET /_dash-component-suites/dash_bootstrap_components/_components/dash_bootstrap_components.v1_1_0m1651242495.min.js HTTP/1.1\" 200 -\n",
      "127.0.0.1 - - [29/Apr/2022 16:53:15] \"GET /_dash-component-suites/dash/deps/polyfill@7.v2_3_0m1648105790.12.1.min.js HTTP/1.1\" 200 -\n",
      "127.0.0.1 - - [29/Apr/2022 16:53:15] \"GET /_dash-component-suites/dash/deps/react-dom@16.v2_3_0m1648105790.14.0.min.js HTTP/1.1\" 200 -\n",
      "127.0.0.1 - - [29/Apr/2022 16:53:15] \"GET /_dash-component-suites/dash/html/dash_html_components.v2_0_2m1648105790.min.js HTTP/1.1\" 200 -\n",
      "127.0.0.1 - - [29/Apr/2022 16:53:15] \"GET /_dash-component-suites/dash/dcc/dash_core_components.v2_3_0m1648105790.js HTTP/1.1\" 200 -\n",
      "127.0.0.1 - - [29/Apr/2022 16:53:15] \"GET /_dash-component-suites/dash/dash-renderer/build/dash_renderer.v2_3_0m1648105790.min.js HTTP/1.1\" 200 -\n",
      "127.0.0.1 - - [29/Apr/2022 16:53:15] \"GET /_dash-layout HTTP/1.1\" 200 -\n"
     ]
    },
    {
     "name": "stdout",
     "output_type": "stream",
     "text": [
      "Exception on /_dash-update-component [POST]\n",
      "Traceback (most recent call last):\n",
      "  File \"/home/ayah/anaconda3/lib/python3.9/site-packages/dash/dash.py\", line 1306, in dispatch\n",
      "    cb = self.callback_map[output]\n",
      "KeyError: 'my_h1.children'\n",
      "\n",
      "The above exception was the direct cause of the following exception:\n",
      "\n",
      "Traceback (most recent call last):\n",
      "  File \"/home/ayah/anaconda3/lib/python3.9/site-packages/flask/app.py\", line 2447, in wsgi_app\n",
      "    response = self.full_dispatch_request()\n",
      "  File \"/home/ayah/anaconda3/lib/python3.9/site-packages/flask/app.py\", line 1952, in full_dispatch_request\n",
      "    rv = self.handle_user_exception(e)\n",
      "  File \"/home/ayah/anaconda3/lib/python3.9/site-packages/flask/app.py\", line 1821, in handle_user_exception\n",
      "    reraise(exc_type, exc_value, tb)\n",
      "  File \"/home/ayah/anaconda3/lib/python3.9/site-packages/flask/_compat.py\", line 39, in reraise\n",
      "    raise value\n",
      "  File \"/home/ayah/anaconda3/lib/python3.9/site-packages/flask/app.py\", line 1950, in full_dispatch_request\n",
      "    rv = self.dispatch_request()\n",
      "  File \"/home/ayah/anaconda3/lib/python3.9/site-packages/flask/app.py\", line 1936, in dispatch_request\n",
      "    return self.view_functions[rule.endpoint](**req.view_args)\n",
      "  File \"/home/ayah/anaconda3/lib/python3.9/site-packages/dash/dash.py\", line 1344, in dispatch\n",
      "    raise KeyError(msg.format(output)) from missing_callback_function\n",
      "KeyError: \"Callback function not found for output 'my_h1.children', perhaps you forgot to prepend the '@'?\"\n"
     ]
    },
    {
     "name": "stderr",
     "output_type": "stream",
     "text": [
      "127.0.0.1 - - [29/Apr/2022 16:53:15] \"GET /_dash-dependencies HTTP/1.1\" 200 -\n",
      "127.0.0.1 - - [29/Apr/2022 16:53:15] \"POST /_dash-update-component HTTP/1.1\" 500 -\n",
      "127.0.0.1 - - [29/Apr/2022 16:53:15] \"GET /_favicon.ico?v=2.3.0 HTTP/1.1\" 200 -\n",
      "127.0.0.1 - - [29/Apr/2022 16:53:15] \"POST /_dash-update-component HTTP/1.1\" 200 -\n",
      "127.0.0.1 - - [29/Apr/2022 16:53:15] \"GET /_dash-component-suites/dash/dcc/async-dropdown.js HTTP/1.1\" 200 -\n",
      "127.0.0.1 - - [29/Apr/2022 16:53:15] \"GET /_dash-component-suites/dash/dcc/async-graph.js HTTP/1.1\" 304 -\n",
      "127.0.0.1 - - [29/Apr/2022 16:53:15] \"POST /_dash-update-component HTTP/1.1\" 200 -\n",
      "127.0.0.1 - - [29/Apr/2022 16:53:15] \"GET /_dash-component-suites/dash/dcc/async-plotlyjs.js HTTP/1.1\" 200 -\n",
      "127.0.0.1 - - [29/Apr/2022 16:53:16] \"POST /_dash-update-component HTTP/1.1\" 200 -\n",
      "127.0.0.1 - - [29/Apr/2022 16:53:16] \"POST /_dash-update-component HTTP/1.1\" 200 -\n"
     ]
    },
    {
     "name": "stdout",
     "output_type": "stream",
     "text": [
      "Exception on /_dash-update-component [POST]\n",
      "Traceback (most recent call last):\n",
      "  File \"/home/ayah/anaconda3/lib/python3.9/site-packages/dash/dash.py\", line 1306, in dispatch\n",
      "    cb = self.callback_map[output]\n",
      "KeyError: 'my_h1.children'\n",
      "\n",
      "The above exception was the direct cause of the following exception:\n",
      "\n",
      "Traceback (most recent call last):\n",
      "  File \"/home/ayah/anaconda3/lib/python3.9/site-packages/flask/app.py\", line 2447, in wsgi_app\n",
      "    response = self.full_dispatch_request()\n",
      "  File \"/home/ayah/anaconda3/lib/python3.9/site-packages/flask/app.py\", line 1952, in full_dispatch_request\n",
      "    rv = self.handle_user_exception(e)\n",
      "  File \"/home/ayah/anaconda3/lib/python3.9/site-packages/flask/app.py\", line 1821, in handle_user_exception\n",
      "    reraise(exc_type, exc_value, tb)\n",
      "  File \"/home/ayah/anaconda3/lib/python3.9/site-packages/flask/_compat.py\", line 39, in reraise\n",
      "    raise value\n",
      "  File \"/home/ayah/anaconda3/lib/python3.9/site-packages/flask/app.py\", line 1950, in full_dispatch_request\n",
      "    rv = self.dispatch_request()\n",
      "  File \"/home/ayah/anaconda3/lib/python3.9/site-packages/flask/app.py\", line 1936, in dispatch_request\n",
      "    return self.view_functions[rule.endpoint](**req.view_args)\n",
      "  File \"/home/ayah/anaconda3/lib/python3.9/site-packages/dash/dash.py\", line 1344, in dispatch\n",
      "    raise KeyError(msg.format(output)) from missing_callback_function\n",
      "KeyError: \"Callback function not found for output 'my_h1.children', perhaps you forgot to prepend the '@'?\"\n"
     ]
    },
    {
     "name": "stderr",
     "output_type": "stream",
     "text": [
      "127.0.0.1 - - [29/Apr/2022 16:53:16] \"POST /_dash-update-component HTTP/1.1\" 500 -\n"
     ]
    },
    {
     "name": "stdout",
     "output_type": "stream",
     "text": [
      "Exception on /_dash-update-component [POST]\n",
      "Traceback (most recent call last):\n",
      "  File \"/home/ayah/anaconda3/lib/python3.9/site-packages/dash/dash.py\", line 1306, in dispatch\n",
      "    cb = self.callback_map[output]\n",
      "KeyError: 'my_h1.children'\n",
      "\n",
      "The above exception was the direct cause of the following exception:\n",
      "\n",
      "Traceback (most recent call last):\n",
      "  File \"/home/ayah/anaconda3/lib/python3.9/site-packages/flask/app.py\", line 2447, in wsgi_app\n",
      "    response = self.full_dispatch_request()\n",
      "  File \"/home/ayah/anaconda3/lib/python3.9/site-packages/flask/app.py\", line 1952, in full_dispatch_request\n",
      "    rv = self.handle_user_exception(e)\n",
      "  File \"/home/ayah/anaconda3/lib/python3.9/site-packages/flask/app.py\", line 1821, in handle_user_exception\n",
      "    reraise(exc_type, exc_value, tb)\n",
      "  File \"/home/ayah/anaconda3/lib/python3.9/site-packages/flask/_compat.py\", line 39, in reraise\n",
      "    raise value\n",
      "  File \"/home/ayah/anaconda3/lib/python3.9/site-packages/flask/app.py\", line 1950, in full_dispatch_request\n",
      "    rv = self.dispatch_request()\n",
      "  File \"/home/ayah/anaconda3/lib/python3.9/site-packages/flask/app.py\", line 1936, in dispatch_request\n",
      "    return self.view_functions[rule.endpoint](**req.view_args)\n",
      "  File \"/home/ayah/anaconda3/lib/python3.9/site-packages/dash/dash.py\", line 1344, in dispatch\n",
      "    raise KeyError(msg.format(output)) from missing_callback_function\n",
      "KeyError: \"Callback function not found for output 'my_h1.children', perhaps you forgot to prepend the '@'?\"\n"
     ]
    },
    {
     "name": "stderr",
     "output_type": "stream",
     "text": [
      "127.0.0.1 - - [29/Apr/2022 16:53:16] \"POST /_dash-update-component HTTP/1.1\" 500 -\n"
     ]
    },
    {
     "name": "stdout",
     "output_type": "stream",
     "text": [
      "Exception on /_dash-update-component [POST]\n",
      "Traceback (most recent call last):\n",
      "  File \"/home/ayah/anaconda3/lib/python3.9/site-packages/dash/dash.py\", line 1306, in dispatch\n",
      "    cb = self.callback_map[output]\n",
      "KeyError: 'my_h1.children'\n",
      "\n",
      "The above exception was the direct cause of the following exception:\n",
      "\n",
      "Traceback (most recent call last):\n",
      "  File \"/home/ayah/anaconda3/lib/python3.9/site-packages/flask/app.py\", line 2447, in wsgi_app\n",
      "    response = self.full_dispatch_request()\n",
      "  File \"/home/ayah/anaconda3/lib/python3.9/site-packages/flask/app.py\", line 1952, in full_dispatch_request\n",
      "    rv = self.handle_user_exception(e)\n",
      "  File \"/home/ayah/anaconda3/lib/python3.9/site-packages/flask/app.py\", line 1821, in handle_user_exception\n",
      "    reraise(exc_type, exc_value, tb)\n",
      "  File \"/home/ayah/anaconda3/lib/python3.9/site-packages/flask/_compat.py\", line 39, in reraise\n",
      "    raise value\n",
      "  File \"/home/ayah/anaconda3/lib/python3.9/site-packages/flask/app.py\", line 1950, in full_dispatch_request\n",
      "    rv = self.dispatch_request()\n",
      "  File \"/home/ayah/anaconda3/lib/python3.9/site-packages/flask/app.py\", line 1936, in dispatch_request\n",
      "    return self.view_functions[rule.endpoint](**req.view_args)\n",
      "  File \"/home/ayah/anaconda3/lib/python3.9/site-packages/dash/dash.py\", line 1344, in dispatch\n",
      "    raise KeyError(msg.format(output)) from missing_callback_function\n",
      "KeyError: \"Callback function not found for output 'my_h1.children', perhaps you forgot to prepend the '@'?\"\n"
     ]
    },
    {
     "name": "stderr",
     "output_type": "stream",
     "text": [
      "127.0.0.1 - - [29/Apr/2022 16:53:18] \"POST /_dash-update-component HTTP/1.1\" 500 -\n"
     ]
    },
    {
     "name": "stdout",
     "output_type": "stream",
     "text": [
      "Exception on /_dash-update-component [POST]\n",
      "Traceback (most recent call last):\n",
      "  File \"/home/ayah/anaconda3/lib/python3.9/site-packages/dash/dash.py\", line 1306, in dispatch\n",
      "    cb = self.callback_map[output]\n",
      "KeyError: 'my_h1.children'\n",
      "\n",
      "The above exception was the direct cause of the following exception:\n",
      "\n",
      "Traceback (most recent call last):\n",
      "  File \"/home/ayah/anaconda3/lib/python3.9/site-packages/flask/app.py\", line 2447, in wsgi_app\n",
      "    response = self.full_dispatch_request()\n",
      "  File \"/home/ayah/anaconda3/lib/python3.9/site-packages/flask/app.py\", line 1952, in full_dispatch_request\n",
      "    rv = self.handle_user_exception(e)\n",
      "  File \"/home/ayah/anaconda3/lib/python3.9/site-packages/flask/app.py\", line 1821, in handle_user_exception\n",
      "    reraise(exc_type, exc_value, tb)\n",
      "  File \"/home/ayah/anaconda3/lib/python3.9/site-packages/flask/_compat.py\", line 39, in reraise\n",
      "    raise value\n",
      "  File \"/home/ayah/anaconda3/lib/python3.9/site-packages/flask/app.py\", line 1950, in full_dispatch_request\n",
      "    rv = self.dispatch_request()\n",
      "  File \"/home/ayah/anaconda3/lib/python3.9/site-packages/flask/app.py\", line 1936, in dispatch_request\n",
      "    return self.view_functions[rule.endpoint](**req.view_args)\n",
      "  File \"/home/ayah/anaconda3/lib/python3.9/site-packages/dash/dash.py\", line 1344, in dispatch\n",
      "    raise KeyError(msg.format(output)) from missing_callback_function\n",
      "KeyError: \"Callback function not found for output 'my_h1.children', perhaps you forgot to prepend the '@'?\"\n"
     ]
    },
    {
     "name": "stderr",
     "output_type": "stream",
     "text": [
      "127.0.0.1 - - [29/Apr/2022 16:53:20] \"POST /_dash-update-component HTTP/1.1\" 500 -\n"
     ]
    },
    {
     "name": "stdout",
     "output_type": "stream",
     "text": [
      "Exception on /_dash-update-component [POST]\n",
      "Traceback (most recent call last):\n",
      "  File \"/home/ayah/anaconda3/lib/python3.9/site-packages/dash/dash.py\", line 1306, in dispatch\n",
      "    cb = self.callback_map[output]\n",
      "KeyError: 'my_h1.children'\n",
      "\n",
      "The above exception was the direct cause of the following exception:\n",
      "\n",
      "Traceback (most recent call last):\n",
      "  File \"/home/ayah/anaconda3/lib/python3.9/site-packages/flask/app.py\", line 2447, in wsgi_app\n",
      "    response = self.full_dispatch_request()\n",
      "  File \"/home/ayah/anaconda3/lib/python3.9/site-packages/flask/app.py\", line 1952, in full_dispatch_request\n",
      "    rv = self.handle_user_exception(e)\n",
      "  File \"/home/ayah/anaconda3/lib/python3.9/site-packages/flask/app.py\", line 1821, in handle_user_exception\n",
      "    reraise(exc_type, exc_value, tb)\n",
      "  File \"/home/ayah/anaconda3/lib/python3.9/site-packages/flask/_compat.py\", line 39, in reraise\n",
      "    raise value\n",
      "  File \"/home/ayah/anaconda3/lib/python3.9/site-packages/flask/app.py\", line 1950, in full_dispatch_request\n",
      "    rv = self.dispatch_request()\n",
      "  File \"/home/ayah/anaconda3/lib/python3.9/site-packages/flask/app.py\", line 1936, in dispatch_request\n",
      "    return self.view_functions[rule.endpoint](**req.view_args)\n",
      "  File \"/home/ayah/anaconda3/lib/python3.9/site-packages/dash/dash.py\", line 1344, in dispatch\n",
      "    raise KeyError(msg.format(output)) from missing_callback_function\n",
      "KeyError: \"Callback function not found for output 'my_h1.children', perhaps you forgot to prepend the '@'?\"\n"
     ]
    },
    {
     "name": "stderr",
     "output_type": "stream",
     "text": [
      "127.0.0.1 - - [29/Apr/2022 16:53:21] \"POST /_dash-update-component HTTP/1.1\" 500 -\n"
     ]
    },
    {
     "name": "stdout",
     "output_type": "stream",
     "text": [
      "Exception on /_dash-update-component [POST]\n",
      "Traceback (most recent call last):\n",
      "  File \"/home/ayah/anaconda3/lib/python3.9/site-packages/dash/dash.py\", line 1306, in dispatch\n",
      "    cb = self.callback_map[output]\n",
      "KeyError: 'my_h1.children'\n",
      "\n",
      "The above exception was the direct cause of the following exception:\n",
      "\n",
      "Traceback (most recent call last):\n",
      "  File \"/home/ayah/anaconda3/lib/python3.9/site-packages/flask/app.py\", line 2447, in wsgi_app\n",
      "    response = self.full_dispatch_request()\n",
      "  File \"/home/ayah/anaconda3/lib/python3.9/site-packages/flask/app.py\", line 1952, in full_dispatch_request\n",
      "    rv = self.handle_user_exception(e)\n",
      "  File \"/home/ayah/anaconda3/lib/python3.9/site-packages/flask/app.py\", line 1821, in handle_user_exception\n",
      "    reraise(exc_type, exc_value, tb)\n",
      "  File \"/home/ayah/anaconda3/lib/python3.9/site-packages/flask/_compat.py\", line 39, in reraise\n",
      "    raise value\n",
      "  File \"/home/ayah/anaconda3/lib/python3.9/site-packages/flask/app.py\", line 1950, in full_dispatch_request\n",
      "    rv = self.dispatch_request()\n",
      "  File \"/home/ayah/anaconda3/lib/python3.9/site-packages/flask/app.py\", line 1936, in dispatch_request\n",
      "    return self.view_functions[rule.endpoint](**req.view_args)\n",
      "  File \"/home/ayah/anaconda3/lib/python3.9/site-packages/dash/dash.py\", line 1344, in dispatch\n",
      "    raise KeyError(msg.format(output)) from missing_callback_function\n",
      "KeyError: \"Callback function not found for output 'my_h1.children', perhaps you forgot to prepend the '@'?\"\n"
     ]
    },
    {
     "name": "stderr",
     "output_type": "stream",
     "text": [
      "127.0.0.1 - - [29/Apr/2022 16:53:21] \"POST /_dash-update-component HTTP/1.1\" 500 -\n"
     ]
    },
    {
     "name": "stdout",
     "output_type": "stream",
     "text": [
      "Exception on /_dash-update-component [POST]\n",
      "Traceback (most recent call last):\n",
      "  File \"/home/ayah/anaconda3/lib/python3.9/site-packages/dash/dash.py\", line 1306, in dispatch\n",
      "    cb = self.callback_map[output]\n",
      "KeyError: 'my_h1.children'\n",
      "\n",
      "The above exception was the direct cause of the following exception:\n",
      "\n",
      "Traceback (most recent call last):\n",
      "  File \"/home/ayah/anaconda3/lib/python3.9/site-packages/flask/app.py\", line 2447, in wsgi_app\n",
      "    response = self.full_dispatch_request()\n",
      "  File \"/home/ayah/anaconda3/lib/python3.9/site-packages/flask/app.py\", line 1952, in full_dispatch_request\n",
      "    rv = self.handle_user_exception(e)\n",
      "  File \"/home/ayah/anaconda3/lib/python3.9/site-packages/flask/app.py\", line 1821, in handle_user_exception\n",
      "    reraise(exc_type, exc_value, tb)\n",
      "  File \"/home/ayah/anaconda3/lib/python3.9/site-packages/flask/_compat.py\", line 39, in reraise\n",
      "    raise value\n",
      "  File \"/home/ayah/anaconda3/lib/python3.9/site-packages/flask/app.py\", line 1950, in full_dispatch_request\n",
      "    rv = self.dispatch_request()\n",
      "  File \"/home/ayah/anaconda3/lib/python3.9/site-packages/flask/app.py\", line 1936, in dispatch_request\n",
      "    return self.view_functions[rule.endpoint](**req.view_args)\n",
      "  File \"/home/ayah/anaconda3/lib/python3.9/site-packages/dash/dash.py\", line 1344, in dispatch\n",
      "    raise KeyError(msg.format(output)) from missing_callback_function\n",
      "KeyError: \"Callback function not found for output 'my_h1.children', perhaps you forgot to prepend the '@'?\"\n"
     ]
    },
    {
     "name": "stderr",
     "output_type": "stream",
     "text": [
      "127.0.0.1 - - [29/Apr/2022 16:53:23] \"POST /_dash-update-component HTTP/1.1\" 500 -\n"
     ]
    },
    {
     "name": "stdout",
     "output_type": "stream",
     "text": [
      "Exception on /_dash-update-component [POST]\n",
      "Traceback (most recent call last):\n",
      "  File \"/home/ayah/anaconda3/lib/python3.9/site-packages/dash/dash.py\", line 1306, in dispatch\n",
      "    cb = self.callback_map[output]\n",
      "KeyError: 'my_h1.children'\n",
      "\n",
      "The above exception was the direct cause of the following exception:\n",
      "\n",
      "Traceback (most recent call last):\n",
      "  File \"/home/ayah/anaconda3/lib/python3.9/site-packages/flask/app.py\", line 2447, in wsgi_app\n",
      "    response = self.full_dispatch_request()\n",
      "  File \"/home/ayah/anaconda3/lib/python3.9/site-packages/flask/app.py\", line 1952, in full_dispatch_request\n",
      "    rv = self.handle_user_exception(e)\n",
      "  File \"/home/ayah/anaconda3/lib/python3.9/site-packages/flask/app.py\", line 1821, in handle_user_exception\n",
      "    reraise(exc_type, exc_value, tb)\n",
      "  File \"/home/ayah/anaconda3/lib/python3.9/site-packages/flask/_compat.py\", line 39, in reraise\n",
      "    raise value\n",
      "  File \"/home/ayah/anaconda3/lib/python3.9/site-packages/flask/app.py\", line 1950, in full_dispatch_request\n",
      "    rv = self.dispatch_request()\n",
      "  File \"/home/ayah/anaconda3/lib/python3.9/site-packages/flask/app.py\", line 1936, in dispatch_request\n",
      "    return self.view_functions[rule.endpoint](**req.view_args)\n",
      "  File \"/home/ayah/anaconda3/lib/python3.9/site-packages/dash/dash.py\", line 1344, in dispatch\n",
      "    raise KeyError(msg.format(output)) from missing_callback_function\n",
      "KeyError: \"Callback function not found for output 'my_h1.children', perhaps you forgot to prepend the '@'?\"\n"
     ]
    },
    {
     "name": "stderr",
     "output_type": "stream",
     "text": [
      "127.0.0.1 - - [29/Apr/2022 16:53:25] \"POST /_dash-update-component HTTP/1.1\" 500 -\n"
     ]
    },
    {
     "name": "stdout",
     "output_type": "stream",
     "text": [
      "Exception on /_dash-update-component [POST]\n",
      "Traceback (most recent call last):\n",
      "  File \"/home/ayah/anaconda3/lib/python3.9/site-packages/dash/dash.py\", line 1306, in dispatch\n",
      "    cb = self.callback_map[output]\n",
      "KeyError: 'my_h1.children'\n",
      "\n",
      "The above exception was the direct cause of the following exception:\n",
      "\n",
      "Traceback (most recent call last):\n",
      "  File \"/home/ayah/anaconda3/lib/python3.9/site-packages/flask/app.py\", line 2447, in wsgi_app\n",
      "    response = self.full_dispatch_request()\n",
      "  File \"/home/ayah/anaconda3/lib/python3.9/site-packages/flask/app.py\", line 1952, in full_dispatch_request\n",
      "    rv = self.handle_user_exception(e)\n",
      "  File \"/home/ayah/anaconda3/lib/python3.9/site-packages/flask/app.py\", line 1821, in handle_user_exception\n",
      "    reraise(exc_type, exc_value, tb)\n",
      "  File \"/home/ayah/anaconda3/lib/python3.9/site-packages/flask/_compat.py\", line 39, in reraise\n",
      "    raise value\n",
      "  File \"/home/ayah/anaconda3/lib/python3.9/site-packages/flask/app.py\", line 1950, in full_dispatch_request\n",
      "    rv = self.dispatch_request()\n",
      "  File \"/home/ayah/anaconda3/lib/python3.9/site-packages/flask/app.py\", line 1936, in dispatch_request\n",
      "    return self.view_functions[rule.endpoint](**req.view_args)\n",
      "  File \"/home/ayah/anaconda3/lib/python3.9/site-packages/dash/dash.py\", line 1344, in dispatch\n",
      "    raise KeyError(msg.format(output)) from missing_callback_function\n",
      "KeyError: \"Callback function not found for output 'my_h1.children', perhaps you forgot to prepend the '@'?\"\n"
     ]
    },
    {
     "name": "stderr",
     "output_type": "stream",
     "text": [
      "127.0.0.1 - - [29/Apr/2022 16:53:26] \"POST /_dash-update-component HTTP/1.1\" 500 -\n"
     ]
    },
    {
     "name": "stdout",
     "output_type": "stream",
     "text": [
      "Exception on /_dash-update-component [POST]\n",
      "Traceback (most recent call last):\n",
      "  File \"/home/ayah/anaconda3/lib/python3.9/site-packages/dash/dash.py\", line 1306, in dispatch\n",
      "    cb = self.callback_map[output]\n",
      "KeyError: 'my_h1.children'\n",
      "\n",
      "The above exception was the direct cause of the following exception:\n",
      "\n",
      "Traceback (most recent call last):\n",
      "  File \"/home/ayah/anaconda3/lib/python3.9/site-packages/flask/app.py\", line 2447, in wsgi_app\n",
      "    response = self.full_dispatch_request()\n",
      "  File \"/home/ayah/anaconda3/lib/python3.9/site-packages/flask/app.py\", line 1952, in full_dispatch_request\n",
      "    rv = self.handle_user_exception(e)\n",
      "  File \"/home/ayah/anaconda3/lib/python3.9/site-packages/flask/app.py\", line 1821, in handle_user_exception\n",
      "    reraise(exc_type, exc_value, tb)\n",
      "  File \"/home/ayah/anaconda3/lib/python3.9/site-packages/flask/_compat.py\", line 39, in reraise\n",
      "    raise value\n",
      "  File \"/home/ayah/anaconda3/lib/python3.9/site-packages/flask/app.py\", line 1950, in full_dispatch_request\n",
      "    rv = self.dispatch_request()\n",
      "  File \"/home/ayah/anaconda3/lib/python3.9/site-packages/flask/app.py\", line 1936, in dispatch_request\n",
      "    return self.view_functions[rule.endpoint](**req.view_args)\n",
      "  File \"/home/ayah/anaconda3/lib/python3.9/site-packages/dash/dash.py\", line 1344, in dispatch\n",
      "    raise KeyError(msg.format(output)) from missing_callback_function\n",
      "KeyError: \"Callback function not found for output 'my_h1.children', perhaps you forgot to prepend the '@'?\"\n"
     ]
    },
    {
     "name": "stderr",
     "output_type": "stream",
     "text": [
      "127.0.0.1 - - [29/Apr/2022 16:53:26] \"POST /_dash-update-component HTTP/1.1\" 500 -\n"
     ]
    },
    {
     "name": "stdout",
     "output_type": "stream",
     "text": [
      "Exception on /_dash-update-component [POST]\n",
      "Traceback (most recent call last):\n",
      "  File \"/home/ayah/anaconda3/lib/python3.9/site-packages/dash/dash.py\", line 1306, in dispatch\n",
      "    cb = self.callback_map[output]\n",
      "KeyError: 'my_h1.children'\n",
      "\n",
      "The above exception was the direct cause of the following exception:\n",
      "\n",
      "Traceback (most recent call last):\n",
      "  File \"/home/ayah/anaconda3/lib/python3.9/site-packages/flask/app.py\", line 2447, in wsgi_app\n",
      "    response = self.full_dispatch_request()\n",
      "  File \"/home/ayah/anaconda3/lib/python3.9/site-packages/flask/app.py\", line 1952, in full_dispatch_request\n",
      "    rv = self.handle_user_exception(e)\n",
      "  File \"/home/ayah/anaconda3/lib/python3.9/site-packages/flask/app.py\", line 1821, in handle_user_exception\n",
      "    reraise(exc_type, exc_value, tb)\n",
      "  File \"/home/ayah/anaconda3/lib/python3.9/site-packages/flask/_compat.py\", line 39, in reraise\n",
      "    raise value\n",
      "  File \"/home/ayah/anaconda3/lib/python3.9/site-packages/flask/app.py\", line 1950, in full_dispatch_request\n",
      "    rv = self.dispatch_request()\n",
      "  File \"/home/ayah/anaconda3/lib/python3.9/site-packages/flask/app.py\", line 1936, in dispatch_request\n",
      "    return self.view_functions[rule.endpoint](**req.view_args)\n",
      "  File \"/home/ayah/anaconda3/lib/python3.9/site-packages/dash/dash.py\", line 1344, in dispatch\n",
      "    raise KeyError(msg.format(output)) from missing_callback_function\n",
      "KeyError: \"Callback function not found for output 'my_h1.children', perhaps you forgot to prepend the '@'?\"\n"
     ]
    },
    {
     "name": "stderr",
     "output_type": "stream",
     "text": [
      "127.0.0.1 - - [29/Apr/2022 16:53:28] \"POST /_dash-update-component HTTP/1.1\" 500 -\n"
     ]
    },
    {
     "name": "stdout",
     "output_type": "stream",
     "text": [
      "Exception on /_dash-update-component [POST]\n",
      "Traceback (most recent call last):\n",
      "  File \"/home/ayah/anaconda3/lib/python3.9/site-packages/dash/dash.py\", line 1306, in dispatch\n",
      "    cb = self.callback_map[output]\n",
      "KeyError: 'my_h1.children'\n",
      "\n",
      "The above exception was the direct cause of the following exception:\n",
      "\n",
      "Traceback (most recent call last):\n",
      "  File \"/home/ayah/anaconda3/lib/python3.9/site-packages/flask/app.py\", line 2447, in wsgi_app\n",
      "    response = self.full_dispatch_request()\n",
      "  File \"/home/ayah/anaconda3/lib/python3.9/site-packages/flask/app.py\", line 1952, in full_dispatch_request\n",
      "    rv = self.handle_user_exception(e)\n",
      "  File \"/home/ayah/anaconda3/lib/python3.9/site-packages/flask/app.py\", line 1821, in handle_user_exception\n",
      "    reraise(exc_type, exc_value, tb)\n",
      "  File \"/home/ayah/anaconda3/lib/python3.9/site-packages/flask/_compat.py\", line 39, in reraise\n",
      "    raise value\n",
      "  File \"/home/ayah/anaconda3/lib/python3.9/site-packages/flask/app.py\", line 1950, in full_dispatch_request\n",
      "    rv = self.dispatch_request()\n",
      "  File \"/home/ayah/anaconda3/lib/python3.9/site-packages/flask/app.py\", line 1936, in dispatch_request\n",
      "    return self.view_functions[rule.endpoint](**req.view_args)\n",
      "  File \"/home/ayah/anaconda3/lib/python3.9/site-packages/dash/dash.py\", line 1344, in dispatch\n",
      "    raise KeyError(msg.format(output)) from missing_callback_function\n",
      "KeyError: \"Callback function not found for output 'my_h1.children', perhaps you forgot to prepend the '@'?\"\n"
     ]
    },
    {
     "name": "stderr",
     "output_type": "stream",
     "text": [
      "127.0.0.1 - - [29/Apr/2022 16:53:30] \"POST /_dash-update-component HTTP/1.1\" 500 -\n"
     ]
    },
    {
     "name": "stdout",
     "output_type": "stream",
     "text": [
      "Exception on /_dash-update-component [POST]\n",
      "Traceback (most recent call last):\n",
      "  File \"/home/ayah/anaconda3/lib/python3.9/site-packages/dash/dash.py\", line 1306, in dispatch\n",
      "    cb = self.callback_map[output]\n",
      "KeyError: 'my_h1.children'\n",
      "\n",
      "The above exception was the direct cause of the following exception:\n",
      "\n",
      "Traceback (most recent call last):\n",
      "  File \"/home/ayah/anaconda3/lib/python3.9/site-packages/flask/app.py\", line 2447, in wsgi_app\n",
      "    response = self.full_dispatch_request()\n",
      "  File \"/home/ayah/anaconda3/lib/python3.9/site-packages/flask/app.py\", line 1952, in full_dispatch_request\n",
      "    rv = self.handle_user_exception(e)\n",
      "  File \"/home/ayah/anaconda3/lib/python3.9/site-packages/flask/app.py\", line 1821, in handle_user_exception\n",
      "    reraise(exc_type, exc_value, tb)\n",
      "  File \"/home/ayah/anaconda3/lib/python3.9/site-packages/flask/_compat.py\", line 39, in reraise\n",
      "    raise value\n",
      "  File \"/home/ayah/anaconda3/lib/python3.9/site-packages/flask/app.py\", line 1950, in full_dispatch_request\n",
      "    rv = self.dispatch_request()\n",
      "  File \"/home/ayah/anaconda3/lib/python3.9/site-packages/flask/app.py\", line 1936, in dispatch_request\n",
      "    return self.view_functions[rule.endpoint](**req.view_args)\n",
      "  File \"/home/ayah/anaconda3/lib/python3.9/site-packages/dash/dash.py\", line 1344, in dispatch\n",
      "    raise KeyError(msg.format(output)) from missing_callback_function\n",
      "KeyError: \"Callback function not found for output 'my_h1.children', perhaps you forgot to prepend the '@'?\"\n"
     ]
    },
    {
     "name": "stderr",
     "output_type": "stream",
     "text": [
      "127.0.0.1 - - [29/Apr/2022 16:53:31] \"POST /_dash-update-component HTTP/1.1\" 500 -\n"
     ]
    },
    {
     "name": "stdout",
     "output_type": "stream",
     "text": [
      "Exception on /_dash-update-component [POST]\n",
      "Traceback (most recent call last):\n",
      "  File \"/home/ayah/anaconda3/lib/python3.9/site-packages/dash/dash.py\", line 1306, in dispatch\n",
      "    cb = self.callback_map[output]\n",
      "KeyError: 'my_h1.children'\n",
      "\n",
      "The above exception was the direct cause of the following exception:\n",
      "\n",
      "Traceback (most recent call last):\n",
      "  File \"/home/ayah/anaconda3/lib/python3.9/site-packages/flask/app.py\", line 2447, in wsgi_app\n",
      "    response = self.full_dispatch_request()\n",
      "  File \"/home/ayah/anaconda3/lib/python3.9/site-packages/flask/app.py\", line 1952, in full_dispatch_request\n",
      "    rv = self.handle_user_exception(e)\n",
      "  File \"/home/ayah/anaconda3/lib/python3.9/site-packages/flask/app.py\", line 1821, in handle_user_exception\n",
      "    reraise(exc_type, exc_value, tb)\n",
      "  File \"/home/ayah/anaconda3/lib/python3.9/site-packages/flask/_compat.py\", line 39, in reraise\n",
      "    raise value\n",
      "  File \"/home/ayah/anaconda3/lib/python3.9/site-packages/flask/app.py\", line 1950, in full_dispatch_request\n",
      "    rv = self.dispatch_request()\n",
      "  File \"/home/ayah/anaconda3/lib/python3.9/site-packages/flask/app.py\", line 1936, in dispatch_request\n",
      "    return self.view_functions[rule.endpoint](**req.view_args)\n",
      "  File \"/home/ayah/anaconda3/lib/python3.9/site-packages/dash/dash.py\", line 1344, in dispatch\n",
      "    raise KeyError(msg.format(output)) from missing_callback_function\n",
      "KeyError: \"Callback function not found for output 'my_h1.children', perhaps you forgot to prepend the '@'?\"\n"
     ]
    },
    {
     "name": "stderr",
     "output_type": "stream",
     "text": [
      "127.0.0.1 - - [29/Apr/2022 16:53:31] \"POST /_dash-update-component HTTP/1.1\" 500 -\n"
     ]
    },
    {
     "name": "stdout",
     "output_type": "stream",
     "text": [
      "Exception on /_dash-update-component [POST]\n",
      "Traceback (most recent call last):\n",
      "  File \"/home/ayah/anaconda3/lib/python3.9/site-packages/dash/dash.py\", line 1306, in dispatch\n",
      "    cb = self.callback_map[output]\n",
      "KeyError: 'my_h1.children'\n",
      "\n",
      "The above exception was the direct cause of the following exception:\n",
      "\n",
      "Traceback (most recent call last):\n",
      "  File \"/home/ayah/anaconda3/lib/python3.9/site-packages/flask/app.py\", line 2447, in wsgi_app\n",
      "    response = self.full_dispatch_request()\n",
      "  File \"/home/ayah/anaconda3/lib/python3.9/site-packages/flask/app.py\", line 1952, in full_dispatch_request\n",
      "    rv = self.handle_user_exception(e)\n",
      "  File \"/home/ayah/anaconda3/lib/python3.9/site-packages/flask/app.py\", line 1821, in handle_user_exception\n",
      "    reraise(exc_type, exc_value, tb)\n",
      "  File \"/home/ayah/anaconda3/lib/python3.9/site-packages/flask/_compat.py\", line 39, in reraise\n",
      "    raise value\n",
      "  File \"/home/ayah/anaconda3/lib/python3.9/site-packages/flask/app.py\", line 1950, in full_dispatch_request\n",
      "    rv = self.dispatch_request()\n",
      "  File \"/home/ayah/anaconda3/lib/python3.9/site-packages/flask/app.py\", line 1936, in dispatch_request\n",
      "    return self.view_functions[rule.endpoint](**req.view_args)\n",
      "  File \"/home/ayah/anaconda3/lib/python3.9/site-packages/dash/dash.py\", line 1344, in dispatch\n",
      "    raise KeyError(msg.format(output)) from missing_callback_function\n",
      "KeyError: \"Callback function not found for output 'my_h1.children', perhaps you forgot to prepend the '@'?\"\n"
     ]
    },
    {
     "name": "stderr",
     "output_type": "stream",
     "text": [
      "127.0.0.1 - - [29/Apr/2022 16:53:33] \"POST /_dash-update-component HTTP/1.1\" 500 -\n"
     ]
    },
    {
     "name": "stdout",
     "output_type": "stream",
     "text": [
      "Exception on /_dash-update-component [POST]\n",
      "Traceback (most recent call last):\n",
      "  File \"/home/ayah/anaconda3/lib/python3.9/site-packages/dash/dash.py\", line 1306, in dispatch\n",
      "    cb = self.callback_map[output]\n",
      "KeyError: 'my_h1.children'\n",
      "\n",
      "The above exception was the direct cause of the following exception:\n",
      "\n",
      "Traceback (most recent call last):\n",
      "  File \"/home/ayah/anaconda3/lib/python3.9/site-packages/flask/app.py\", line 2447, in wsgi_app\n",
      "    response = self.full_dispatch_request()\n",
      "  File \"/home/ayah/anaconda3/lib/python3.9/site-packages/flask/app.py\", line 1952, in full_dispatch_request\n",
      "    rv = self.handle_user_exception(e)\n",
      "  File \"/home/ayah/anaconda3/lib/python3.9/site-packages/flask/app.py\", line 1821, in handle_user_exception\n",
      "    reraise(exc_type, exc_value, tb)\n",
      "  File \"/home/ayah/anaconda3/lib/python3.9/site-packages/flask/_compat.py\", line 39, in reraise\n",
      "    raise value\n",
      "  File \"/home/ayah/anaconda3/lib/python3.9/site-packages/flask/app.py\", line 1950, in full_dispatch_request\n",
      "    rv = self.dispatch_request()\n",
      "  File \"/home/ayah/anaconda3/lib/python3.9/site-packages/flask/app.py\", line 1936, in dispatch_request\n",
      "    return self.view_functions[rule.endpoint](**req.view_args)\n",
      "  File \"/home/ayah/anaconda3/lib/python3.9/site-packages/dash/dash.py\", line 1344, in dispatch\n",
      "    raise KeyError(msg.format(output)) from missing_callback_function\n",
      "KeyError: \"Callback function not found for output 'my_h1.children', perhaps you forgot to prepend the '@'?\"\n"
     ]
    },
    {
     "name": "stderr",
     "output_type": "stream",
     "text": [
      "127.0.0.1 - - [29/Apr/2022 16:53:35] \"POST /_dash-update-component HTTP/1.1\" 500 -\n"
     ]
    },
    {
     "name": "stdout",
     "output_type": "stream",
     "text": [
      "Exception on /_dash-update-component [POST]\n",
      "Traceback (most recent call last):\n",
      "  File \"/home/ayah/anaconda3/lib/python3.9/site-packages/dash/dash.py\", line 1306, in dispatch\n",
      "    cb = self.callback_map[output]\n",
      "KeyError: 'my_h1.children'\n",
      "\n",
      "The above exception was the direct cause of the following exception:\n",
      "\n",
      "Traceback (most recent call last):\n",
      "  File \"/home/ayah/anaconda3/lib/python3.9/site-packages/flask/app.py\", line 2447, in wsgi_app\n",
      "    response = self.full_dispatch_request()\n",
      "  File \"/home/ayah/anaconda3/lib/python3.9/site-packages/flask/app.py\", line 1952, in full_dispatch_request\n",
      "    rv = self.handle_user_exception(e)\n",
      "  File \"/home/ayah/anaconda3/lib/python3.9/site-packages/flask/app.py\", line 1821, in handle_user_exception\n",
      "    reraise(exc_type, exc_value, tb)\n",
      "  File \"/home/ayah/anaconda3/lib/python3.9/site-packages/flask/_compat.py\", line 39, in reraise\n",
      "    raise value\n",
      "  File \"/home/ayah/anaconda3/lib/python3.9/site-packages/flask/app.py\", line 1950, in full_dispatch_request\n",
      "    rv = self.dispatch_request()\n",
      "  File \"/home/ayah/anaconda3/lib/python3.9/site-packages/flask/app.py\", line 1936, in dispatch_request\n",
      "    return self.view_functions[rule.endpoint](**req.view_args)\n",
      "  File \"/home/ayah/anaconda3/lib/python3.9/site-packages/dash/dash.py\", line 1344, in dispatch\n",
      "    raise KeyError(msg.format(output)) from missing_callback_function\n",
      "KeyError: \"Callback function not found for output 'my_h1.children', perhaps you forgot to prepend the '@'?\"\n"
     ]
    },
    {
     "name": "stderr",
     "output_type": "stream",
     "text": [
      "127.0.0.1 - - [29/Apr/2022 16:53:36] \"POST /_dash-update-component HTTP/1.1\" 500 -\n"
     ]
    },
    {
     "name": "stdout",
     "output_type": "stream",
     "text": [
      "Exception on /_dash-update-component [POST]\n",
      "Traceback (most recent call last):\n",
      "  File \"/home/ayah/anaconda3/lib/python3.9/site-packages/dash/dash.py\", line 1306, in dispatch\n",
      "    cb = self.callback_map[output]\n",
      "KeyError: 'my_h1.children'\n",
      "\n",
      "The above exception was the direct cause of the following exception:\n",
      "\n",
      "Traceback (most recent call last):\n",
      "  File \"/home/ayah/anaconda3/lib/python3.9/site-packages/flask/app.py\", line 2447, in wsgi_app\n",
      "    response = self.full_dispatch_request()\n",
      "  File \"/home/ayah/anaconda3/lib/python3.9/site-packages/flask/app.py\", line 1952, in full_dispatch_request\n",
      "    rv = self.handle_user_exception(e)\n",
      "  File \"/home/ayah/anaconda3/lib/python3.9/site-packages/flask/app.py\", line 1821, in handle_user_exception\n",
      "    reraise(exc_type, exc_value, tb)\n",
      "  File \"/home/ayah/anaconda3/lib/python3.9/site-packages/flask/_compat.py\", line 39, in reraise\n",
      "    raise value\n",
      "  File \"/home/ayah/anaconda3/lib/python3.9/site-packages/flask/app.py\", line 1950, in full_dispatch_request\n",
      "    rv = self.dispatch_request()\n",
      "  File \"/home/ayah/anaconda3/lib/python3.9/site-packages/flask/app.py\", line 1936, in dispatch_request\n",
      "    return self.view_functions[rule.endpoint](**req.view_args)\n",
      "  File \"/home/ayah/anaconda3/lib/python3.9/site-packages/dash/dash.py\", line 1344, in dispatch\n",
      "    raise KeyError(msg.format(output)) from missing_callback_function\n",
      "KeyError: \"Callback function not found for output 'my_h1.children', perhaps you forgot to prepend the '@'?\"\n"
     ]
    },
    {
     "name": "stderr",
     "output_type": "stream",
     "text": [
      "127.0.0.1 - - [29/Apr/2022 16:53:36] \"POST /_dash-update-component HTTP/1.1\" 500 -\n"
     ]
    },
    {
     "name": "stdout",
     "output_type": "stream",
     "text": [
      "Exception on /_dash-update-component [POST]\n",
      "Traceback (most recent call last):\n",
      "  File \"/home/ayah/anaconda3/lib/python3.9/site-packages/dash/dash.py\", line 1306, in dispatch\n",
      "    cb = self.callback_map[output]\n",
      "KeyError: 'my_h1.children'\n",
      "\n",
      "The above exception was the direct cause of the following exception:\n",
      "\n",
      "Traceback (most recent call last):\n",
      "  File \"/home/ayah/anaconda3/lib/python3.9/site-packages/flask/app.py\", line 2447, in wsgi_app\n",
      "    response = self.full_dispatch_request()\n",
      "  File \"/home/ayah/anaconda3/lib/python3.9/site-packages/flask/app.py\", line 1952, in full_dispatch_request\n",
      "    rv = self.handle_user_exception(e)\n",
      "  File \"/home/ayah/anaconda3/lib/python3.9/site-packages/flask/app.py\", line 1821, in handle_user_exception\n",
      "    reraise(exc_type, exc_value, tb)\n",
      "  File \"/home/ayah/anaconda3/lib/python3.9/site-packages/flask/_compat.py\", line 39, in reraise\n",
      "    raise value\n",
      "  File \"/home/ayah/anaconda3/lib/python3.9/site-packages/flask/app.py\", line 1950, in full_dispatch_request\n",
      "    rv = self.dispatch_request()\n",
      "  File \"/home/ayah/anaconda3/lib/python3.9/site-packages/flask/app.py\", line 1936, in dispatch_request\n",
      "    return self.view_functions[rule.endpoint](**req.view_args)\n",
      "  File \"/home/ayah/anaconda3/lib/python3.9/site-packages/dash/dash.py\", line 1344, in dispatch\n",
      "    raise KeyError(msg.format(output)) from missing_callback_function\n",
      "KeyError: \"Callback function not found for output 'my_h1.children', perhaps you forgot to prepend the '@'?\"\n"
     ]
    },
    {
     "name": "stderr",
     "output_type": "stream",
     "text": [
      "127.0.0.1 - - [29/Apr/2022 16:53:38] \"POST /_dash-update-component HTTP/1.1\" 500 -\n"
     ]
    },
    {
     "name": "stdout",
     "output_type": "stream",
     "text": [
      "Exception on /_dash-update-component [POST]\n",
      "Traceback (most recent call last):\n",
      "  File \"/home/ayah/anaconda3/lib/python3.9/site-packages/dash/dash.py\", line 1306, in dispatch\n",
      "    cb = self.callback_map[output]\n",
      "KeyError: 'my_h1.children'\n",
      "\n",
      "The above exception was the direct cause of the following exception:\n",
      "\n",
      "Traceback (most recent call last):\n",
      "  File \"/home/ayah/anaconda3/lib/python3.9/site-packages/flask/app.py\", line 2447, in wsgi_app\n",
      "    response = self.full_dispatch_request()\n",
      "  File \"/home/ayah/anaconda3/lib/python3.9/site-packages/flask/app.py\", line 1952, in full_dispatch_request\n",
      "    rv = self.handle_user_exception(e)\n",
      "  File \"/home/ayah/anaconda3/lib/python3.9/site-packages/flask/app.py\", line 1821, in handle_user_exception\n",
      "    reraise(exc_type, exc_value, tb)\n",
      "  File \"/home/ayah/anaconda3/lib/python3.9/site-packages/flask/_compat.py\", line 39, in reraise\n",
      "    raise value\n",
      "  File \"/home/ayah/anaconda3/lib/python3.9/site-packages/flask/app.py\", line 1950, in full_dispatch_request\n",
      "    rv = self.dispatch_request()\n",
      "  File \"/home/ayah/anaconda3/lib/python3.9/site-packages/flask/app.py\", line 1936, in dispatch_request\n",
      "    return self.view_functions[rule.endpoint](**req.view_args)\n",
      "  File \"/home/ayah/anaconda3/lib/python3.9/site-packages/dash/dash.py\", line 1344, in dispatch\n",
      "    raise KeyError(msg.format(output)) from missing_callback_function\n",
      "KeyError: \"Callback function not found for output 'my_h1.children', perhaps you forgot to prepend the '@'?\"\n"
     ]
    },
    {
     "name": "stderr",
     "output_type": "stream",
     "text": [
      "127.0.0.1 - - [29/Apr/2022 16:53:40] \"POST /_dash-update-component HTTP/1.1\" 500 -\n"
     ]
    },
    {
     "name": "stdout",
     "output_type": "stream",
     "text": [
      "Exception on /_dash-update-component [POST]\n",
      "Traceback (most recent call last):\n",
      "  File \"/home/ayah/anaconda3/lib/python3.9/site-packages/dash/dash.py\", line 1306, in dispatch\n",
      "    cb = self.callback_map[output]\n",
      "KeyError: 'my_h1.children'\n",
      "\n",
      "The above exception was the direct cause of the following exception:\n",
      "\n",
      "Traceback (most recent call last):\n",
      "  File \"/home/ayah/anaconda3/lib/python3.9/site-packages/flask/app.py\", line 2447, in wsgi_app\n",
      "    response = self.full_dispatch_request()\n",
      "  File \"/home/ayah/anaconda3/lib/python3.9/site-packages/flask/app.py\", line 1952, in full_dispatch_request\n",
      "    rv = self.handle_user_exception(e)\n",
      "  File \"/home/ayah/anaconda3/lib/python3.9/site-packages/flask/app.py\", line 1821, in handle_user_exception\n",
      "    reraise(exc_type, exc_value, tb)\n",
      "  File \"/home/ayah/anaconda3/lib/python3.9/site-packages/flask/_compat.py\", line 39, in reraise\n",
      "    raise value\n",
      "  File \"/home/ayah/anaconda3/lib/python3.9/site-packages/flask/app.py\", line 1950, in full_dispatch_request\n",
      "    rv = self.dispatch_request()\n",
      "  File \"/home/ayah/anaconda3/lib/python3.9/site-packages/flask/app.py\", line 1936, in dispatch_request\n",
      "    return self.view_functions[rule.endpoint](**req.view_args)\n",
      "  File \"/home/ayah/anaconda3/lib/python3.9/site-packages/dash/dash.py\", line 1344, in dispatch\n",
      "    raise KeyError(msg.format(output)) from missing_callback_function\n",
      "KeyError: \"Callback function not found for output 'my_h1.children', perhaps you forgot to prepend the '@'?\"\n"
     ]
    },
    {
     "name": "stderr",
     "output_type": "stream",
     "text": [
      "127.0.0.1 - - [29/Apr/2022 16:53:41] \"POST /_dash-update-component HTTP/1.1\" 500 -\n"
     ]
    },
    {
     "name": "stdout",
     "output_type": "stream",
     "text": [
      "Exception on /_dash-update-component [POST]\n",
      "Traceback (most recent call last):\n",
      "  File \"/home/ayah/anaconda3/lib/python3.9/site-packages/dash/dash.py\", line 1306, in dispatch\n",
      "    cb = self.callback_map[output]\n",
      "KeyError: 'my_h1.children'\n",
      "\n",
      "The above exception was the direct cause of the following exception:\n",
      "\n",
      "Traceback (most recent call last):\n",
      "  File \"/home/ayah/anaconda3/lib/python3.9/site-packages/flask/app.py\", line 2447, in wsgi_app\n",
      "    response = self.full_dispatch_request()\n",
      "  File \"/home/ayah/anaconda3/lib/python3.9/site-packages/flask/app.py\", line 1952, in full_dispatch_request\n",
      "    rv = self.handle_user_exception(e)\n",
      "  File \"/home/ayah/anaconda3/lib/python3.9/site-packages/flask/app.py\", line 1821, in handle_user_exception\n",
      "    reraise(exc_type, exc_value, tb)\n",
      "  File \"/home/ayah/anaconda3/lib/python3.9/site-packages/flask/_compat.py\", line 39, in reraise\n",
      "    raise value\n",
      "  File \"/home/ayah/anaconda3/lib/python3.9/site-packages/flask/app.py\", line 1950, in full_dispatch_request\n",
      "    rv = self.dispatch_request()\n",
      "  File \"/home/ayah/anaconda3/lib/python3.9/site-packages/flask/app.py\", line 1936, in dispatch_request\n",
      "    return self.view_functions[rule.endpoint](**req.view_args)\n",
      "  File \"/home/ayah/anaconda3/lib/python3.9/site-packages/dash/dash.py\", line 1344, in dispatch\n",
      "    raise KeyError(msg.format(output)) from missing_callback_function\n",
      "KeyError: \"Callback function not found for output 'my_h1.children', perhaps you forgot to prepend the '@'?\"\n"
     ]
    },
    {
     "name": "stderr",
     "output_type": "stream",
     "text": [
      "127.0.0.1 - - [29/Apr/2022 16:53:41] \"POST /_dash-update-component HTTP/1.1\" 500 -\n"
     ]
    },
    {
     "name": "stdout",
     "output_type": "stream",
     "text": [
      "Exception on /_dash-update-component [POST]\n",
      "Traceback (most recent call last):\n",
      "  File \"/home/ayah/anaconda3/lib/python3.9/site-packages/dash/dash.py\", line 1306, in dispatch\n",
      "    cb = self.callback_map[output]\n",
      "KeyError: 'my_h1.children'\n",
      "\n",
      "The above exception was the direct cause of the following exception:\n",
      "\n",
      "Traceback (most recent call last):\n",
      "  File \"/home/ayah/anaconda3/lib/python3.9/site-packages/flask/app.py\", line 2447, in wsgi_app\n",
      "    response = self.full_dispatch_request()\n",
      "  File \"/home/ayah/anaconda3/lib/python3.9/site-packages/flask/app.py\", line 1952, in full_dispatch_request\n",
      "    rv = self.handle_user_exception(e)\n",
      "  File \"/home/ayah/anaconda3/lib/python3.9/site-packages/flask/app.py\", line 1821, in handle_user_exception\n",
      "    reraise(exc_type, exc_value, tb)\n",
      "  File \"/home/ayah/anaconda3/lib/python3.9/site-packages/flask/_compat.py\", line 39, in reraise\n",
      "    raise value\n",
      "  File \"/home/ayah/anaconda3/lib/python3.9/site-packages/flask/app.py\", line 1950, in full_dispatch_request\n",
      "    rv = self.dispatch_request()\n",
      "  File \"/home/ayah/anaconda3/lib/python3.9/site-packages/flask/app.py\", line 1936, in dispatch_request\n",
      "    return self.view_functions[rule.endpoint](**req.view_args)\n",
      "  File \"/home/ayah/anaconda3/lib/python3.9/site-packages/dash/dash.py\", line 1344, in dispatch\n",
      "    raise KeyError(msg.format(output)) from missing_callback_function\n",
      "KeyError: \"Callback function not found for output 'my_h1.children', perhaps you forgot to prepend the '@'?\"\n"
     ]
    },
    {
     "name": "stderr",
     "output_type": "stream",
     "text": [
      "127.0.0.1 - - [29/Apr/2022 16:53:43] \"POST /_dash-update-component HTTP/1.1\" 500 -\n"
     ]
    },
    {
     "name": "stdout",
     "output_type": "stream",
     "text": [
      "Exception on /_dash-update-component [POST]\n",
      "Traceback (most recent call last):\n",
      "  File \"/home/ayah/anaconda3/lib/python3.9/site-packages/dash/dash.py\", line 1306, in dispatch\n",
      "    cb = self.callback_map[output]\n",
      "KeyError: 'my_h1.children'\n",
      "\n",
      "The above exception was the direct cause of the following exception:\n",
      "\n",
      "Traceback (most recent call last):\n",
      "  File \"/home/ayah/anaconda3/lib/python3.9/site-packages/flask/app.py\", line 2447, in wsgi_app\n",
      "    response = self.full_dispatch_request()\n",
      "  File \"/home/ayah/anaconda3/lib/python3.9/site-packages/flask/app.py\", line 1952, in full_dispatch_request\n",
      "    rv = self.handle_user_exception(e)\n",
      "  File \"/home/ayah/anaconda3/lib/python3.9/site-packages/flask/app.py\", line 1821, in handle_user_exception\n",
      "    reraise(exc_type, exc_value, tb)\n",
      "  File \"/home/ayah/anaconda3/lib/python3.9/site-packages/flask/_compat.py\", line 39, in reraise\n",
      "    raise value\n",
      "  File \"/home/ayah/anaconda3/lib/python3.9/site-packages/flask/app.py\", line 1950, in full_dispatch_request\n",
      "    rv = self.dispatch_request()\n",
      "  File \"/home/ayah/anaconda3/lib/python3.9/site-packages/flask/app.py\", line 1936, in dispatch_request\n",
      "    return self.view_functions[rule.endpoint](**req.view_args)\n",
      "  File \"/home/ayah/anaconda3/lib/python3.9/site-packages/dash/dash.py\", line 1344, in dispatch\n",
      "    raise KeyError(msg.format(output)) from missing_callback_function\n",
      "KeyError: \"Callback function not found for output 'my_h1.children', perhaps you forgot to prepend the '@'?\"\n"
     ]
    },
    {
     "name": "stderr",
     "output_type": "stream",
     "text": [
      "127.0.0.1 - - [29/Apr/2022 16:53:45] \"POST /_dash-update-component HTTP/1.1\" 500 -\n"
     ]
    },
    {
     "name": "stdout",
     "output_type": "stream",
     "text": [
      "Exception on /_dash-update-component [POST]\n",
      "Traceback (most recent call last):\n",
      "  File \"/home/ayah/anaconda3/lib/python3.9/site-packages/dash/dash.py\", line 1306, in dispatch\n",
      "    cb = self.callback_map[output]\n",
      "KeyError: 'my_h1.children'\n",
      "\n",
      "The above exception was the direct cause of the following exception:\n",
      "\n",
      "Traceback (most recent call last):\n",
      "  File \"/home/ayah/anaconda3/lib/python3.9/site-packages/flask/app.py\", line 2447, in wsgi_app\n",
      "    response = self.full_dispatch_request()\n",
      "  File \"/home/ayah/anaconda3/lib/python3.9/site-packages/flask/app.py\", line 1952, in full_dispatch_request\n",
      "    rv = self.handle_user_exception(e)\n",
      "  File \"/home/ayah/anaconda3/lib/python3.9/site-packages/flask/app.py\", line 1821, in handle_user_exception\n",
      "    reraise(exc_type, exc_value, tb)\n",
      "  File \"/home/ayah/anaconda3/lib/python3.9/site-packages/flask/_compat.py\", line 39, in reraise\n",
      "    raise value\n",
      "  File \"/home/ayah/anaconda3/lib/python3.9/site-packages/flask/app.py\", line 1950, in full_dispatch_request\n",
      "    rv = self.dispatch_request()\n",
      "  File \"/home/ayah/anaconda3/lib/python3.9/site-packages/flask/app.py\", line 1936, in dispatch_request\n",
      "    return self.view_functions[rule.endpoint](**req.view_args)\n",
      "  File \"/home/ayah/anaconda3/lib/python3.9/site-packages/dash/dash.py\", line 1344, in dispatch\n",
      "    raise KeyError(msg.format(output)) from missing_callback_function\n",
      "KeyError: \"Callback function not found for output 'my_h1.children', perhaps you forgot to prepend the '@'?\"\n"
     ]
    },
    {
     "name": "stderr",
     "output_type": "stream",
     "text": [
      "127.0.0.1 - - [29/Apr/2022 16:53:46] \"POST /_dash-update-component HTTP/1.1\" 500 -\n"
     ]
    },
    {
     "name": "stdout",
     "output_type": "stream",
     "text": [
      "Exception on /_dash-update-component [POST]\n",
      "Traceback (most recent call last):\n",
      "  File \"/home/ayah/anaconda3/lib/python3.9/site-packages/dash/dash.py\", line 1306, in dispatch\n",
      "    cb = self.callback_map[output]\n",
      "KeyError: 'my_h1.children'\n",
      "\n",
      "The above exception was the direct cause of the following exception:\n",
      "\n",
      "Traceback (most recent call last):\n",
      "  File \"/home/ayah/anaconda3/lib/python3.9/site-packages/flask/app.py\", line 2447, in wsgi_app\n",
      "    response = self.full_dispatch_request()\n",
      "  File \"/home/ayah/anaconda3/lib/python3.9/site-packages/flask/app.py\", line 1952, in full_dispatch_request\n",
      "    rv = self.handle_user_exception(e)\n",
      "  File \"/home/ayah/anaconda3/lib/python3.9/site-packages/flask/app.py\", line 1821, in handle_user_exception\n",
      "    reraise(exc_type, exc_value, tb)\n",
      "  File \"/home/ayah/anaconda3/lib/python3.9/site-packages/flask/_compat.py\", line 39, in reraise\n",
      "    raise value\n",
      "  File \"/home/ayah/anaconda3/lib/python3.9/site-packages/flask/app.py\", line 1950, in full_dispatch_request\n",
      "    rv = self.dispatch_request()\n",
      "  File \"/home/ayah/anaconda3/lib/python3.9/site-packages/flask/app.py\", line 1936, in dispatch_request\n",
      "    return self.view_functions[rule.endpoint](**req.view_args)\n",
      "  File \"/home/ayah/anaconda3/lib/python3.9/site-packages/dash/dash.py\", line 1344, in dispatch\n",
      "    raise KeyError(msg.format(output)) from missing_callback_function\n",
      "KeyError: \"Callback function not found for output 'my_h1.children', perhaps you forgot to prepend the '@'?\"\n"
     ]
    },
    {
     "name": "stderr",
     "output_type": "stream",
     "text": [
      "127.0.0.1 - - [29/Apr/2022 16:53:46] \"POST /_dash-update-component HTTP/1.1\" 500 -\n"
     ]
    },
    {
     "name": "stdout",
     "output_type": "stream",
     "text": [
      "Exception on /_dash-update-component [POST]\n",
      "Traceback (most recent call last):\n",
      "  File \"/home/ayah/anaconda3/lib/python3.9/site-packages/dash/dash.py\", line 1306, in dispatch\n",
      "    cb = self.callback_map[output]\n",
      "KeyError: 'my_h1.children'\n",
      "\n",
      "The above exception was the direct cause of the following exception:\n",
      "\n",
      "Traceback (most recent call last):\n",
      "  File \"/home/ayah/anaconda3/lib/python3.9/site-packages/flask/app.py\", line 2447, in wsgi_app\n",
      "    response = self.full_dispatch_request()\n",
      "  File \"/home/ayah/anaconda3/lib/python3.9/site-packages/flask/app.py\", line 1952, in full_dispatch_request\n",
      "    rv = self.handle_user_exception(e)\n",
      "  File \"/home/ayah/anaconda3/lib/python3.9/site-packages/flask/app.py\", line 1821, in handle_user_exception\n",
      "    reraise(exc_type, exc_value, tb)\n",
      "  File \"/home/ayah/anaconda3/lib/python3.9/site-packages/flask/_compat.py\", line 39, in reraise\n",
      "    raise value\n",
      "  File \"/home/ayah/anaconda3/lib/python3.9/site-packages/flask/app.py\", line 1950, in full_dispatch_request\n",
      "    rv = self.dispatch_request()\n",
      "  File \"/home/ayah/anaconda3/lib/python3.9/site-packages/flask/app.py\", line 1936, in dispatch_request\n",
      "    return self.view_functions[rule.endpoint](**req.view_args)\n",
      "  File \"/home/ayah/anaconda3/lib/python3.9/site-packages/dash/dash.py\", line 1344, in dispatch\n",
      "    raise KeyError(msg.format(output)) from missing_callback_function\n",
      "KeyError: \"Callback function not found for output 'my_h1.children', perhaps you forgot to prepend the '@'?\"\n"
     ]
    },
    {
     "name": "stderr",
     "output_type": "stream",
     "text": [
      "127.0.0.1 - - [29/Apr/2022 16:53:48] \"POST /_dash-update-component HTTP/1.1\" 500 -\n"
     ]
    },
    {
     "name": "stdout",
     "output_type": "stream",
     "text": [
      "Exception on /_dash-update-component [POST]\n",
      "Traceback (most recent call last):\n",
      "  File \"/home/ayah/anaconda3/lib/python3.9/site-packages/dash/dash.py\", line 1306, in dispatch\n",
      "    cb = self.callback_map[output]\n",
      "KeyError: 'my_h1.children'\n",
      "\n",
      "The above exception was the direct cause of the following exception:\n",
      "\n",
      "Traceback (most recent call last):\n",
      "  File \"/home/ayah/anaconda3/lib/python3.9/site-packages/flask/app.py\", line 2447, in wsgi_app\n",
      "    response = self.full_dispatch_request()\n",
      "  File \"/home/ayah/anaconda3/lib/python3.9/site-packages/flask/app.py\", line 1952, in full_dispatch_request\n",
      "    rv = self.handle_user_exception(e)\n",
      "  File \"/home/ayah/anaconda3/lib/python3.9/site-packages/flask/app.py\", line 1821, in handle_user_exception\n",
      "    reraise(exc_type, exc_value, tb)\n",
      "  File \"/home/ayah/anaconda3/lib/python3.9/site-packages/flask/_compat.py\", line 39, in reraise\n",
      "    raise value\n",
      "  File \"/home/ayah/anaconda3/lib/python3.9/site-packages/flask/app.py\", line 1950, in full_dispatch_request\n",
      "    rv = self.dispatch_request()\n",
      "  File \"/home/ayah/anaconda3/lib/python3.9/site-packages/flask/app.py\", line 1936, in dispatch_request\n",
      "    return self.view_functions[rule.endpoint](**req.view_args)\n",
      "  File \"/home/ayah/anaconda3/lib/python3.9/site-packages/dash/dash.py\", line 1344, in dispatch\n",
      "    raise KeyError(msg.format(output)) from missing_callback_function\n",
      "KeyError: \"Callback function not found for output 'my_h1.children', perhaps you forgot to prepend the '@'?\"\n"
     ]
    },
    {
     "name": "stderr",
     "output_type": "stream",
     "text": [
      "127.0.0.1 - - [29/Apr/2022 16:53:50] \"POST /_dash-update-component HTTP/1.1\" 500 -\n"
     ]
    },
    {
     "name": "stdout",
     "output_type": "stream",
     "text": [
      "Exception on /_dash-update-component [POST]\n",
      "Traceback (most recent call last):\n",
      "  File \"/home/ayah/anaconda3/lib/python3.9/site-packages/dash/dash.py\", line 1306, in dispatch\n",
      "    cb = self.callback_map[output]\n",
      "KeyError: 'my_h1.children'\n",
      "\n",
      "The above exception was the direct cause of the following exception:\n",
      "\n",
      "Traceback (most recent call last):\n",
      "  File \"/home/ayah/anaconda3/lib/python3.9/site-packages/flask/app.py\", line 2447, in wsgi_app\n",
      "    response = self.full_dispatch_request()\n",
      "  File \"/home/ayah/anaconda3/lib/python3.9/site-packages/flask/app.py\", line 1952, in full_dispatch_request\n",
      "    rv = self.handle_user_exception(e)\n",
      "  File \"/home/ayah/anaconda3/lib/python3.9/site-packages/flask/app.py\", line 1821, in handle_user_exception\n",
      "    reraise(exc_type, exc_value, tb)\n",
      "  File \"/home/ayah/anaconda3/lib/python3.9/site-packages/flask/_compat.py\", line 39, in reraise\n",
      "    raise value\n",
      "  File \"/home/ayah/anaconda3/lib/python3.9/site-packages/flask/app.py\", line 1950, in full_dispatch_request\n",
      "    rv = self.dispatch_request()\n",
      "  File \"/home/ayah/anaconda3/lib/python3.9/site-packages/flask/app.py\", line 1936, in dispatch_request\n",
      "    return self.view_functions[rule.endpoint](**req.view_args)\n",
      "  File \"/home/ayah/anaconda3/lib/python3.9/site-packages/dash/dash.py\", line 1344, in dispatch\n",
      "    raise KeyError(msg.format(output)) from missing_callback_function\n",
      "KeyError: \"Callback function not found for output 'my_h1.children', perhaps you forgot to prepend the '@'?\"\n"
     ]
    },
    {
     "name": "stderr",
     "output_type": "stream",
     "text": [
      "127.0.0.1 - - [29/Apr/2022 16:53:51] \"POST /_dash-update-component HTTP/1.1\" 500 -\n"
     ]
    },
    {
     "name": "stdout",
     "output_type": "stream",
     "text": [
      "Exception on /_dash-update-component [POST]\n",
      "Traceback (most recent call last):\n",
      "  File \"/home/ayah/anaconda3/lib/python3.9/site-packages/dash/dash.py\", line 1306, in dispatch\n",
      "    cb = self.callback_map[output]\n",
      "KeyError: 'my_h1.children'\n",
      "\n",
      "The above exception was the direct cause of the following exception:\n",
      "\n",
      "Traceback (most recent call last):\n",
      "  File \"/home/ayah/anaconda3/lib/python3.9/site-packages/flask/app.py\", line 2447, in wsgi_app\n",
      "    response = self.full_dispatch_request()\n",
      "  File \"/home/ayah/anaconda3/lib/python3.9/site-packages/flask/app.py\", line 1952, in full_dispatch_request\n",
      "    rv = self.handle_user_exception(e)\n",
      "  File \"/home/ayah/anaconda3/lib/python3.9/site-packages/flask/app.py\", line 1821, in handle_user_exception\n",
      "    reraise(exc_type, exc_value, tb)\n",
      "  File \"/home/ayah/anaconda3/lib/python3.9/site-packages/flask/_compat.py\", line 39, in reraise\n",
      "    raise value\n",
      "  File \"/home/ayah/anaconda3/lib/python3.9/site-packages/flask/app.py\", line 1950, in full_dispatch_request\n",
      "    rv = self.dispatch_request()\n",
      "  File \"/home/ayah/anaconda3/lib/python3.9/site-packages/flask/app.py\", line 1936, in dispatch_request\n",
      "    return self.view_functions[rule.endpoint](**req.view_args)\n",
      "  File \"/home/ayah/anaconda3/lib/python3.9/site-packages/dash/dash.py\", line 1344, in dispatch\n",
      "    raise KeyError(msg.format(output)) from missing_callback_function\n",
      "KeyError: \"Callback function not found for output 'my_h1.children', perhaps you forgot to prepend the '@'?\"\n"
     ]
    },
    {
     "name": "stderr",
     "output_type": "stream",
     "text": [
      "127.0.0.1 - - [29/Apr/2022 16:53:51] \"POST /_dash-update-component HTTP/1.1\" 500 -\n"
     ]
    },
    {
     "name": "stdout",
     "output_type": "stream",
     "text": [
      "Exception on /_dash-update-component [POST]\n",
      "Traceback (most recent call last):\n",
      "  File \"/home/ayah/anaconda3/lib/python3.9/site-packages/dash/dash.py\", line 1306, in dispatch\n",
      "    cb = self.callback_map[output]\n",
      "KeyError: 'my_h1.children'\n",
      "\n",
      "The above exception was the direct cause of the following exception:\n",
      "\n",
      "Traceback (most recent call last):\n",
      "  File \"/home/ayah/anaconda3/lib/python3.9/site-packages/flask/app.py\", line 2447, in wsgi_app\n",
      "    response = self.full_dispatch_request()\n",
      "  File \"/home/ayah/anaconda3/lib/python3.9/site-packages/flask/app.py\", line 1952, in full_dispatch_request\n",
      "    rv = self.handle_user_exception(e)\n",
      "  File \"/home/ayah/anaconda3/lib/python3.9/site-packages/flask/app.py\", line 1821, in handle_user_exception\n",
      "    reraise(exc_type, exc_value, tb)\n",
      "  File \"/home/ayah/anaconda3/lib/python3.9/site-packages/flask/_compat.py\", line 39, in reraise\n",
      "    raise value\n",
      "  File \"/home/ayah/anaconda3/lib/python3.9/site-packages/flask/app.py\", line 1950, in full_dispatch_request\n",
      "    rv = self.dispatch_request()\n",
      "  File \"/home/ayah/anaconda3/lib/python3.9/site-packages/flask/app.py\", line 1936, in dispatch_request\n",
      "    return self.view_functions[rule.endpoint](**req.view_args)\n",
      "  File \"/home/ayah/anaconda3/lib/python3.9/site-packages/dash/dash.py\", line 1344, in dispatch\n",
      "    raise KeyError(msg.format(output)) from missing_callback_function\n",
      "KeyError: \"Callback function not found for output 'my_h1.children', perhaps you forgot to prepend the '@'?\"\n"
     ]
    },
    {
     "name": "stderr",
     "output_type": "stream",
     "text": [
      "127.0.0.1 - - [29/Apr/2022 16:53:53] \"POST /_dash-update-component HTTP/1.1\" 500 -\n"
     ]
    },
    {
     "name": "stdout",
     "output_type": "stream",
     "text": [
      "Exception on /_dash-update-component [POST]\n",
      "Traceback (most recent call last):\n",
      "  File \"/home/ayah/anaconda3/lib/python3.9/site-packages/dash/dash.py\", line 1306, in dispatch\n",
      "    cb = self.callback_map[output]\n",
      "KeyError: 'my_h1.children'\n",
      "\n",
      "The above exception was the direct cause of the following exception:\n",
      "\n",
      "Traceback (most recent call last):\n",
      "  File \"/home/ayah/anaconda3/lib/python3.9/site-packages/flask/app.py\", line 2447, in wsgi_app\n",
      "    response = self.full_dispatch_request()\n",
      "  File \"/home/ayah/anaconda3/lib/python3.9/site-packages/flask/app.py\", line 1952, in full_dispatch_request\n",
      "    rv = self.handle_user_exception(e)\n",
      "  File \"/home/ayah/anaconda3/lib/python3.9/site-packages/flask/app.py\", line 1821, in handle_user_exception\n",
      "    reraise(exc_type, exc_value, tb)\n",
      "  File \"/home/ayah/anaconda3/lib/python3.9/site-packages/flask/_compat.py\", line 39, in reraise\n",
      "    raise value\n",
      "  File \"/home/ayah/anaconda3/lib/python3.9/site-packages/flask/app.py\", line 1950, in full_dispatch_request\n",
      "    rv = self.dispatch_request()\n",
      "  File \"/home/ayah/anaconda3/lib/python3.9/site-packages/flask/app.py\", line 1936, in dispatch_request\n",
      "    return self.view_functions[rule.endpoint](**req.view_args)\n",
      "  File \"/home/ayah/anaconda3/lib/python3.9/site-packages/dash/dash.py\", line 1344, in dispatch\n",
      "    raise KeyError(msg.format(output)) from missing_callback_function\n",
      "KeyError: \"Callback function not found for output 'my_h1.children', perhaps you forgot to prepend the '@'?\"\n"
     ]
    },
    {
     "name": "stderr",
     "output_type": "stream",
     "text": [
      "127.0.0.1 - - [29/Apr/2022 16:53:55] \"POST /_dash-update-component HTTP/1.1\" 500 -\n"
     ]
    },
    {
     "name": "stdout",
     "output_type": "stream",
     "text": [
      "Exception on /_dash-update-component [POST]\n",
      "Traceback (most recent call last):\n",
      "  File \"/home/ayah/anaconda3/lib/python3.9/site-packages/dash/dash.py\", line 1306, in dispatch\n",
      "    cb = self.callback_map[output]\n",
      "KeyError: 'my_h1.children'\n",
      "\n",
      "The above exception was the direct cause of the following exception:\n",
      "\n",
      "Traceback (most recent call last):\n",
      "  File \"/home/ayah/anaconda3/lib/python3.9/site-packages/flask/app.py\", line 2447, in wsgi_app\n",
      "    response = self.full_dispatch_request()\n",
      "  File \"/home/ayah/anaconda3/lib/python3.9/site-packages/flask/app.py\", line 1952, in full_dispatch_request\n",
      "    rv = self.handle_user_exception(e)\n",
      "  File \"/home/ayah/anaconda3/lib/python3.9/site-packages/flask/app.py\", line 1821, in handle_user_exception\n",
      "    reraise(exc_type, exc_value, tb)\n",
      "  File \"/home/ayah/anaconda3/lib/python3.9/site-packages/flask/_compat.py\", line 39, in reraise\n",
      "    raise value\n",
      "  File \"/home/ayah/anaconda3/lib/python3.9/site-packages/flask/app.py\", line 1950, in full_dispatch_request\n",
      "    rv = self.dispatch_request()\n",
      "  File \"/home/ayah/anaconda3/lib/python3.9/site-packages/flask/app.py\", line 1936, in dispatch_request\n",
      "    return self.view_functions[rule.endpoint](**req.view_args)\n",
      "  File \"/home/ayah/anaconda3/lib/python3.9/site-packages/dash/dash.py\", line 1344, in dispatch\n",
      "    raise KeyError(msg.format(output)) from missing_callback_function\n",
      "KeyError: \"Callback function not found for output 'my_h1.children', perhaps you forgot to prepend the '@'?\"\n"
     ]
    },
    {
     "name": "stderr",
     "output_type": "stream",
     "text": [
      "127.0.0.1 - - [29/Apr/2022 16:53:56] \"POST /_dash-update-component HTTP/1.1\" 500 -\n"
     ]
    },
    {
     "name": "stdout",
     "output_type": "stream",
     "text": [
      "Exception on /_dash-update-component [POST]\n",
      "Traceback (most recent call last):\n",
      "  File \"/home/ayah/anaconda3/lib/python3.9/site-packages/dash/dash.py\", line 1306, in dispatch\n",
      "    cb = self.callback_map[output]\n",
      "KeyError: 'my_h1.children'\n",
      "\n",
      "The above exception was the direct cause of the following exception:\n",
      "\n",
      "Traceback (most recent call last):\n",
      "  File \"/home/ayah/anaconda3/lib/python3.9/site-packages/flask/app.py\", line 2447, in wsgi_app\n",
      "    response = self.full_dispatch_request()\n",
      "  File \"/home/ayah/anaconda3/lib/python3.9/site-packages/flask/app.py\", line 1952, in full_dispatch_request\n",
      "    rv = self.handle_user_exception(e)\n",
      "  File \"/home/ayah/anaconda3/lib/python3.9/site-packages/flask/app.py\", line 1821, in handle_user_exception\n",
      "    reraise(exc_type, exc_value, tb)\n",
      "  File \"/home/ayah/anaconda3/lib/python3.9/site-packages/flask/_compat.py\", line 39, in reraise\n",
      "    raise value\n",
      "  File \"/home/ayah/anaconda3/lib/python3.9/site-packages/flask/app.py\", line 1950, in full_dispatch_request\n",
      "    rv = self.dispatch_request()\n",
      "  File \"/home/ayah/anaconda3/lib/python3.9/site-packages/flask/app.py\", line 1936, in dispatch_request\n",
      "    return self.view_functions[rule.endpoint](**req.view_args)\n",
      "  File \"/home/ayah/anaconda3/lib/python3.9/site-packages/dash/dash.py\", line 1344, in dispatch\n",
      "    raise KeyError(msg.format(output)) from missing_callback_function\n",
      "KeyError: \"Callback function not found for output 'my_h1.children', perhaps you forgot to prepend the '@'?\"\n"
     ]
    },
    {
     "name": "stderr",
     "output_type": "stream",
     "text": [
      "127.0.0.1 - - [29/Apr/2022 16:53:56] \"POST /_dash-update-component HTTP/1.1\" 500 -\n"
     ]
    },
    {
     "name": "stdout",
     "output_type": "stream",
     "text": [
      "Exception on /_dash-update-component [POST]\n",
      "Traceback (most recent call last):\n",
      "  File \"/home/ayah/anaconda3/lib/python3.9/site-packages/dash/dash.py\", line 1306, in dispatch\n",
      "    cb = self.callback_map[output]\n",
      "KeyError: 'my_h1.children'\n",
      "\n",
      "The above exception was the direct cause of the following exception:\n",
      "\n",
      "Traceback (most recent call last):\n",
      "  File \"/home/ayah/anaconda3/lib/python3.9/site-packages/flask/app.py\", line 2447, in wsgi_app\n",
      "    response = self.full_dispatch_request()\n",
      "  File \"/home/ayah/anaconda3/lib/python3.9/site-packages/flask/app.py\", line 1952, in full_dispatch_request\n",
      "    rv = self.handle_user_exception(e)\n",
      "  File \"/home/ayah/anaconda3/lib/python3.9/site-packages/flask/app.py\", line 1821, in handle_user_exception\n",
      "    reraise(exc_type, exc_value, tb)\n",
      "  File \"/home/ayah/anaconda3/lib/python3.9/site-packages/flask/_compat.py\", line 39, in reraise\n",
      "    raise value\n",
      "  File \"/home/ayah/anaconda3/lib/python3.9/site-packages/flask/app.py\", line 1950, in full_dispatch_request\n",
      "    rv = self.dispatch_request()\n",
      "  File \"/home/ayah/anaconda3/lib/python3.9/site-packages/flask/app.py\", line 1936, in dispatch_request\n",
      "    return self.view_functions[rule.endpoint](**req.view_args)\n",
      "  File \"/home/ayah/anaconda3/lib/python3.9/site-packages/dash/dash.py\", line 1344, in dispatch\n",
      "    raise KeyError(msg.format(output)) from missing_callback_function\n",
      "KeyError: \"Callback function not found for output 'my_h1.children', perhaps you forgot to prepend the '@'?\"\n"
     ]
    },
    {
     "name": "stderr",
     "output_type": "stream",
     "text": [
      "127.0.0.1 - - [29/Apr/2022 16:53:58] \"POST /_dash-update-component HTTP/1.1\" 500 -\n"
     ]
    },
    {
     "name": "stdout",
     "output_type": "stream",
     "text": [
      "Exception on /_dash-update-component [POST]\n",
      "Traceback (most recent call last):\n",
      "  File \"/home/ayah/anaconda3/lib/python3.9/site-packages/dash/dash.py\", line 1306, in dispatch\n",
      "    cb = self.callback_map[output]\n",
      "KeyError: 'my_h1.children'\n",
      "\n",
      "The above exception was the direct cause of the following exception:\n",
      "\n",
      "Traceback (most recent call last):\n",
      "  File \"/home/ayah/anaconda3/lib/python3.9/site-packages/flask/app.py\", line 2447, in wsgi_app\n",
      "    response = self.full_dispatch_request()\n",
      "  File \"/home/ayah/anaconda3/lib/python3.9/site-packages/flask/app.py\", line 1952, in full_dispatch_request\n",
      "    rv = self.handle_user_exception(e)\n",
      "  File \"/home/ayah/anaconda3/lib/python3.9/site-packages/flask/app.py\", line 1821, in handle_user_exception\n",
      "    reraise(exc_type, exc_value, tb)\n",
      "  File \"/home/ayah/anaconda3/lib/python3.9/site-packages/flask/_compat.py\", line 39, in reraise\n",
      "    raise value\n",
      "  File \"/home/ayah/anaconda3/lib/python3.9/site-packages/flask/app.py\", line 1950, in full_dispatch_request\n",
      "    rv = self.dispatch_request()\n",
      "  File \"/home/ayah/anaconda3/lib/python3.9/site-packages/flask/app.py\", line 1936, in dispatch_request\n",
      "    return self.view_functions[rule.endpoint](**req.view_args)\n",
      "  File \"/home/ayah/anaconda3/lib/python3.9/site-packages/dash/dash.py\", line 1344, in dispatch\n",
      "    raise KeyError(msg.format(output)) from missing_callback_function\n",
      "KeyError: \"Callback function not found for output 'my_h1.children', perhaps you forgot to prepend the '@'?\"\n"
     ]
    },
    {
     "name": "stderr",
     "output_type": "stream",
     "text": [
      "127.0.0.1 - - [29/Apr/2022 16:54:00] \"POST /_dash-update-component HTTP/1.1\" 500 -\n"
     ]
    },
    {
     "name": "stdout",
     "output_type": "stream",
     "text": [
      "Exception on /_dash-update-component [POST]\n",
      "Traceback (most recent call last):\n",
      "  File \"/home/ayah/anaconda3/lib/python3.9/site-packages/dash/dash.py\", line 1306, in dispatch\n",
      "    cb = self.callback_map[output]\n",
      "KeyError: 'my_h1.children'\n",
      "\n",
      "The above exception was the direct cause of the following exception:\n",
      "\n",
      "Traceback (most recent call last):\n",
      "  File \"/home/ayah/anaconda3/lib/python3.9/site-packages/flask/app.py\", line 2447, in wsgi_app\n",
      "    response = self.full_dispatch_request()\n",
      "  File \"/home/ayah/anaconda3/lib/python3.9/site-packages/flask/app.py\", line 1952, in full_dispatch_request\n",
      "    rv = self.handle_user_exception(e)\n",
      "  File \"/home/ayah/anaconda3/lib/python3.9/site-packages/flask/app.py\", line 1821, in handle_user_exception\n",
      "    reraise(exc_type, exc_value, tb)\n",
      "  File \"/home/ayah/anaconda3/lib/python3.9/site-packages/flask/_compat.py\", line 39, in reraise\n",
      "    raise value\n",
      "  File \"/home/ayah/anaconda3/lib/python3.9/site-packages/flask/app.py\", line 1950, in full_dispatch_request\n",
      "    rv = self.dispatch_request()\n",
      "  File \"/home/ayah/anaconda3/lib/python3.9/site-packages/flask/app.py\", line 1936, in dispatch_request\n",
      "    return self.view_functions[rule.endpoint](**req.view_args)\n",
      "  File \"/home/ayah/anaconda3/lib/python3.9/site-packages/dash/dash.py\", line 1344, in dispatch\n",
      "    raise KeyError(msg.format(output)) from missing_callback_function\n",
      "KeyError: \"Callback function not found for output 'my_h1.children', perhaps you forgot to prepend the '@'?\"\n"
     ]
    },
    {
     "name": "stderr",
     "output_type": "stream",
     "text": [
      "127.0.0.1 - - [29/Apr/2022 16:54:01] \"POST /_dash-update-component HTTP/1.1\" 500 -\n"
     ]
    },
    {
     "name": "stdout",
     "output_type": "stream",
     "text": [
      "Exception on /_dash-update-component [POST]\n",
      "Traceback (most recent call last):\n",
      "  File \"/home/ayah/anaconda3/lib/python3.9/site-packages/dash/dash.py\", line 1306, in dispatch\n",
      "    cb = self.callback_map[output]\n",
      "KeyError: 'my_h1.children'\n",
      "\n",
      "The above exception was the direct cause of the following exception:\n",
      "\n",
      "Traceback (most recent call last):\n",
      "  File \"/home/ayah/anaconda3/lib/python3.9/site-packages/flask/app.py\", line 2447, in wsgi_app\n",
      "    response = self.full_dispatch_request()\n",
      "  File \"/home/ayah/anaconda3/lib/python3.9/site-packages/flask/app.py\", line 1952, in full_dispatch_request\n",
      "    rv = self.handle_user_exception(e)\n",
      "  File \"/home/ayah/anaconda3/lib/python3.9/site-packages/flask/app.py\", line 1821, in handle_user_exception\n",
      "    reraise(exc_type, exc_value, tb)\n",
      "  File \"/home/ayah/anaconda3/lib/python3.9/site-packages/flask/_compat.py\", line 39, in reraise\n",
      "    raise value\n",
      "  File \"/home/ayah/anaconda3/lib/python3.9/site-packages/flask/app.py\", line 1950, in full_dispatch_request\n",
      "    rv = self.dispatch_request()\n",
      "  File \"/home/ayah/anaconda3/lib/python3.9/site-packages/flask/app.py\", line 1936, in dispatch_request\n",
      "    return self.view_functions[rule.endpoint](**req.view_args)\n",
      "  File \"/home/ayah/anaconda3/lib/python3.9/site-packages/dash/dash.py\", line 1344, in dispatch\n",
      "    raise KeyError(msg.format(output)) from missing_callback_function\n",
      "KeyError: \"Callback function not found for output 'my_h1.children', perhaps you forgot to prepend the '@'?\"\n"
     ]
    },
    {
     "name": "stderr",
     "output_type": "stream",
     "text": [
      "127.0.0.1 - - [29/Apr/2022 16:54:01] \"POST /_dash-update-component HTTP/1.1\" 500 -\n"
     ]
    },
    {
     "name": "stdout",
     "output_type": "stream",
     "text": [
      "Exception on /_dash-update-component [POST]\n",
      "Traceback (most recent call last):\n",
      "  File \"/home/ayah/anaconda3/lib/python3.9/site-packages/dash/dash.py\", line 1306, in dispatch\n",
      "    cb = self.callback_map[output]\n",
      "KeyError: 'my_h1.children'\n",
      "\n",
      "The above exception was the direct cause of the following exception:\n",
      "\n",
      "Traceback (most recent call last):\n",
      "  File \"/home/ayah/anaconda3/lib/python3.9/site-packages/flask/app.py\", line 2447, in wsgi_app\n",
      "    response = self.full_dispatch_request()\n",
      "  File \"/home/ayah/anaconda3/lib/python3.9/site-packages/flask/app.py\", line 1952, in full_dispatch_request\n",
      "    rv = self.handle_user_exception(e)\n",
      "  File \"/home/ayah/anaconda3/lib/python3.9/site-packages/flask/app.py\", line 1821, in handle_user_exception\n",
      "    reraise(exc_type, exc_value, tb)\n",
      "  File \"/home/ayah/anaconda3/lib/python3.9/site-packages/flask/_compat.py\", line 39, in reraise\n",
      "    raise value\n",
      "  File \"/home/ayah/anaconda3/lib/python3.9/site-packages/flask/app.py\", line 1950, in full_dispatch_request\n",
      "    rv = self.dispatch_request()\n",
      "  File \"/home/ayah/anaconda3/lib/python3.9/site-packages/flask/app.py\", line 1936, in dispatch_request\n",
      "    return self.view_functions[rule.endpoint](**req.view_args)\n",
      "  File \"/home/ayah/anaconda3/lib/python3.9/site-packages/dash/dash.py\", line 1344, in dispatch\n",
      "    raise KeyError(msg.format(output)) from missing_callback_function\n",
      "KeyError: \"Callback function not found for output 'my_h1.children', perhaps you forgot to prepend the '@'?\"\n"
     ]
    },
    {
     "name": "stderr",
     "output_type": "stream",
     "text": [
      "127.0.0.1 - - [29/Apr/2022 16:54:03] \"POST /_dash-update-component HTTP/1.1\" 500 -\n"
     ]
    },
    {
     "name": "stdout",
     "output_type": "stream",
     "text": [
      "Exception on /_dash-update-component [POST]\n",
      "Traceback (most recent call last):\n",
      "  File \"/home/ayah/anaconda3/lib/python3.9/site-packages/dash/dash.py\", line 1306, in dispatch\n",
      "    cb = self.callback_map[output]\n",
      "KeyError: 'my_h1.children'\n",
      "\n",
      "The above exception was the direct cause of the following exception:\n",
      "\n",
      "Traceback (most recent call last):\n",
      "  File \"/home/ayah/anaconda3/lib/python3.9/site-packages/flask/app.py\", line 2447, in wsgi_app\n",
      "    response = self.full_dispatch_request()\n",
      "  File \"/home/ayah/anaconda3/lib/python3.9/site-packages/flask/app.py\", line 1952, in full_dispatch_request\n",
      "    rv = self.handle_user_exception(e)\n",
      "  File \"/home/ayah/anaconda3/lib/python3.9/site-packages/flask/app.py\", line 1821, in handle_user_exception\n",
      "    reraise(exc_type, exc_value, tb)\n",
      "  File \"/home/ayah/anaconda3/lib/python3.9/site-packages/flask/_compat.py\", line 39, in reraise\n",
      "    raise value\n",
      "  File \"/home/ayah/anaconda3/lib/python3.9/site-packages/flask/app.py\", line 1950, in full_dispatch_request\n",
      "    rv = self.dispatch_request()\n",
      "  File \"/home/ayah/anaconda3/lib/python3.9/site-packages/flask/app.py\", line 1936, in dispatch_request\n",
      "    return self.view_functions[rule.endpoint](**req.view_args)\n",
      "  File \"/home/ayah/anaconda3/lib/python3.9/site-packages/dash/dash.py\", line 1344, in dispatch\n",
      "    raise KeyError(msg.format(output)) from missing_callback_function\n",
      "KeyError: \"Callback function not found for output 'my_h1.children', perhaps you forgot to prepend the '@'?\"\n"
     ]
    },
    {
     "name": "stderr",
     "output_type": "stream",
     "text": [
      "127.0.0.1 - - [29/Apr/2022 16:54:05] \"POST /_dash-update-component HTTP/1.1\" 500 -\n"
     ]
    },
    {
     "name": "stdout",
     "output_type": "stream",
     "text": [
      "Exception on /_dash-update-component [POST]\n",
      "Traceback (most recent call last):\n",
      "  File \"/home/ayah/anaconda3/lib/python3.9/site-packages/dash/dash.py\", line 1306, in dispatch\n",
      "    cb = self.callback_map[output]\n",
      "KeyError: 'my_h1.children'\n",
      "\n",
      "The above exception was the direct cause of the following exception:\n",
      "\n",
      "Traceback (most recent call last):\n",
      "  File \"/home/ayah/anaconda3/lib/python3.9/site-packages/flask/app.py\", line 2447, in wsgi_app\n",
      "    response = self.full_dispatch_request()\n",
      "  File \"/home/ayah/anaconda3/lib/python3.9/site-packages/flask/app.py\", line 1952, in full_dispatch_request\n",
      "    rv = self.handle_user_exception(e)\n",
      "  File \"/home/ayah/anaconda3/lib/python3.9/site-packages/flask/app.py\", line 1821, in handle_user_exception\n",
      "    reraise(exc_type, exc_value, tb)\n",
      "  File \"/home/ayah/anaconda3/lib/python3.9/site-packages/flask/_compat.py\", line 39, in reraise\n",
      "    raise value\n",
      "  File \"/home/ayah/anaconda3/lib/python3.9/site-packages/flask/app.py\", line 1950, in full_dispatch_request\n",
      "    rv = self.dispatch_request()\n",
      "  File \"/home/ayah/anaconda3/lib/python3.9/site-packages/flask/app.py\", line 1936, in dispatch_request\n",
      "    return self.view_functions[rule.endpoint](**req.view_args)\n",
      "  File \"/home/ayah/anaconda3/lib/python3.9/site-packages/dash/dash.py\", line 1344, in dispatch\n",
      "    raise KeyError(msg.format(output)) from missing_callback_function\n",
      "KeyError: \"Callback function not found for output 'my_h1.children', perhaps you forgot to prepend the '@'?\"\n"
     ]
    },
    {
     "name": "stderr",
     "output_type": "stream",
     "text": [
      "127.0.0.1 - - [29/Apr/2022 16:54:06] \"POST /_dash-update-component HTTP/1.1\" 500 -\n"
     ]
    },
    {
     "name": "stdout",
     "output_type": "stream",
     "text": [
      "Exception on /_dash-update-component [POST]\n",
      "Traceback (most recent call last):\n",
      "  File \"/home/ayah/anaconda3/lib/python3.9/site-packages/dash/dash.py\", line 1306, in dispatch\n",
      "    cb = self.callback_map[output]\n",
      "KeyError: 'my_h1.children'\n",
      "\n",
      "The above exception was the direct cause of the following exception:\n",
      "\n",
      "Traceback (most recent call last):\n",
      "  File \"/home/ayah/anaconda3/lib/python3.9/site-packages/flask/app.py\", line 2447, in wsgi_app\n",
      "    response = self.full_dispatch_request()\n",
      "  File \"/home/ayah/anaconda3/lib/python3.9/site-packages/flask/app.py\", line 1952, in full_dispatch_request\n",
      "    rv = self.handle_user_exception(e)\n",
      "  File \"/home/ayah/anaconda3/lib/python3.9/site-packages/flask/app.py\", line 1821, in handle_user_exception\n",
      "    reraise(exc_type, exc_value, tb)\n",
      "  File \"/home/ayah/anaconda3/lib/python3.9/site-packages/flask/_compat.py\", line 39, in reraise\n",
      "    raise value\n",
      "  File \"/home/ayah/anaconda3/lib/python3.9/site-packages/flask/app.py\", line 1950, in full_dispatch_request\n",
      "    rv = self.dispatch_request()\n",
      "  File \"/home/ayah/anaconda3/lib/python3.9/site-packages/flask/app.py\", line 1936, in dispatch_request\n",
      "    return self.view_functions[rule.endpoint](**req.view_args)\n",
      "  File \"/home/ayah/anaconda3/lib/python3.9/site-packages/dash/dash.py\", line 1344, in dispatch\n",
      "    raise KeyError(msg.format(output)) from missing_callback_function\n",
      "KeyError: \"Callback function not found for output 'my_h1.children', perhaps you forgot to prepend the '@'?\"\n"
     ]
    },
    {
     "name": "stderr",
     "output_type": "stream",
     "text": [
      "127.0.0.1 - - [29/Apr/2022 16:54:06] \"POST /_dash-update-component HTTP/1.1\" 500 -\n"
     ]
    },
    {
     "name": "stdout",
     "output_type": "stream",
     "text": [
      "Exception on /_dash-update-component [POST]\n",
      "Traceback (most recent call last):\n",
      "  File \"/home/ayah/anaconda3/lib/python3.9/site-packages/dash/dash.py\", line 1306, in dispatch\n",
      "    cb = self.callback_map[output]\n",
      "KeyError: 'my_h1.children'\n",
      "\n",
      "The above exception was the direct cause of the following exception:\n",
      "\n",
      "Traceback (most recent call last):\n",
      "  File \"/home/ayah/anaconda3/lib/python3.9/site-packages/flask/app.py\", line 2447, in wsgi_app\n",
      "    response = self.full_dispatch_request()\n",
      "  File \"/home/ayah/anaconda3/lib/python3.9/site-packages/flask/app.py\", line 1952, in full_dispatch_request\n",
      "    rv = self.handle_user_exception(e)\n",
      "  File \"/home/ayah/anaconda3/lib/python3.9/site-packages/flask/app.py\", line 1821, in handle_user_exception\n",
      "    reraise(exc_type, exc_value, tb)\n",
      "  File \"/home/ayah/anaconda3/lib/python3.9/site-packages/flask/_compat.py\", line 39, in reraise\n",
      "    raise value\n",
      "  File \"/home/ayah/anaconda3/lib/python3.9/site-packages/flask/app.py\", line 1950, in full_dispatch_request\n",
      "    rv = self.dispatch_request()\n",
      "  File \"/home/ayah/anaconda3/lib/python3.9/site-packages/flask/app.py\", line 1936, in dispatch_request\n",
      "    return self.view_functions[rule.endpoint](**req.view_args)\n",
      "  File \"/home/ayah/anaconda3/lib/python3.9/site-packages/dash/dash.py\", line 1344, in dispatch\n",
      "    raise KeyError(msg.format(output)) from missing_callback_function\n",
      "KeyError: \"Callback function not found for output 'my_h1.children', perhaps you forgot to prepend the '@'?\"\n"
     ]
    },
    {
     "name": "stderr",
     "output_type": "stream",
     "text": [
      "127.0.0.1 - - [29/Apr/2022 16:54:08] \"POST /_dash-update-component HTTP/1.1\" 500 -\n"
     ]
    },
    {
     "name": "stdout",
     "output_type": "stream",
     "text": [
      "Exception on /_dash-update-component [POST]\n",
      "Traceback (most recent call last):\n",
      "  File \"/home/ayah/anaconda3/lib/python3.9/site-packages/dash/dash.py\", line 1306, in dispatch\n",
      "    cb = self.callback_map[output]\n",
      "KeyError: 'my_h1.children'\n",
      "\n",
      "The above exception was the direct cause of the following exception:\n",
      "\n",
      "Traceback (most recent call last):\n",
      "  File \"/home/ayah/anaconda3/lib/python3.9/site-packages/flask/app.py\", line 2447, in wsgi_app\n",
      "    response = self.full_dispatch_request()\n",
      "  File \"/home/ayah/anaconda3/lib/python3.9/site-packages/flask/app.py\", line 1952, in full_dispatch_request\n",
      "    rv = self.handle_user_exception(e)\n",
      "  File \"/home/ayah/anaconda3/lib/python3.9/site-packages/flask/app.py\", line 1821, in handle_user_exception\n",
      "    reraise(exc_type, exc_value, tb)\n",
      "  File \"/home/ayah/anaconda3/lib/python3.9/site-packages/flask/_compat.py\", line 39, in reraise\n",
      "    raise value\n",
      "  File \"/home/ayah/anaconda3/lib/python3.9/site-packages/flask/app.py\", line 1950, in full_dispatch_request\n",
      "    rv = self.dispatch_request()\n",
      "  File \"/home/ayah/anaconda3/lib/python3.9/site-packages/flask/app.py\", line 1936, in dispatch_request\n",
      "    return self.view_functions[rule.endpoint](**req.view_args)\n",
      "  File \"/home/ayah/anaconda3/lib/python3.9/site-packages/dash/dash.py\", line 1344, in dispatch\n",
      "    raise KeyError(msg.format(output)) from missing_callback_function\n",
      "KeyError: \"Callback function not found for output 'my_h1.children', perhaps you forgot to prepend the '@'?\"\n"
     ]
    },
    {
     "name": "stderr",
     "output_type": "stream",
     "text": [
      "127.0.0.1 - - [29/Apr/2022 16:54:10] \"POST /_dash-update-component HTTP/1.1\" 500 -\n"
     ]
    },
    {
     "name": "stdout",
     "output_type": "stream",
     "text": [
      "Exception on /_dash-update-component [POST]\n",
      "Traceback (most recent call last):\n",
      "  File \"/home/ayah/anaconda3/lib/python3.9/site-packages/dash/dash.py\", line 1306, in dispatch\n",
      "    cb = self.callback_map[output]\n",
      "KeyError: 'my_h1.children'\n",
      "\n",
      "The above exception was the direct cause of the following exception:\n",
      "\n",
      "Traceback (most recent call last):\n",
      "  File \"/home/ayah/anaconda3/lib/python3.9/site-packages/flask/app.py\", line 2447, in wsgi_app\n",
      "    response = self.full_dispatch_request()\n",
      "  File \"/home/ayah/anaconda3/lib/python3.9/site-packages/flask/app.py\", line 1952, in full_dispatch_request\n",
      "    rv = self.handle_user_exception(e)\n",
      "  File \"/home/ayah/anaconda3/lib/python3.9/site-packages/flask/app.py\", line 1821, in handle_user_exception\n",
      "    reraise(exc_type, exc_value, tb)\n",
      "  File \"/home/ayah/anaconda3/lib/python3.9/site-packages/flask/_compat.py\", line 39, in reraise\n",
      "    raise value\n",
      "  File \"/home/ayah/anaconda3/lib/python3.9/site-packages/flask/app.py\", line 1950, in full_dispatch_request\n",
      "    rv = self.dispatch_request()\n",
      "  File \"/home/ayah/anaconda3/lib/python3.9/site-packages/flask/app.py\", line 1936, in dispatch_request\n",
      "    return self.view_functions[rule.endpoint](**req.view_args)\n",
      "  File \"/home/ayah/anaconda3/lib/python3.9/site-packages/dash/dash.py\", line 1344, in dispatch\n",
      "    raise KeyError(msg.format(output)) from missing_callback_function\n",
      "KeyError: \"Callback function not found for output 'my_h1.children', perhaps you forgot to prepend the '@'?\"\n"
     ]
    },
    {
     "name": "stderr",
     "output_type": "stream",
     "text": [
      "127.0.0.1 - - [29/Apr/2022 16:54:11] \"POST /_dash-update-component HTTP/1.1\" 500 -\n"
     ]
    },
    {
     "name": "stdout",
     "output_type": "stream",
     "text": [
      "Exception on /_dash-update-component [POST]\n",
      "Traceback (most recent call last):\n",
      "  File \"/home/ayah/anaconda3/lib/python3.9/site-packages/dash/dash.py\", line 1306, in dispatch\n",
      "    cb = self.callback_map[output]\n",
      "KeyError: 'my_h1.children'\n",
      "\n",
      "The above exception was the direct cause of the following exception:\n",
      "\n",
      "Traceback (most recent call last):\n",
      "  File \"/home/ayah/anaconda3/lib/python3.9/site-packages/flask/app.py\", line 2447, in wsgi_app\n",
      "    response = self.full_dispatch_request()\n",
      "  File \"/home/ayah/anaconda3/lib/python3.9/site-packages/flask/app.py\", line 1952, in full_dispatch_request\n",
      "    rv = self.handle_user_exception(e)\n",
      "  File \"/home/ayah/anaconda3/lib/python3.9/site-packages/flask/app.py\", line 1821, in handle_user_exception\n",
      "    reraise(exc_type, exc_value, tb)\n",
      "  File \"/home/ayah/anaconda3/lib/python3.9/site-packages/flask/_compat.py\", line 39, in reraise\n",
      "    raise value\n",
      "  File \"/home/ayah/anaconda3/lib/python3.9/site-packages/flask/app.py\", line 1950, in full_dispatch_request\n",
      "    rv = self.dispatch_request()\n",
      "  File \"/home/ayah/anaconda3/lib/python3.9/site-packages/flask/app.py\", line 1936, in dispatch_request\n",
      "    return self.view_functions[rule.endpoint](**req.view_args)\n",
      "  File \"/home/ayah/anaconda3/lib/python3.9/site-packages/dash/dash.py\", line 1344, in dispatch\n",
      "    raise KeyError(msg.format(output)) from missing_callback_function\n",
      "KeyError: \"Callback function not found for output 'my_h1.children', perhaps you forgot to prepend the '@'?\"\n"
     ]
    },
    {
     "name": "stderr",
     "output_type": "stream",
     "text": [
      "127.0.0.1 - - [29/Apr/2022 16:54:11] \"POST /_dash-update-component HTTP/1.1\" 500 -\n"
     ]
    },
    {
     "name": "stdout",
     "output_type": "stream",
     "text": [
      "Exception on /_dash-update-component [POST]\n",
      "Traceback (most recent call last):\n",
      "  File \"/home/ayah/anaconda3/lib/python3.9/site-packages/dash/dash.py\", line 1306, in dispatch\n",
      "    cb = self.callback_map[output]\n",
      "KeyError: 'my_h1.children'\n",
      "\n",
      "The above exception was the direct cause of the following exception:\n",
      "\n",
      "Traceback (most recent call last):\n",
      "  File \"/home/ayah/anaconda3/lib/python3.9/site-packages/flask/app.py\", line 2447, in wsgi_app\n",
      "    response = self.full_dispatch_request()\n",
      "  File \"/home/ayah/anaconda3/lib/python3.9/site-packages/flask/app.py\", line 1952, in full_dispatch_request\n",
      "    rv = self.handle_user_exception(e)\n",
      "  File \"/home/ayah/anaconda3/lib/python3.9/site-packages/flask/app.py\", line 1821, in handle_user_exception\n",
      "    reraise(exc_type, exc_value, tb)\n",
      "  File \"/home/ayah/anaconda3/lib/python3.9/site-packages/flask/_compat.py\", line 39, in reraise\n",
      "    raise value\n",
      "  File \"/home/ayah/anaconda3/lib/python3.9/site-packages/flask/app.py\", line 1950, in full_dispatch_request\n",
      "    rv = self.dispatch_request()\n",
      "  File \"/home/ayah/anaconda3/lib/python3.9/site-packages/flask/app.py\", line 1936, in dispatch_request\n",
      "    return self.view_functions[rule.endpoint](**req.view_args)\n",
      "  File \"/home/ayah/anaconda3/lib/python3.9/site-packages/dash/dash.py\", line 1344, in dispatch\n",
      "    raise KeyError(msg.format(output)) from missing_callback_function\n",
      "KeyError: \"Callback function not found for output 'my_h1.children', perhaps you forgot to prepend the '@'?\"\n"
     ]
    },
    {
     "name": "stderr",
     "output_type": "stream",
     "text": [
      "127.0.0.1 - - [29/Apr/2022 16:54:13] \"POST /_dash-update-component HTTP/1.1\" 500 -\n"
     ]
    },
    {
     "name": "stdout",
     "output_type": "stream",
     "text": [
      "Exception on /_dash-update-component [POST]\n",
      "Traceback (most recent call last):\n",
      "  File \"/home/ayah/anaconda3/lib/python3.9/site-packages/dash/dash.py\", line 1306, in dispatch\n",
      "    cb = self.callback_map[output]\n",
      "KeyError: 'my_h1.children'\n",
      "\n",
      "The above exception was the direct cause of the following exception:\n",
      "\n",
      "Traceback (most recent call last):\n",
      "  File \"/home/ayah/anaconda3/lib/python3.9/site-packages/flask/app.py\", line 2447, in wsgi_app\n",
      "    response = self.full_dispatch_request()\n",
      "  File \"/home/ayah/anaconda3/lib/python3.9/site-packages/flask/app.py\", line 1952, in full_dispatch_request\n",
      "    rv = self.handle_user_exception(e)\n",
      "  File \"/home/ayah/anaconda3/lib/python3.9/site-packages/flask/app.py\", line 1821, in handle_user_exception\n",
      "    reraise(exc_type, exc_value, tb)\n",
      "  File \"/home/ayah/anaconda3/lib/python3.9/site-packages/flask/_compat.py\", line 39, in reraise\n",
      "    raise value\n",
      "  File \"/home/ayah/anaconda3/lib/python3.9/site-packages/flask/app.py\", line 1950, in full_dispatch_request\n",
      "    rv = self.dispatch_request()\n",
      "  File \"/home/ayah/anaconda3/lib/python3.9/site-packages/flask/app.py\", line 1936, in dispatch_request\n",
      "    return self.view_functions[rule.endpoint](**req.view_args)\n",
      "  File \"/home/ayah/anaconda3/lib/python3.9/site-packages/dash/dash.py\", line 1344, in dispatch\n",
      "    raise KeyError(msg.format(output)) from missing_callback_function\n",
      "KeyError: \"Callback function not found for output 'my_h1.children', perhaps you forgot to prepend the '@'?\"\n"
     ]
    },
    {
     "name": "stderr",
     "output_type": "stream",
     "text": [
      "127.0.0.1 - - [29/Apr/2022 16:54:15] \"POST /_dash-update-component HTTP/1.1\" 500 -\n"
     ]
    },
    {
     "name": "stdout",
     "output_type": "stream",
     "text": [
      "Exception on /_dash-update-component [POST]\n",
      "Traceback (most recent call last):\n",
      "  File \"/home/ayah/anaconda3/lib/python3.9/site-packages/dash/dash.py\", line 1306, in dispatch\n",
      "    cb = self.callback_map[output]\n",
      "KeyError: 'my_h1.children'\n",
      "\n",
      "The above exception was the direct cause of the following exception:\n",
      "\n",
      "Traceback (most recent call last):\n",
      "  File \"/home/ayah/anaconda3/lib/python3.9/site-packages/flask/app.py\", line 2447, in wsgi_app\n",
      "    response = self.full_dispatch_request()\n",
      "  File \"/home/ayah/anaconda3/lib/python3.9/site-packages/flask/app.py\", line 1952, in full_dispatch_request\n",
      "    rv = self.handle_user_exception(e)\n",
      "  File \"/home/ayah/anaconda3/lib/python3.9/site-packages/flask/app.py\", line 1821, in handle_user_exception\n",
      "    reraise(exc_type, exc_value, tb)\n",
      "  File \"/home/ayah/anaconda3/lib/python3.9/site-packages/flask/_compat.py\", line 39, in reraise\n",
      "    raise value\n",
      "  File \"/home/ayah/anaconda3/lib/python3.9/site-packages/flask/app.py\", line 1950, in full_dispatch_request\n",
      "    rv = self.dispatch_request()\n",
      "  File \"/home/ayah/anaconda3/lib/python3.9/site-packages/flask/app.py\", line 1936, in dispatch_request\n",
      "    return self.view_functions[rule.endpoint](**req.view_args)\n",
      "  File \"/home/ayah/anaconda3/lib/python3.9/site-packages/dash/dash.py\", line 1344, in dispatch\n",
      "    raise KeyError(msg.format(output)) from missing_callback_function\n",
      "KeyError: \"Callback function not found for output 'my_h1.children', perhaps you forgot to prepend the '@'?\"\n"
     ]
    },
    {
     "name": "stderr",
     "output_type": "stream",
     "text": [
      "127.0.0.1 - - [29/Apr/2022 16:54:16] \"POST /_dash-update-component HTTP/1.1\" 500 -\n"
     ]
    },
    {
     "name": "stdout",
     "output_type": "stream",
     "text": [
      "Exception on /_dash-update-component [POST]\n",
      "Traceback (most recent call last):\n",
      "  File \"/home/ayah/anaconda3/lib/python3.9/site-packages/dash/dash.py\", line 1306, in dispatch\n",
      "    cb = self.callback_map[output]\n",
      "KeyError: 'my_h1.children'\n",
      "\n",
      "The above exception was the direct cause of the following exception:\n",
      "\n",
      "Traceback (most recent call last):\n",
      "  File \"/home/ayah/anaconda3/lib/python3.9/site-packages/flask/app.py\", line 2447, in wsgi_app\n",
      "    response = self.full_dispatch_request()\n",
      "  File \"/home/ayah/anaconda3/lib/python3.9/site-packages/flask/app.py\", line 1952, in full_dispatch_request\n",
      "    rv = self.handle_user_exception(e)\n",
      "  File \"/home/ayah/anaconda3/lib/python3.9/site-packages/flask/app.py\", line 1821, in handle_user_exception\n",
      "    reraise(exc_type, exc_value, tb)\n",
      "  File \"/home/ayah/anaconda3/lib/python3.9/site-packages/flask/_compat.py\", line 39, in reraise\n",
      "    raise value\n",
      "  File \"/home/ayah/anaconda3/lib/python3.9/site-packages/flask/app.py\", line 1950, in full_dispatch_request\n",
      "    rv = self.dispatch_request()\n",
      "  File \"/home/ayah/anaconda3/lib/python3.9/site-packages/flask/app.py\", line 1936, in dispatch_request\n",
      "    return self.view_functions[rule.endpoint](**req.view_args)\n",
      "  File \"/home/ayah/anaconda3/lib/python3.9/site-packages/dash/dash.py\", line 1344, in dispatch\n",
      "    raise KeyError(msg.format(output)) from missing_callback_function\n",
      "KeyError: \"Callback function not found for output 'my_h1.children', perhaps you forgot to prepend the '@'?\"\n"
     ]
    },
    {
     "name": "stderr",
     "output_type": "stream",
     "text": [
      "127.0.0.1 - - [29/Apr/2022 16:54:16] \"POST /_dash-update-component HTTP/1.1\" 500 -\n"
     ]
    },
    {
     "name": "stdout",
     "output_type": "stream",
     "text": [
      "Exception on /_dash-update-component [POST]\n",
      "Traceback (most recent call last):\n",
      "  File \"/home/ayah/anaconda3/lib/python3.9/site-packages/dash/dash.py\", line 1306, in dispatch\n",
      "    cb = self.callback_map[output]\n",
      "KeyError: 'my_h1.children'\n",
      "\n",
      "The above exception was the direct cause of the following exception:\n",
      "\n",
      "Traceback (most recent call last):\n",
      "  File \"/home/ayah/anaconda3/lib/python3.9/site-packages/flask/app.py\", line 2447, in wsgi_app\n",
      "    response = self.full_dispatch_request()\n",
      "  File \"/home/ayah/anaconda3/lib/python3.9/site-packages/flask/app.py\", line 1952, in full_dispatch_request\n",
      "    rv = self.handle_user_exception(e)\n",
      "  File \"/home/ayah/anaconda3/lib/python3.9/site-packages/flask/app.py\", line 1821, in handle_user_exception\n",
      "    reraise(exc_type, exc_value, tb)\n",
      "  File \"/home/ayah/anaconda3/lib/python3.9/site-packages/flask/_compat.py\", line 39, in reraise\n",
      "    raise value\n",
      "  File \"/home/ayah/anaconda3/lib/python3.9/site-packages/flask/app.py\", line 1950, in full_dispatch_request\n",
      "    rv = self.dispatch_request()\n",
      "  File \"/home/ayah/anaconda3/lib/python3.9/site-packages/flask/app.py\", line 1936, in dispatch_request\n",
      "    return self.view_functions[rule.endpoint](**req.view_args)\n",
      "  File \"/home/ayah/anaconda3/lib/python3.9/site-packages/dash/dash.py\", line 1344, in dispatch\n",
      "    raise KeyError(msg.format(output)) from missing_callback_function\n",
      "KeyError: \"Callback function not found for output 'my_h1.children', perhaps you forgot to prepend the '@'?\"\n"
     ]
    },
    {
     "name": "stderr",
     "output_type": "stream",
     "text": [
      "127.0.0.1 - - [29/Apr/2022 16:54:18] \"POST /_dash-update-component HTTP/1.1\" 500 -\n"
     ]
    },
    {
     "name": "stdout",
     "output_type": "stream",
     "text": [
      "Exception on /_dash-update-component [POST]\n",
      "Traceback (most recent call last):\n",
      "  File \"/home/ayah/anaconda3/lib/python3.9/site-packages/dash/dash.py\", line 1306, in dispatch\n",
      "    cb = self.callback_map[output]\n",
      "KeyError: 'my_h1.children'\n",
      "\n",
      "The above exception was the direct cause of the following exception:\n",
      "\n",
      "Traceback (most recent call last):\n",
      "  File \"/home/ayah/anaconda3/lib/python3.9/site-packages/flask/app.py\", line 2447, in wsgi_app\n",
      "    response = self.full_dispatch_request()\n",
      "  File \"/home/ayah/anaconda3/lib/python3.9/site-packages/flask/app.py\", line 1952, in full_dispatch_request\n",
      "    rv = self.handle_user_exception(e)\n",
      "  File \"/home/ayah/anaconda3/lib/python3.9/site-packages/flask/app.py\", line 1821, in handle_user_exception\n",
      "    reraise(exc_type, exc_value, tb)\n",
      "  File \"/home/ayah/anaconda3/lib/python3.9/site-packages/flask/_compat.py\", line 39, in reraise\n",
      "    raise value\n",
      "  File \"/home/ayah/anaconda3/lib/python3.9/site-packages/flask/app.py\", line 1950, in full_dispatch_request\n",
      "    rv = self.dispatch_request()\n",
      "  File \"/home/ayah/anaconda3/lib/python3.9/site-packages/flask/app.py\", line 1936, in dispatch_request\n",
      "    return self.view_functions[rule.endpoint](**req.view_args)\n",
      "  File \"/home/ayah/anaconda3/lib/python3.9/site-packages/dash/dash.py\", line 1344, in dispatch\n",
      "    raise KeyError(msg.format(output)) from missing_callback_function\n",
      "KeyError: \"Callback function not found for output 'my_h1.children', perhaps you forgot to prepend the '@'?\"\n"
     ]
    },
    {
     "name": "stderr",
     "output_type": "stream",
     "text": [
      "127.0.0.1 - - [29/Apr/2022 16:54:20] \"POST /_dash-update-component HTTP/1.1\" 500 -\n"
     ]
    },
    {
     "name": "stdout",
     "output_type": "stream",
     "text": [
      "Exception on /_dash-update-component [POST]\n",
      "Traceback (most recent call last):\n",
      "  File \"/home/ayah/anaconda3/lib/python3.9/site-packages/dash/dash.py\", line 1306, in dispatch\n",
      "    cb = self.callback_map[output]\n",
      "KeyError: 'my_h1.children'\n",
      "\n",
      "The above exception was the direct cause of the following exception:\n",
      "\n",
      "Traceback (most recent call last):\n",
      "  File \"/home/ayah/anaconda3/lib/python3.9/site-packages/flask/app.py\", line 2447, in wsgi_app\n",
      "    response = self.full_dispatch_request()\n",
      "  File \"/home/ayah/anaconda3/lib/python3.9/site-packages/flask/app.py\", line 1952, in full_dispatch_request\n",
      "    rv = self.handle_user_exception(e)\n",
      "  File \"/home/ayah/anaconda3/lib/python3.9/site-packages/flask/app.py\", line 1821, in handle_user_exception\n",
      "    reraise(exc_type, exc_value, tb)\n",
      "  File \"/home/ayah/anaconda3/lib/python3.9/site-packages/flask/_compat.py\", line 39, in reraise\n",
      "    raise value\n",
      "  File \"/home/ayah/anaconda3/lib/python3.9/site-packages/flask/app.py\", line 1950, in full_dispatch_request\n",
      "    rv = self.dispatch_request()\n",
      "  File \"/home/ayah/anaconda3/lib/python3.9/site-packages/flask/app.py\", line 1936, in dispatch_request\n",
      "    return self.view_functions[rule.endpoint](**req.view_args)\n",
      "  File \"/home/ayah/anaconda3/lib/python3.9/site-packages/dash/dash.py\", line 1344, in dispatch\n",
      "    raise KeyError(msg.format(output)) from missing_callback_function\n",
      "KeyError: \"Callback function not found for output 'my_h1.children', perhaps you forgot to prepend the '@'?\"\n"
     ]
    },
    {
     "name": "stderr",
     "output_type": "stream",
     "text": [
      "127.0.0.1 - - [29/Apr/2022 16:54:21] \"POST /_dash-update-component HTTP/1.1\" 500 -\n"
     ]
    },
    {
     "name": "stdout",
     "output_type": "stream",
     "text": [
      "Exception on /_dash-update-component [POST]\n",
      "Traceback (most recent call last):\n",
      "  File \"/home/ayah/anaconda3/lib/python3.9/site-packages/dash/dash.py\", line 1306, in dispatch\n",
      "    cb = self.callback_map[output]\n",
      "KeyError: 'my_h1.children'\n",
      "\n",
      "The above exception was the direct cause of the following exception:\n",
      "\n",
      "Traceback (most recent call last):\n",
      "  File \"/home/ayah/anaconda3/lib/python3.9/site-packages/flask/app.py\", line 2447, in wsgi_app\n",
      "    response = self.full_dispatch_request()\n",
      "  File \"/home/ayah/anaconda3/lib/python3.9/site-packages/flask/app.py\", line 1952, in full_dispatch_request\n",
      "    rv = self.handle_user_exception(e)\n",
      "  File \"/home/ayah/anaconda3/lib/python3.9/site-packages/flask/app.py\", line 1821, in handle_user_exception\n",
      "    reraise(exc_type, exc_value, tb)\n",
      "  File \"/home/ayah/anaconda3/lib/python3.9/site-packages/flask/_compat.py\", line 39, in reraise\n",
      "    raise value\n",
      "  File \"/home/ayah/anaconda3/lib/python3.9/site-packages/flask/app.py\", line 1950, in full_dispatch_request\n",
      "    rv = self.dispatch_request()\n",
      "  File \"/home/ayah/anaconda3/lib/python3.9/site-packages/flask/app.py\", line 1936, in dispatch_request\n",
      "    return self.view_functions[rule.endpoint](**req.view_args)\n",
      "  File \"/home/ayah/anaconda3/lib/python3.9/site-packages/dash/dash.py\", line 1344, in dispatch\n",
      "    raise KeyError(msg.format(output)) from missing_callback_function\n",
      "KeyError: \"Callback function not found for output 'my_h1.children', perhaps you forgot to prepend the '@'?\"\n"
     ]
    },
    {
     "name": "stderr",
     "output_type": "stream",
     "text": [
      "127.0.0.1 - - [29/Apr/2022 16:54:21] \"POST /_dash-update-component HTTP/1.1\" 500 -\n"
     ]
    },
    {
     "name": "stdout",
     "output_type": "stream",
     "text": [
      "Exception on /_dash-update-component [POST]\n",
      "Traceback (most recent call last):\n",
      "  File \"/home/ayah/anaconda3/lib/python3.9/site-packages/dash/dash.py\", line 1306, in dispatch\n",
      "    cb = self.callback_map[output]\n",
      "KeyError: 'my_h1.children'\n",
      "\n",
      "The above exception was the direct cause of the following exception:\n",
      "\n",
      "Traceback (most recent call last):\n",
      "  File \"/home/ayah/anaconda3/lib/python3.9/site-packages/flask/app.py\", line 2447, in wsgi_app\n",
      "    response = self.full_dispatch_request()\n",
      "  File \"/home/ayah/anaconda3/lib/python3.9/site-packages/flask/app.py\", line 1952, in full_dispatch_request\n",
      "    rv = self.handle_user_exception(e)\n",
      "  File \"/home/ayah/anaconda3/lib/python3.9/site-packages/flask/app.py\", line 1821, in handle_user_exception\n",
      "    reraise(exc_type, exc_value, tb)\n",
      "  File \"/home/ayah/anaconda3/lib/python3.9/site-packages/flask/_compat.py\", line 39, in reraise\n",
      "    raise value\n",
      "  File \"/home/ayah/anaconda3/lib/python3.9/site-packages/flask/app.py\", line 1950, in full_dispatch_request\n",
      "    rv = self.dispatch_request()\n",
      "  File \"/home/ayah/anaconda3/lib/python3.9/site-packages/flask/app.py\", line 1936, in dispatch_request\n",
      "    return self.view_functions[rule.endpoint](**req.view_args)\n",
      "  File \"/home/ayah/anaconda3/lib/python3.9/site-packages/dash/dash.py\", line 1344, in dispatch\n",
      "    raise KeyError(msg.format(output)) from missing_callback_function\n",
      "KeyError: \"Callback function not found for output 'my_h1.children', perhaps you forgot to prepend the '@'?\"\n"
     ]
    },
    {
     "name": "stderr",
     "output_type": "stream",
     "text": [
      "127.0.0.1 - - [29/Apr/2022 16:54:23] \"POST /_dash-update-component HTTP/1.1\" 500 -\n"
     ]
    },
    {
     "name": "stdout",
     "output_type": "stream",
     "text": [
      "Exception on /_dash-update-component [POST]\n",
      "Traceback (most recent call last):\n",
      "  File \"/home/ayah/anaconda3/lib/python3.9/site-packages/dash/dash.py\", line 1306, in dispatch\n",
      "    cb = self.callback_map[output]\n",
      "KeyError: 'my_h1.children'\n",
      "\n",
      "The above exception was the direct cause of the following exception:\n",
      "\n",
      "Traceback (most recent call last):\n",
      "  File \"/home/ayah/anaconda3/lib/python3.9/site-packages/flask/app.py\", line 2447, in wsgi_app\n",
      "    response = self.full_dispatch_request()\n",
      "  File \"/home/ayah/anaconda3/lib/python3.9/site-packages/flask/app.py\", line 1952, in full_dispatch_request\n",
      "    rv = self.handle_user_exception(e)\n",
      "  File \"/home/ayah/anaconda3/lib/python3.9/site-packages/flask/app.py\", line 1821, in handle_user_exception\n",
      "    reraise(exc_type, exc_value, tb)\n",
      "  File \"/home/ayah/anaconda3/lib/python3.9/site-packages/flask/_compat.py\", line 39, in reraise\n",
      "    raise value\n",
      "  File \"/home/ayah/anaconda3/lib/python3.9/site-packages/flask/app.py\", line 1950, in full_dispatch_request\n",
      "    rv = self.dispatch_request()\n",
      "  File \"/home/ayah/anaconda3/lib/python3.9/site-packages/flask/app.py\", line 1936, in dispatch_request\n",
      "    return self.view_functions[rule.endpoint](**req.view_args)\n",
      "  File \"/home/ayah/anaconda3/lib/python3.9/site-packages/dash/dash.py\", line 1344, in dispatch\n",
      "    raise KeyError(msg.format(output)) from missing_callback_function\n",
      "KeyError: \"Callback function not found for output 'my_h1.children', perhaps you forgot to prepend the '@'?\"\n"
     ]
    },
    {
     "name": "stderr",
     "output_type": "stream",
     "text": [
      "127.0.0.1 - - [29/Apr/2022 16:54:25] \"POST /_dash-update-component HTTP/1.1\" 500 -\n"
     ]
    },
    {
     "name": "stdout",
     "output_type": "stream",
     "text": [
      "Exception on /_dash-update-component [POST]\n",
      "Traceback (most recent call last):\n",
      "  File \"/home/ayah/anaconda3/lib/python3.9/site-packages/dash/dash.py\", line 1306, in dispatch\n",
      "    cb = self.callback_map[output]\n",
      "KeyError: 'my_h1.children'\n",
      "\n",
      "The above exception was the direct cause of the following exception:\n",
      "\n",
      "Traceback (most recent call last):\n",
      "  File \"/home/ayah/anaconda3/lib/python3.9/site-packages/flask/app.py\", line 2447, in wsgi_app\n",
      "    response = self.full_dispatch_request()\n",
      "  File \"/home/ayah/anaconda3/lib/python3.9/site-packages/flask/app.py\", line 1952, in full_dispatch_request\n",
      "    rv = self.handle_user_exception(e)\n",
      "  File \"/home/ayah/anaconda3/lib/python3.9/site-packages/flask/app.py\", line 1821, in handle_user_exception\n",
      "    reraise(exc_type, exc_value, tb)\n",
      "  File \"/home/ayah/anaconda3/lib/python3.9/site-packages/flask/_compat.py\", line 39, in reraise\n",
      "    raise value\n",
      "  File \"/home/ayah/anaconda3/lib/python3.9/site-packages/flask/app.py\", line 1950, in full_dispatch_request\n",
      "    rv = self.dispatch_request()\n",
      "  File \"/home/ayah/anaconda3/lib/python3.9/site-packages/flask/app.py\", line 1936, in dispatch_request\n",
      "    return self.view_functions[rule.endpoint](**req.view_args)\n",
      "  File \"/home/ayah/anaconda3/lib/python3.9/site-packages/dash/dash.py\", line 1344, in dispatch\n",
      "    raise KeyError(msg.format(output)) from missing_callback_function\n",
      "KeyError: \"Callback function not found for output 'my_h1.children', perhaps you forgot to prepend the '@'?\"\n"
     ]
    },
    {
     "name": "stderr",
     "output_type": "stream",
     "text": [
      "127.0.0.1 - - [29/Apr/2022 16:54:26] \"POST /_dash-update-component HTTP/1.1\" 500 -\n"
     ]
    },
    {
     "name": "stdout",
     "output_type": "stream",
     "text": [
      "Exception on /_dash-update-component [POST]\n",
      "Traceback (most recent call last):\n",
      "  File \"/home/ayah/anaconda3/lib/python3.9/site-packages/dash/dash.py\", line 1306, in dispatch\n",
      "    cb = self.callback_map[output]\n",
      "KeyError: 'my_h1.children'\n",
      "\n",
      "The above exception was the direct cause of the following exception:\n",
      "\n",
      "Traceback (most recent call last):\n",
      "  File \"/home/ayah/anaconda3/lib/python3.9/site-packages/flask/app.py\", line 2447, in wsgi_app\n",
      "    response = self.full_dispatch_request()\n",
      "  File \"/home/ayah/anaconda3/lib/python3.9/site-packages/flask/app.py\", line 1952, in full_dispatch_request\n",
      "    rv = self.handle_user_exception(e)\n",
      "  File \"/home/ayah/anaconda3/lib/python3.9/site-packages/flask/app.py\", line 1821, in handle_user_exception\n",
      "    reraise(exc_type, exc_value, tb)\n",
      "  File \"/home/ayah/anaconda3/lib/python3.9/site-packages/flask/_compat.py\", line 39, in reraise\n",
      "    raise value\n",
      "  File \"/home/ayah/anaconda3/lib/python3.9/site-packages/flask/app.py\", line 1950, in full_dispatch_request\n",
      "    rv = self.dispatch_request()\n",
      "  File \"/home/ayah/anaconda3/lib/python3.9/site-packages/flask/app.py\", line 1936, in dispatch_request\n",
      "    return self.view_functions[rule.endpoint](**req.view_args)\n",
      "  File \"/home/ayah/anaconda3/lib/python3.9/site-packages/dash/dash.py\", line 1344, in dispatch\n",
      "    raise KeyError(msg.format(output)) from missing_callback_function\n",
      "KeyError: \"Callback function not found for output 'my_h1.children', perhaps you forgot to prepend the '@'?\"\n"
     ]
    },
    {
     "name": "stderr",
     "output_type": "stream",
     "text": [
      "127.0.0.1 - - [29/Apr/2022 16:54:26] \"POST /_dash-update-component HTTP/1.1\" 500 -\n"
     ]
    },
    {
     "name": "stdout",
     "output_type": "stream",
     "text": [
      "Exception on /_dash-update-component [POST]\n",
      "Traceback (most recent call last):\n",
      "  File \"/home/ayah/anaconda3/lib/python3.9/site-packages/dash/dash.py\", line 1306, in dispatch\n",
      "    cb = self.callback_map[output]\n",
      "KeyError: 'my_h1.children'\n",
      "\n",
      "The above exception was the direct cause of the following exception:\n",
      "\n",
      "Traceback (most recent call last):\n",
      "  File \"/home/ayah/anaconda3/lib/python3.9/site-packages/flask/app.py\", line 2447, in wsgi_app\n",
      "    response = self.full_dispatch_request()\n",
      "  File \"/home/ayah/anaconda3/lib/python3.9/site-packages/flask/app.py\", line 1952, in full_dispatch_request\n",
      "    rv = self.handle_user_exception(e)\n",
      "  File \"/home/ayah/anaconda3/lib/python3.9/site-packages/flask/app.py\", line 1821, in handle_user_exception\n",
      "    reraise(exc_type, exc_value, tb)\n",
      "  File \"/home/ayah/anaconda3/lib/python3.9/site-packages/flask/_compat.py\", line 39, in reraise\n",
      "    raise value\n",
      "  File \"/home/ayah/anaconda3/lib/python3.9/site-packages/flask/app.py\", line 1950, in full_dispatch_request\n",
      "    rv = self.dispatch_request()\n",
      "  File \"/home/ayah/anaconda3/lib/python3.9/site-packages/flask/app.py\", line 1936, in dispatch_request\n",
      "    return self.view_functions[rule.endpoint](**req.view_args)\n",
      "  File \"/home/ayah/anaconda3/lib/python3.9/site-packages/dash/dash.py\", line 1344, in dispatch\n",
      "    raise KeyError(msg.format(output)) from missing_callback_function\n",
      "KeyError: \"Callback function not found for output 'my_h1.children', perhaps you forgot to prepend the '@'?\"\n"
     ]
    },
    {
     "name": "stderr",
     "output_type": "stream",
     "text": [
      "127.0.0.1 - - [29/Apr/2022 16:54:28] \"POST /_dash-update-component HTTP/1.1\" 500 -\n"
     ]
    },
    {
     "name": "stdout",
     "output_type": "stream",
     "text": [
      "Exception on /_dash-update-component [POST]\n",
      "Traceback (most recent call last):\n",
      "  File \"/home/ayah/anaconda3/lib/python3.9/site-packages/dash/dash.py\", line 1306, in dispatch\n",
      "    cb = self.callback_map[output]\n",
      "KeyError: 'my_h1.children'\n",
      "\n",
      "The above exception was the direct cause of the following exception:\n",
      "\n",
      "Traceback (most recent call last):\n",
      "  File \"/home/ayah/anaconda3/lib/python3.9/site-packages/flask/app.py\", line 2447, in wsgi_app\n",
      "    response = self.full_dispatch_request()\n",
      "  File \"/home/ayah/anaconda3/lib/python3.9/site-packages/flask/app.py\", line 1952, in full_dispatch_request\n",
      "    rv = self.handle_user_exception(e)\n",
      "  File \"/home/ayah/anaconda3/lib/python3.9/site-packages/flask/app.py\", line 1821, in handle_user_exception\n",
      "    reraise(exc_type, exc_value, tb)\n",
      "  File \"/home/ayah/anaconda3/lib/python3.9/site-packages/flask/_compat.py\", line 39, in reraise\n",
      "    raise value\n",
      "  File \"/home/ayah/anaconda3/lib/python3.9/site-packages/flask/app.py\", line 1950, in full_dispatch_request\n",
      "    rv = self.dispatch_request()\n",
      "  File \"/home/ayah/anaconda3/lib/python3.9/site-packages/flask/app.py\", line 1936, in dispatch_request\n",
      "    return self.view_functions[rule.endpoint](**req.view_args)\n",
      "  File \"/home/ayah/anaconda3/lib/python3.9/site-packages/dash/dash.py\", line 1344, in dispatch\n",
      "    raise KeyError(msg.format(output)) from missing_callback_function\n",
      "KeyError: \"Callback function not found for output 'my_h1.children', perhaps you forgot to prepend the '@'?\"\n"
     ]
    },
    {
     "name": "stderr",
     "output_type": "stream",
     "text": [
      "127.0.0.1 - - [29/Apr/2022 16:54:30] \"POST /_dash-update-component HTTP/1.1\" 500 -\n"
     ]
    },
    {
     "name": "stdout",
     "output_type": "stream",
     "text": [
      "Exception on /_dash-update-component [POST]\n",
      "Traceback (most recent call last):\n",
      "  File \"/home/ayah/anaconda3/lib/python3.9/site-packages/dash/dash.py\", line 1306, in dispatch\n",
      "    cb = self.callback_map[output]\n",
      "KeyError: 'my_h1.children'\n",
      "\n",
      "The above exception was the direct cause of the following exception:\n",
      "\n",
      "Traceback (most recent call last):\n",
      "  File \"/home/ayah/anaconda3/lib/python3.9/site-packages/flask/app.py\", line 2447, in wsgi_app\n",
      "    response = self.full_dispatch_request()\n",
      "  File \"/home/ayah/anaconda3/lib/python3.9/site-packages/flask/app.py\", line 1952, in full_dispatch_request\n",
      "    rv = self.handle_user_exception(e)\n",
      "  File \"/home/ayah/anaconda3/lib/python3.9/site-packages/flask/app.py\", line 1821, in handle_user_exception\n",
      "    reraise(exc_type, exc_value, tb)\n",
      "  File \"/home/ayah/anaconda3/lib/python3.9/site-packages/flask/_compat.py\", line 39, in reraise\n",
      "    raise value\n",
      "  File \"/home/ayah/anaconda3/lib/python3.9/site-packages/flask/app.py\", line 1950, in full_dispatch_request\n",
      "    rv = self.dispatch_request()\n",
      "  File \"/home/ayah/anaconda3/lib/python3.9/site-packages/flask/app.py\", line 1936, in dispatch_request\n",
      "    return self.view_functions[rule.endpoint](**req.view_args)\n",
      "  File \"/home/ayah/anaconda3/lib/python3.9/site-packages/dash/dash.py\", line 1344, in dispatch\n",
      "    raise KeyError(msg.format(output)) from missing_callback_function\n",
      "KeyError: \"Callback function not found for output 'my_h1.children', perhaps you forgot to prepend the '@'?\"\n"
     ]
    },
    {
     "name": "stderr",
     "output_type": "stream",
     "text": [
      "127.0.0.1 - - [29/Apr/2022 16:54:31] \"POST /_dash-update-component HTTP/1.1\" 500 -\n"
     ]
    },
    {
     "name": "stdout",
     "output_type": "stream",
     "text": [
      "Exception on /_dash-update-component [POST]\n",
      "Traceback (most recent call last):\n",
      "  File \"/home/ayah/anaconda3/lib/python3.9/site-packages/dash/dash.py\", line 1306, in dispatch\n",
      "    cb = self.callback_map[output]\n",
      "KeyError: 'my_h1.children'\n",
      "\n",
      "The above exception was the direct cause of the following exception:\n",
      "\n",
      "Traceback (most recent call last):\n",
      "  File \"/home/ayah/anaconda3/lib/python3.9/site-packages/flask/app.py\", line 2447, in wsgi_app\n",
      "    response = self.full_dispatch_request()\n",
      "  File \"/home/ayah/anaconda3/lib/python3.9/site-packages/flask/app.py\", line 1952, in full_dispatch_request\n",
      "    rv = self.handle_user_exception(e)\n",
      "  File \"/home/ayah/anaconda3/lib/python3.9/site-packages/flask/app.py\", line 1821, in handle_user_exception\n",
      "    reraise(exc_type, exc_value, tb)\n",
      "  File \"/home/ayah/anaconda3/lib/python3.9/site-packages/flask/_compat.py\", line 39, in reraise\n",
      "    raise value\n",
      "  File \"/home/ayah/anaconda3/lib/python3.9/site-packages/flask/app.py\", line 1950, in full_dispatch_request\n",
      "    rv = self.dispatch_request()\n",
      "  File \"/home/ayah/anaconda3/lib/python3.9/site-packages/flask/app.py\", line 1936, in dispatch_request\n",
      "    return self.view_functions[rule.endpoint](**req.view_args)\n",
      "  File \"/home/ayah/anaconda3/lib/python3.9/site-packages/dash/dash.py\", line 1344, in dispatch\n",
      "    raise KeyError(msg.format(output)) from missing_callback_function\n",
      "KeyError: \"Callback function not found for output 'my_h1.children', perhaps you forgot to prepend the '@'?\"\n"
     ]
    },
    {
     "name": "stderr",
     "output_type": "stream",
     "text": [
      "127.0.0.1 - - [29/Apr/2022 16:54:31] \"POST /_dash-update-component HTTP/1.1\" 500 -\n"
     ]
    },
    {
     "name": "stdout",
     "output_type": "stream",
     "text": [
      "Exception on /_dash-update-component [POST]\n",
      "Traceback (most recent call last):\n",
      "  File \"/home/ayah/anaconda3/lib/python3.9/site-packages/dash/dash.py\", line 1306, in dispatch\n",
      "    cb = self.callback_map[output]\n",
      "KeyError: 'my_h1.children'\n",
      "\n",
      "The above exception was the direct cause of the following exception:\n",
      "\n",
      "Traceback (most recent call last):\n",
      "  File \"/home/ayah/anaconda3/lib/python3.9/site-packages/flask/app.py\", line 2447, in wsgi_app\n",
      "    response = self.full_dispatch_request()\n",
      "  File \"/home/ayah/anaconda3/lib/python3.9/site-packages/flask/app.py\", line 1952, in full_dispatch_request\n",
      "    rv = self.handle_user_exception(e)\n",
      "  File \"/home/ayah/anaconda3/lib/python3.9/site-packages/flask/app.py\", line 1821, in handle_user_exception\n",
      "    reraise(exc_type, exc_value, tb)\n",
      "  File \"/home/ayah/anaconda3/lib/python3.9/site-packages/flask/_compat.py\", line 39, in reraise\n",
      "    raise value\n",
      "  File \"/home/ayah/anaconda3/lib/python3.9/site-packages/flask/app.py\", line 1950, in full_dispatch_request\n",
      "    rv = self.dispatch_request()\n",
      "  File \"/home/ayah/anaconda3/lib/python3.9/site-packages/flask/app.py\", line 1936, in dispatch_request\n",
      "    return self.view_functions[rule.endpoint](**req.view_args)\n",
      "  File \"/home/ayah/anaconda3/lib/python3.9/site-packages/dash/dash.py\", line 1344, in dispatch\n",
      "    raise KeyError(msg.format(output)) from missing_callback_function\n",
      "KeyError: \"Callback function not found for output 'my_h1.children', perhaps you forgot to prepend the '@'?\"\n"
     ]
    },
    {
     "name": "stderr",
     "output_type": "stream",
     "text": [
      "127.0.0.1 - - [29/Apr/2022 16:54:33] \"POST /_dash-update-component HTTP/1.1\" 500 -\n"
     ]
    },
    {
     "name": "stdout",
     "output_type": "stream",
     "text": [
      "Exception on /_dash-update-component [POST]\n",
      "Traceback (most recent call last):\n",
      "  File \"/home/ayah/anaconda3/lib/python3.9/site-packages/dash/dash.py\", line 1306, in dispatch\n",
      "    cb = self.callback_map[output]\n",
      "KeyError: 'my_h1.children'\n",
      "\n",
      "The above exception was the direct cause of the following exception:\n",
      "\n",
      "Traceback (most recent call last):\n",
      "  File \"/home/ayah/anaconda3/lib/python3.9/site-packages/flask/app.py\", line 2447, in wsgi_app\n",
      "    response = self.full_dispatch_request()\n",
      "  File \"/home/ayah/anaconda3/lib/python3.9/site-packages/flask/app.py\", line 1952, in full_dispatch_request\n",
      "    rv = self.handle_user_exception(e)\n",
      "  File \"/home/ayah/anaconda3/lib/python3.9/site-packages/flask/app.py\", line 1821, in handle_user_exception\n",
      "    reraise(exc_type, exc_value, tb)\n",
      "  File \"/home/ayah/anaconda3/lib/python3.9/site-packages/flask/_compat.py\", line 39, in reraise\n",
      "    raise value\n",
      "  File \"/home/ayah/anaconda3/lib/python3.9/site-packages/flask/app.py\", line 1950, in full_dispatch_request\n",
      "    rv = self.dispatch_request()\n",
      "  File \"/home/ayah/anaconda3/lib/python3.9/site-packages/flask/app.py\", line 1936, in dispatch_request\n",
      "    return self.view_functions[rule.endpoint](**req.view_args)\n",
      "  File \"/home/ayah/anaconda3/lib/python3.9/site-packages/dash/dash.py\", line 1344, in dispatch\n",
      "    raise KeyError(msg.format(output)) from missing_callback_function\n",
      "KeyError: \"Callback function not found for output 'my_h1.children', perhaps you forgot to prepend the '@'?\"\n"
     ]
    },
    {
     "name": "stderr",
     "output_type": "stream",
     "text": [
      "127.0.0.1 - - [29/Apr/2022 16:54:35] \"POST /_dash-update-component HTTP/1.1\" 500 -\n"
     ]
    },
    {
     "name": "stdout",
     "output_type": "stream",
     "text": [
      "Exception on /_dash-update-component [POST]\n",
      "Traceback (most recent call last):\n",
      "  File \"/home/ayah/anaconda3/lib/python3.9/site-packages/dash/dash.py\", line 1306, in dispatch\n",
      "    cb = self.callback_map[output]\n",
      "KeyError: 'my_h1.children'\n",
      "\n",
      "The above exception was the direct cause of the following exception:\n",
      "\n",
      "Traceback (most recent call last):\n",
      "  File \"/home/ayah/anaconda3/lib/python3.9/site-packages/flask/app.py\", line 2447, in wsgi_app\n",
      "    response = self.full_dispatch_request()\n",
      "  File \"/home/ayah/anaconda3/lib/python3.9/site-packages/flask/app.py\", line 1952, in full_dispatch_request\n",
      "    rv = self.handle_user_exception(e)\n",
      "  File \"/home/ayah/anaconda3/lib/python3.9/site-packages/flask/app.py\", line 1821, in handle_user_exception\n",
      "    reraise(exc_type, exc_value, tb)\n",
      "  File \"/home/ayah/anaconda3/lib/python3.9/site-packages/flask/_compat.py\", line 39, in reraise\n",
      "    raise value\n",
      "  File \"/home/ayah/anaconda3/lib/python3.9/site-packages/flask/app.py\", line 1950, in full_dispatch_request\n",
      "    rv = self.dispatch_request()\n",
      "  File \"/home/ayah/anaconda3/lib/python3.9/site-packages/flask/app.py\", line 1936, in dispatch_request\n",
      "    return self.view_functions[rule.endpoint](**req.view_args)\n",
      "  File \"/home/ayah/anaconda3/lib/python3.9/site-packages/dash/dash.py\", line 1344, in dispatch\n",
      "    raise KeyError(msg.format(output)) from missing_callback_function\n",
      "KeyError: \"Callback function not found for output 'my_h1.children', perhaps you forgot to prepend the '@'?\"\n"
     ]
    },
    {
     "name": "stderr",
     "output_type": "stream",
     "text": [
      "127.0.0.1 - - [29/Apr/2022 16:54:36] \"POST /_dash-update-component HTTP/1.1\" 500 -\n"
     ]
    },
    {
     "name": "stdout",
     "output_type": "stream",
     "text": [
      "Exception on /_dash-update-component [POST]\n",
      "Traceback (most recent call last):\n",
      "  File \"/home/ayah/anaconda3/lib/python3.9/site-packages/dash/dash.py\", line 1306, in dispatch\n",
      "    cb = self.callback_map[output]\n",
      "KeyError: 'my_h1.children'\n",
      "\n",
      "The above exception was the direct cause of the following exception:\n",
      "\n",
      "Traceback (most recent call last):\n",
      "  File \"/home/ayah/anaconda3/lib/python3.9/site-packages/flask/app.py\", line 2447, in wsgi_app\n",
      "    response = self.full_dispatch_request()\n",
      "  File \"/home/ayah/anaconda3/lib/python3.9/site-packages/flask/app.py\", line 1952, in full_dispatch_request\n",
      "    rv = self.handle_user_exception(e)\n",
      "  File \"/home/ayah/anaconda3/lib/python3.9/site-packages/flask/app.py\", line 1821, in handle_user_exception\n",
      "    reraise(exc_type, exc_value, tb)\n",
      "  File \"/home/ayah/anaconda3/lib/python3.9/site-packages/flask/_compat.py\", line 39, in reraise\n",
      "    raise value\n",
      "  File \"/home/ayah/anaconda3/lib/python3.9/site-packages/flask/app.py\", line 1950, in full_dispatch_request\n",
      "    rv = self.dispatch_request()\n",
      "  File \"/home/ayah/anaconda3/lib/python3.9/site-packages/flask/app.py\", line 1936, in dispatch_request\n",
      "    return self.view_functions[rule.endpoint](**req.view_args)\n",
      "  File \"/home/ayah/anaconda3/lib/python3.9/site-packages/dash/dash.py\", line 1344, in dispatch\n",
      "    raise KeyError(msg.format(output)) from missing_callback_function\n",
      "KeyError: \"Callback function not found for output 'my_h1.children', perhaps you forgot to prepend the '@'?\"\n"
     ]
    },
    {
     "name": "stderr",
     "output_type": "stream",
     "text": [
      "127.0.0.1 - - [29/Apr/2022 16:54:36] \"POST /_dash-update-component HTTP/1.1\" 500 -\n"
     ]
    },
    {
     "name": "stdout",
     "output_type": "stream",
     "text": [
      "Exception on /_dash-update-component [POST]\n",
      "Traceback (most recent call last):\n",
      "  File \"/home/ayah/anaconda3/lib/python3.9/site-packages/dash/dash.py\", line 1306, in dispatch\n",
      "    cb = self.callback_map[output]\n",
      "KeyError: 'my_h1.children'\n",
      "\n",
      "The above exception was the direct cause of the following exception:\n",
      "\n",
      "Traceback (most recent call last):\n",
      "  File \"/home/ayah/anaconda3/lib/python3.9/site-packages/flask/app.py\", line 2447, in wsgi_app\n",
      "    response = self.full_dispatch_request()\n",
      "  File \"/home/ayah/anaconda3/lib/python3.9/site-packages/flask/app.py\", line 1952, in full_dispatch_request\n",
      "    rv = self.handle_user_exception(e)\n",
      "  File \"/home/ayah/anaconda3/lib/python3.9/site-packages/flask/app.py\", line 1821, in handle_user_exception\n",
      "    reraise(exc_type, exc_value, tb)\n",
      "  File \"/home/ayah/anaconda3/lib/python3.9/site-packages/flask/_compat.py\", line 39, in reraise\n",
      "    raise value\n",
      "  File \"/home/ayah/anaconda3/lib/python3.9/site-packages/flask/app.py\", line 1950, in full_dispatch_request\n",
      "    rv = self.dispatch_request()\n",
      "  File \"/home/ayah/anaconda3/lib/python3.9/site-packages/flask/app.py\", line 1936, in dispatch_request\n",
      "    return self.view_functions[rule.endpoint](**req.view_args)\n",
      "  File \"/home/ayah/anaconda3/lib/python3.9/site-packages/dash/dash.py\", line 1344, in dispatch\n",
      "    raise KeyError(msg.format(output)) from missing_callback_function\n",
      "KeyError: \"Callback function not found for output 'my_h1.children', perhaps you forgot to prepend the '@'?\"\n"
     ]
    },
    {
     "name": "stderr",
     "output_type": "stream",
     "text": [
      "127.0.0.1 - - [29/Apr/2022 16:54:38] \"POST /_dash-update-component HTTP/1.1\" 500 -\n"
     ]
    },
    {
     "name": "stdout",
     "output_type": "stream",
     "text": [
      "Exception on /_dash-update-component [POST]\n",
      "Traceback (most recent call last):\n",
      "  File \"/home/ayah/anaconda3/lib/python3.9/site-packages/dash/dash.py\", line 1306, in dispatch\n",
      "    cb = self.callback_map[output]\n",
      "KeyError: 'my_h1.children'\n",
      "\n",
      "The above exception was the direct cause of the following exception:\n",
      "\n",
      "Traceback (most recent call last):\n",
      "  File \"/home/ayah/anaconda3/lib/python3.9/site-packages/flask/app.py\", line 2447, in wsgi_app\n",
      "    response = self.full_dispatch_request()\n",
      "  File \"/home/ayah/anaconda3/lib/python3.9/site-packages/flask/app.py\", line 1952, in full_dispatch_request\n",
      "    rv = self.handle_user_exception(e)\n",
      "  File \"/home/ayah/anaconda3/lib/python3.9/site-packages/flask/app.py\", line 1821, in handle_user_exception\n",
      "    reraise(exc_type, exc_value, tb)\n",
      "  File \"/home/ayah/anaconda3/lib/python3.9/site-packages/flask/_compat.py\", line 39, in reraise\n",
      "    raise value\n",
      "  File \"/home/ayah/anaconda3/lib/python3.9/site-packages/flask/app.py\", line 1950, in full_dispatch_request\n",
      "    rv = self.dispatch_request()\n",
      "  File \"/home/ayah/anaconda3/lib/python3.9/site-packages/flask/app.py\", line 1936, in dispatch_request\n",
      "    return self.view_functions[rule.endpoint](**req.view_args)\n",
      "  File \"/home/ayah/anaconda3/lib/python3.9/site-packages/dash/dash.py\", line 1344, in dispatch\n",
      "    raise KeyError(msg.format(output)) from missing_callback_function\n",
      "KeyError: \"Callback function not found for output 'my_h1.children', perhaps you forgot to prepend the '@'?\"\n"
     ]
    },
    {
     "name": "stderr",
     "output_type": "stream",
     "text": [
      "127.0.0.1 - - [29/Apr/2022 16:54:40] \"POST /_dash-update-component HTTP/1.1\" 500 -\n"
     ]
    },
    {
     "name": "stdout",
     "output_type": "stream",
     "text": [
      "Exception on /_dash-update-component [POST]\n",
      "Traceback (most recent call last):\n",
      "  File \"/home/ayah/anaconda3/lib/python3.9/site-packages/dash/dash.py\", line 1306, in dispatch\n",
      "    cb = self.callback_map[output]\n",
      "KeyError: 'my_h1.children'\n",
      "\n",
      "The above exception was the direct cause of the following exception:\n",
      "\n",
      "Traceback (most recent call last):\n",
      "  File \"/home/ayah/anaconda3/lib/python3.9/site-packages/flask/app.py\", line 2447, in wsgi_app\n",
      "    response = self.full_dispatch_request()\n",
      "  File \"/home/ayah/anaconda3/lib/python3.9/site-packages/flask/app.py\", line 1952, in full_dispatch_request\n",
      "    rv = self.handle_user_exception(e)\n",
      "  File \"/home/ayah/anaconda3/lib/python3.9/site-packages/flask/app.py\", line 1821, in handle_user_exception\n",
      "    reraise(exc_type, exc_value, tb)\n",
      "  File \"/home/ayah/anaconda3/lib/python3.9/site-packages/flask/_compat.py\", line 39, in reraise\n",
      "    raise value\n",
      "  File \"/home/ayah/anaconda3/lib/python3.9/site-packages/flask/app.py\", line 1950, in full_dispatch_request\n",
      "    rv = self.dispatch_request()\n",
      "  File \"/home/ayah/anaconda3/lib/python3.9/site-packages/flask/app.py\", line 1936, in dispatch_request\n",
      "    return self.view_functions[rule.endpoint](**req.view_args)\n",
      "  File \"/home/ayah/anaconda3/lib/python3.9/site-packages/dash/dash.py\", line 1344, in dispatch\n",
      "    raise KeyError(msg.format(output)) from missing_callback_function\n",
      "KeyError: \"Callback function not found for output 'my_h1.children', perhaps you forgot to prepend the '@'?\"\n"
     ]
    },
    {
     "name": "stderr",
     "output_type": "stream",
     "text": [
      "127.0.0.1 - - [29/Apr/2022 16:54:41] \"POST /_dash-update-component HTTP/1.1\" 500 -\n"
     ]
    },
    {
     "name": "stdout",
     "output_type": "stream",
     "text": [
      "Exception on /_dash-update-component [POST]\n",
      "Traceback (most recent call last):\n",
      "  File \"/home/ayah/anaconda3/lib/python3.9/site-packages/dash/dash.py\", line 1306, in dispatch\n",
      "    cb = self.callback_map[output]\n",
      "KeyError: 'my_h1.children'\n",
      "\n",
      "The above exception was the direct cause of the following exception:\n",
      "\n",
      "Traceback (most recent call last):\n",
      "  File \"/home/ayah/anaconda3/lib/python3.9/site-packages/flask/app.py\", line 2447, in wsgi_app\n",
      "    response = self.full_dispatch_request()\n",
      "  File \"/home/ayah/anaconda3/lib/python3.9/site-packages/flask/app.py\", line 1952, in full_dispatch_request\n",
      "    rv = self.handle_user_exception(e)\n",
      "  File \"/home/ayah/anaconda3/lib/python3.9/site-packages/flask/app.py\", line 1821, in handle_user_exception\n",
      "    reraise(exc_type, exc_value, tb)\n",
      "  File \"/home/ayah/anaconda3/lib/python3.9/site-packages/flask/_compat.py\", line 39, in reraise\n",
      "    raise value\n",
      "  File \"/home/ayah/anaconda3/lib/python3.9/site-packages/flask/app.py\", line 1950, in full_dispatch_request\n",
      "    rv = self.dispatch_request()\n",
      "  File \"/home/ayah/anaconda3/lib/python3.9/site-packages/flask/app.py\", line 1936, in dispatch_request\n",
      "    return self.view_functions[rule.endpoint](**req.view_args)\n",
      "  File \"/home/ayah/anaconda3/lib/python3.9/site-packages/dash/dash.py\", line 1344, in dispatch\n",
      "    raise KeyError(msg.format(output)) from missing_callback_function\n",
      "KeyError: \"Callback function not found for output 'my_h1.children', perhaps you forgot to prepend the '@'?\"\n"
     ]
    },
    {
     "name": "stderr",
     "output_type": "stream",
     "text": [
      "127.0.0.1 - - [29/Apr/2022 16:54:41] \"POST /_dash-update-component HTTP/1.1\" 500 -\n"
     ]
    },
    {
     "name": "stdout",
     "output_type": "stream",
     "text": [
      "Exception on /_dash-update-component [POST]\n",
      "Traceback (most recent call last):\n",
      "  File \"/home/ayah/anaconda3/lib/python3.9/site-packages/dash/dash.py\", line 1306, in dispatch\n",
      "    cb = self.callback_map[output]\n",
      "KeyError: 'my_h1.children'\n",
      "\n",
      "The above exception was the direct cause of the following exception:\n",
      "\n",
      "Traceback (most recent call last):\n",
      "  File \"/home/ayah/anaconda3/lib/python3.9/site-packages/flask/app.py\", line 2447, in wsgi_app\n",
      "    response = self.full_dispatch_request()\n",
      "  File \"/home/ayah/anaconda3/lib/python3.9/site-packages/flask/app.py\", line 1952, in full_dispatch_request\n",
      "    rv = self.handle_user_exception(e)\n",
      "  File \"/home/ayah/anaconda3/lib/python3.9/site-packages/flask/app.py\", line 1821, in handle_user_exception\n",
      "    reraise(exc_type, exc_value, tb)\n",
      "  File \"/home/ayah/anaconda3/lib/python3.9/site-packages/flask/_compat.py\", line 39, in reraise\n",
      "    raise value\n",
      "  File \"/home/ayah/anaconda3/lib/python3.9/site-packages/flask/app.py\", line 1950, in full_dispatch_request\n",
      "    rv = self.dispatch_request()\n",
      "  File \"/home/ayah/anaconda3/lib/python3.9/site-packages/flask/app.py\", line 1936, in dispatch_request\n",
      "    return self.view_functions[rule.endpoint](**req.view_args)\n",
      "  File \"/home/ayah/anaconda3/lib/python3.9/site-packages/dash/dash.py\", line 1344, in dispatch\n",
      "    raise KeyError(msg.format(output)) from missing_callback_function\n",
      "KeyError: \"Callback function not found for output 'my_h1.children', perhaps you forgot to prepend the '@'?\"\n"
     ]
    },
    {
     "name": "stderr",
     "output_type": "stream",
     "text": [
      "127.0.0.1 - - [29/Apr/2022 16:54:43] \"POST /_dash-update-component HTTP/1.1\" 500 -\n"
     ]
    },
    {
     "name": "stdout",
     "output_type": "stream",
     "text": [
      "Exception on /_dash-update-component [POST]\n",
      "Traceback (most recent call last):\n",
      "  File \"/home/ayah/anaconda3/lib/python3.9/site-packages/dash/dash.py\", line 1306, in dispatch\n",
      "    cb = self.callback_map[output]\n",
      "KeyError: 'my_h1.children'\n",
      "\n",
      "The above exception was the direct cause of the following exception:\n",
      "\n",
      "Traceback (most recent call last):\n",
      "  File \"/home/ayah/anaconda3/lib/python3.9/site-packages/flask/app.py\", line 2447, in wsgi_app\n",
      "    response = self.full_dispatch_request()\n",
      "  File \"/home/ayah/anaconda3/lib/python3.9/site-packages/flask/app.py\", line 1952, in full_dispatch_request\n",
      "    rv = self.handle_user_exception(e)\n",
      "  File \"/home/ayah/anaconda3/lib/python3.9/site-packages/flask/app.py\", line 1821, in handle_user_exception\n",
      "    reraise(exc_type, exc_value, tb)\n",
      "  File \"/home/ayah/anaconda3/lib/python3.9/site-packages/flask/_compat.py\", line 39, in reraise\n",
      "    raise value\n",
      "  File \"/home/ayah/anaconda3/lib/python3.9/site-packages/flask/app.py\", line 1950, in full_dispatch_request\n",
      "    rv = self.dispatch_request()\n",
      "  File \"/home/ayah/anaconda3/lib/python3.9/site-packages/flask/app.py\", line 1936, in dispatch_request\n",
      "    return self.view_functions[rule.endpoint](**req.view_args)\n",
      "  File \"/home/ayah/anaconda3/lib/python3.9/site-packages/dash/dash.py\", line 1344, in dispatch\n",
      "    raise KeyError(msg.format(output)) from missing_callback_function\n",
      "KeyError: \"Callback function not found for output 'my_h1.children', perhaps you forgot to prepend the '@'?\"\n"
     ]
    },
    {
     "name": "stderr",
     "output_type": "stream",
     "text": [
      "127.0.0.1 - - [29/Apr/2022 16:54:45] \"POST /_dash-update-component HTTP/1.1\" 500 -\n"
     ]
    },
    {
     "name": "stdout",
     "output_type": "stream",
     "text": [
      "Exception on /_dash-update-component [POST]\n",
      "Traceback (most recent call last):\n",
      "  File \"/home/ayah/anaconda3/lib/python3.9/site-packages/dash/dash.py\", line 1306, in dispatch\n",
      "    cb = self.callback_map[output]\n",
      "KeyError: 'my_h1.children'\n",
      "\n",
      "The above exception was the direct cause of the following exception:\n",
      "\n",
      "Traceback (most recent call last):\n",
      "  File \"/home/ayah/anaconda3/lib/python3.9/site-packages/flask/app.py\", line 2447, in wsgi_app\n",
      "    response = self.full_dispatch_request()\n",
      "  File \"/home/ayah/anaconda3/lib/python3.9/site-packages/flask/app.py\", line 1952, in full_dispatch_request\n",
      "    rv = self.handle_user_exception(e)\n",
      "  File \"/home/ayah/anaconda3/lib/python3.9/site-packages/flask/app.py\", line 1821, in handle_user_exception\n",
      "    reraise(exc_type, exc_value, tb)\n",
      "  File \"/home/ayah/anaconda3/lib/python3.9/site-packages/flask/_compat.py\", line 39, in reraise\n",
      "    raise value\n",
      "  File \"/home/ayah/anaconda3/lib/python3.9/site-packages/flask/app.py\", line 1950, in full_dispatch_request\n",
      "    rv = self.dispatch_request()\n",
      "  File \"/home/ayah/anaconda3/lib/python3.9/site-packages/flask/app.py\", line 1936, in dispatch_request\n",
      "    return self.view_functions[rule.endpoint](**req.view_args)\n",
      "  File \"/home/ayah/anaconda3/lib/python3.9/site-packages/dash/dash.py\", line 1344, in dispatch\n",
      "    raise KeyError(msg.format(output)) from missing_callback_function\n",
      "KeyError: \"Callback function not found for output 'my_h1.children', perhaps you forgot to prepend the '@'?\"\n"
     ]
    },
    {
     "name": "stderr",
     "output_type": "stream",
     "text": [
      "127.0.0.1 - - [29/Apr/2022 16:54:46] \"POST /_dash-update-component HTTP/1.1\" 500 -\n"
     ]
    },
    {
     "name": "stdout",
     "output_type": "stream",
     "text": [
      "Exception on /_dash-update-component [POST]\n",
      "Traceback (most recent call last):\n",
      "  File \"/home/ayah/anaconda3/lib/python3.9/site-packages/dash/dash.py\", line 1306, in dispatch\n",
      "    cb = self.callback_map[output]\n",
      "KeyError: 'my_h1.children'\n",
      "\n",
      "The above exception was the direct cause of the following exception:\n",
      "\n",
      "Traceback (most recent call last):\n",
      "  File \"/home/ayah/anaconda3/lib/python3.9/site-packages/flask/app.py\", line 2447, in wsgi_app\n",
      "    response = self.full_dispatch_request()\n",
      "  File \"/home/ayah/anaconda3/lib/python3.9/site-packages/flask/app.py\", line 1952, in full_dispatch_request\n",
      "    rv = self.handle_user_exception(e)\n",
      "  File \"/home/ayah/anaconda3/lib/python3.9/site-packages/flask/app.py\", line 1821, in handle_user_exception\n",
      "    reraise(exc_type, exc_value, tb)\n",
      "  File \"/home/ayah/anaconda3/lib/python3.9/site-packages/flask/_compat.py\", line 39, in reraise\n",
      "    raise value\n",
      "  File \"/home/ayah/anaconda3/lib/python3.9/site-packages/flask/app.py\", line 1950, in full_dispatch_request\n",
      "    rv = self.dispatch_request()\n",
      "  File \"/home/ayah/anaconda3/lib/python3.9/site-packages/flask/app.py\", line 1936, in dispatch_request\n",
      "    return self.view_functions[rule.endpoint](**req.view_args)\n",
      "  File \"/home/ayah/anaconda3/lib/python3.9/site-packages/dash/dash.py\", line 1344, in dispatch\n",
      "    raise KeyError(msg.format(output)) from missing_callback_function\n",
      "KeyError: \"Callback function not found for output 'my_h1.children', perhaps you forgot to prepend the '@'?\"\n"
     ]
    },
    {
     "name": "stderr",
     "output_type": "stream",
     "text": [
      "127.0.0.1 - - [29/Apr/2022 16:54:46] \"POST /_dash-update-component HTTP/1.1\" 500 -\n"
     ]
    },
    {
     "name": "stdout",
     "output_type": "stream",
     "text": [
      "Exception on /_dash-update-component [POST]\n",
      "Traceback (most recent call last):\n",
      "  File \"/home/ayah/anaconda3/lib/python3.9/site-packages/dash/dash.py\", line 1306, in dispatch\n",
      "    cb = self.callback_map[output]\n",
      "KeyError: 'my_h1.children'\n",
      "\n",
      "The above exception was the direct cause of the following exception:\n",
      "\n",
      "Traceback (most recent call last):\n",
      "  File \"/home/ayah/anaconda3/lib/python3.9/site-packages/flask/app.py\", line 2447, in wsgi_app\n",
      "    response = self.full_dispatch_request()\n",
      "  File \"/home/ayah/anaconda3/lib/python3.9/site-packages/flask/app.py\", line 1952, in full_dispatch_request\n",
      "    rv = self.handle_user_exception(e)\n",
      "  File \"/home/ayah/anaconda3/lib/python3.9/site-packages/flask/app.py\", line 1821, in handle_user_exception\n",
      "    reraise(exc_type, exc_value, tb)\n",
      "  File \"/home/ayah/anaconda3/lib/python3.9/site-packages/flask/_compat.py\", line 39, in reraise\n",
      "    raise value\n",
      "  File \"/home/ayah/anaconda3/lib/python3.9/site-packages/flask/app.py\", line 1950, in full_dispatch_request\n",
      "    rv = self.dispatch_request()\n",
      "  File \"/home/ayah/anaconda3/lib/python3.9/site-packages/flask/app.py\", line 1936, in dispatch_request\n",
      "    return self.view_functions[rule.endpoint](**req.view_args)\n",
      "  File \"/home/ayah/anaconda3/lib/python3.9/site-packages/dash/dash.py\", line 1344, in dispatch\n",
      "    raise KeyError(msg.format(output)) from missing_callback_function\n",
      "KeyError: \"Callback function not found for output 'my_h1.children', perhaps you forgot to prepend the '@'?\"\n"
     ]
    },
    {
     "name": "stderr",
     "output_type": "stream",
     "text": [
      "127.0.0.1 - - [29/Apr/2022 16:54:48] \"POST /_dash-update-component HTTP/1.1\" 500 -\n"
     ]
    },
    {
     "name": "stdout",
     "output_type": "stream",
     "text": [
      "Exception on /_dash-update-component [POST]\n",
      "Traceback (most recent call last):\n",
      "  File \"/home/ayah/anaconda3/lib/python3.9/site-packages/dash/dash.py\", line 1306, in dispatch\n",
      "    cb = self.callback_map[output]\n",
      "KeyError: 'my_h1.children'\n",
      "\n",
      "The above exception was the direct cause of the following exception:\n",
      "\n",
      "Traceback (most recent call last):\n",
      "  File \"/home/ayah/anaconda3/lib/python3.9/site-packages/flask/app.py\", line 2447, in wsgi_app\n",
      "    response = self.full_dispatch_request()\n",
      "  File \"/home/ayah/anaconda3/lib/python3.9/site-packages/flask/app.py\", line 1952, in full_dispatch_request\n",
      "    rv = self.handle_user_exception(e)\n",
      "  File \"/home/ayah/anaconda3/lib/python3.9/site-packages/flask/app.py\", line 1821, in handle_user_exception\n",
      "    reraise(exc_type, exc_value, tb)\n",
      "  File \"/home/ayah/anaconda3/lib/python3.9/site-packages/flask/_compat.py\", line 39, in reraise\n",
      "    raise value\n",
      "  File \"/home/ayah/anaconda3/lib/python3.9/site-packages/flask/app.py\", line 1950, in full_dispatch_request\n",
      "    rv = self.dispatch_request()\n",
      "  File \"/home/ayah/anaconda3/lib/python3.9/site-packages/flask/app.py\", line 1936, in dispatch_request\n",
      "    return self.view_functions[rule.endpoint](**req.view_args)\n",
      "  File \"/home/ayah/anaconda3/lib/python3.9/site-packages/dash/dash.py\", line 1344, in dispatch\n",
      "    raise KeyError(msg.format(output)) from missing_callback_function\n",
      "KeyError: \"Callback function not found for output 'my_h1.children', perhaps you forgot to prepend the '@'?\"\n"
     ]
    },
    {
     "name": "stderr",
     "output_type": "stream",
     "text": [
      "127.0.0.1 - - [29/Apr/2022 16:54:50] \"POST /_dash-update-component HTTP/1.1\" 500 -\n"
     ]
    },
    {
     "name": "stdout",
     "output_type": "stream",
     "text": [
      "Exception on /_dash-update-component [POST]\n",
      "Traceback (most recent call last):\n",
      "  File \"/home/ayah/anaconda3/lib/python3.9/site-packages/dash/dash.py\", line 1306, in dispatch\n",
      "    cb = self.callback_map[output]\n",
      "KeyError: 'my_h1.children'\n",
      "\n",
      "The above exception was the direct cause of the following exception:\n",
      "\n",
      "Traceback (most recent call last):\n",
      "  File \"/home/ayah/anaconda3/lib/python3.9/site-packages/flask/app.py\", line 2447, in wsgi_app\n",
      "    response = self.full_dispatch_request()\n",
      "  File \"/home/ayah/anaconda3/lib/python3.9/site-packages/flask/app.py\", line 1952, in full_dispatch_request\n",
      "    rv = self.handle_user_exception(e)\n",
      "  File \"/home/ayah/anaconda3/lib/python3.9/site-packages/flask/app.py\", line 1821, in handle_user_exception\n",
      "    reraise(exc_type, exc_value, tb)\n",
      "  File \"/home/ayah/anaconda3/lib/python3.9/site-packages/flask/_compat.py\", line 39, in reraise\n",
      "    raise value\n",
      "  File \"/home/ayah/anaconda3/lib/python3.9/site-packages/flask/app.py\", line 1950, in full_dispatch_request\n",
      "    rv = self.dispatch_request()\n",
      "  File \"/home/ayah/anaconda3/lib/python3.9/site-packages/flask/app.py\", line 1936, in dispatch_request\n",
      "    return self.view_functions[rule.endpoint](**req.view_args)\n",
      "  File \"/home/ayah/anaconda3/lib/python3.9/site-packages/dash/dash.py\", line 1344, in dispatch\n",
      "    raise KeyError(msg.format(output)) from missing_callback_function\n",
      "KeyError: \"Callback function not found for output 'my_h1.children', perhaps you forgot to prepend the '@'?\"\n"
     ]
    },
    {
     "name": "stderr",
     "output_type": "stream",
     "text": [
      "127.0.0.1 - - [29/Apr/2022 16:54:51] \"POST /_dash-update-component HTTP/1.1\" 500 -\n",
      "127.0.0.1 - - [29/Apr/2022 16:54:51] \"GET / HTTP/1.1\" 200 -\n",
      "127.0.0.1 - - [29/Apr/2022 16:54:51] \"GET /_dash-component-suites/dash_bootstrap_components/_components/dash_bootstrap_components.v1_1_0m1651242495.min.js HTTP/1.1\" 200 -\n",
      "127.0.0.1 - - [29/Apr/2022 16:54:51] \"GET /_dash-component-suites/dash/dash-renderer/build/dash_renderer.v2_3_0m1648105790.min.js HTTP/1.1\" 200 -\n"
     ]
    },
    {
     "name": "stdout",
     "output_type": "stream",
     "text": [
      "Exception on /_dash-update-component [POST]\n",
      "Traceback (most recent call last):\n",
      "  File \"/home/ayah/anaconda3/lib/python3.9/site-packages/dash/dash.py\", line 1306, in dispatch\n",
      "    cb = self.callback_map[output]\n",
      "KeyError: 'my_h1.children'\n",
      "\n",
      "The above exception was the direct cause of the following exception:\n",
      "\n",
      "Traceback (most recent call last):\n",
      "  File \"/home/ayah/anaconda3/lib/python3.9/site-packages/flask/app.py\", line 2447, in wsgi_app\n",
      "    response = self.full_dispatch_request()\n",
      "  File \"/home/ayah/anaconda3/lib/python3.9/site-packages/flask/app.py\", line 1952, in full_dispatch_request\n",
      "    rv = self.handle_user_exception(e)\n",
      "  File \"/home/ayah/anaconda3/lib/python3.9/site-packages/flask/app.py\", line 1821, in handle_user_exception\n",
      "    reraise(exc_type, exc_value, tb)\n",
      "  File \"/home/ayah/anaconda3/lib/python3.9/site-packages/flask/_compat.py\", line 39, in reraise\n",
      "    raise value\n",
      "  File \"/home/ayah/anaconda3/lib/python3.9/site-packages/flask/app.py\", line 1950, in full_dispatch_request\n",
      "    rv = self.dispatch_request()\n",
      "  File \"/home/ayah/anaconda3/lib/python3.9/site-packages/flask/app.py\", line 1936, in dispatch_request\n",
      "    return self.view_functions[rule.endpoint](**req.view_args)\n",
      "  File \"/home/ayah/anaconda3/lib/python3.9/site-packages/dash/dash.py\", line 1344, in dispatch\n",
      "    raise KeyError(msg.format(output)) from missing_callback_function\n",
      "KeyError: \"Callback function not found for output 'my_h1.children', perhaps you forgot to prepend the '@'?\"\n"
     ]
    },
    {
     "name": "stderr",
     "output_type": "stream",
     "text": [
      "127.0.0.1 - - [29/Apr/2022 16:54:51] \"GET /_dash-component-suites/dash/dcc/dash_core_components.v2_3_0m1648105790.js HTTP/1.1\" 200 -\n",
      "127.0.0.1 - - [29/Apr/2022 16:54:51] \"POST /_dash-update-component HTTP/1.1\" 500 -\n",
      "127.0.0.1 - - [29/Apr/2022 16:54:52] \"GET /_dash-layout HTTP/1.1\" 200 -\n",
      "127.0.0.1 - - [29/Apr/2022 16:54:52] \"GET /_dash-dependencies HTTP/1.1\" 200 -\n",
      "127.0.0.1 - - [29/Apr/2022 16:54:52] \"GET /_dash-component-suites/dash/dcc/async-graph.js HTTP/1.1\" 304 -\n",
      "127.0.0.1 - - [29/Apr/2022 16:54:52] \"GET /_dash-component-suites/dash/dcc/async-dropdown.js HTTP/1.1\" 200 -\n",
      "127.0.0.1 - - [29/Apr/2022 16:54:52] \"GET /_dash-component-suites/dash/dcc/async-plotlyjs.js HTTP/1.1\" 200 -\n",
      "127.0.0.1 - - [29/Apr/2022 16:54:52] \"POST /_dash-update-component HTTP/1.1\" 200 -\n",
      "127.0.0.1 - - [29/Apr/2022 16:54:52] \"POST /_dash-update-component HTTP/1.1\" 200 -\n",
      "127.0.0.1 - - [29/Apr/2022 16:54:52] \"POST /_dash-update-component HTTP/1.1\" 200 -\n",
      "127.0.0.1 - - [29/Apr/2022 16:54:52] \"POST /_dash-update-component HTTP/1.1\" 200 -\n"
     ]
    },
    {
     "name": "stdout",
     "output_type": "stream",
     "text": [
      "Exception on /_dash-update-component [POST]\n",
      "Traceback (most recent call last):\n",
      "  File \"/home/ayah/anaconda3/lib/python3.9/site-packages/dash/dash.py\", line 1306, in dispatch\n",
      "    cb = self.callback_map[output]\n",
      "KeyError: 'my_h1.children'\n",
      "\n",
      "The above exception was the direct cause of the following exception:\n",
      "\n",
      "Traceback (most recent call last):\n",
      "  File \"/home/ayah/anaconda3/lib/python3.9/site-packages/flask/app.py\", line 2447, in wsgi_app\n",
      "    response = self.full_dispatch_request()\n",
      "  File \"/home/ayah/anaconda3/lib/python3.9/site-packages/flask/app.py\", line 1952, in full_dispatch_request\n",
      "    rv = self.handle_user_exception(e)\n",
      "  File \"/home/ayah/anaconda3/lib/python3.9/site-packages/flask/app.py\", line 1821, in handle_user_exception\n",
      "    reraise(exc_type, exc_value, tb)\n",
      "  File \"/home/ayah/anaconda3/lib/python3.9/site-packages/flask/_compat.py\", line 39, in reraise\n",
      "    raise value\n",
      "  File \"/home/ayah/anaconda3/lib/python3.9/site-packages/flask/app.py\", line 1950, in full_dispatch_request\n",
      "    rv = self.dispatch_request()\n",
      "  File \"/home/ayah/anaconda3/lib/python3.9/site-packages/flask/app.py\", line 1936, in dispatch_request\n",
      "    return self.view_functions[rule.endpoint](**req.view_args)\n",
      "  File \"/home/ayah/anaconda3/lib/python3.9/site-packages/dash/dash.py\", line 1344, in dispatch\n",
      "    raise KeyError(msg.format(output)) from missing_callback_function\n",
      "KeyError: \"Callback function not found for output 'my_h1.children', perhaps you forgot to prepend the '@'?\"\n"
     ]
    },
    {
     "name": "stderr",
     "output_type": "stream",
     "text": [
      "127.0.0.1 - - [29/Apr/2022 16:54:53] \"POST /_dash-update-component HTTP/1.1\" 500 -\n"
     ]
    },
    {
     "name": "stdout",
     "output_type": "stream",
     "text": [
      "Exception on /_dash-update-component [POST]\n",
      "Traceback (most recent call last):\n",
      "  File \"/home/ayah/anaconda3/lib/python3.9/site-packages/dash/dash.py\", line 1306, in dispatch\n",
      "    cb = self.callback_map[output]\n",
      "KeyError: 'my_h1.children'\n",
      "\n",
      "The above exception was the direct cause of the following exception:\n",
      "\n",
      "Traceback (most recent call last):\n",
      "  File \"/home/ayah/anaconda3/lib/python3.9/site-packages/flask/app.py\", line 2447, in wsgi_app\n",
      "    response = self.full_dispatch_request()\n",
      "  File \"/home/ayah/anaconda3/lib/python3.9/site-packages/flask/app.py\", line 1952, in full_dispatch_request\n",
      "    rv = self.handle_user_exception(e)\n",
      "  File \"/home/ayah/anaconda3/lib/python3.9/site-packages/flask/app.py\", line 1821, in handle_user_exception\n",
      "    reraise(exc_type, exc_value, tb)\n",
      "  File \"/home/ayah/anaconda3/lib/python3.9/site-packages/flask/_compat.py\", line 39, in reraise\n",
      "    raise value\n",
      "  File \"/home/ayah/anaconda3/lib/python3.9/site-packages/flask/app.py\", line 1950, in full_dispatch_request\n",
      "    rv = self.dispatch_request()\n",
      "  File \"/home/ayah/anaconda3/lib/python3.9/site-packages/flask/app.py\", line 1936, in dispatch_request\n",
      "    return self.view_functions[rule.endpoint](**req.view_args)\n",
      "  File \"/home/ayah/anaconda3/lib/python3.9/site-packages/dash/dash.py\", line 1344, in dispatch\n",
      "    raise KeyError(msg.format(output)) from missing_callback_function\n",
      "KeyError: \"Callback function not found for output 'my_h1.children', perhaps you forgot to prepend the '@'?\"\n"
     ]
    },
    {
     "name": "stderr",
     "output_type": "stream",
     "text": [
      "127.0.0.1 - - [29/Apr/2022 16:54:55] \"POST /_dash-update-component HTTP/1.1\" 500 -\n"
     ]
    },
    {
     "name": "stdout",
     "output_type": "stream",
     "text": [
      "Exception on /_dash-update-component [POST]\n",
      "Traceback (most recent call last):\n",
      "  File \"/home/ayah/anaconda3/lib/python3.9/site-packages/dash/dash.py\", line 1306, in dispatch\n",
      "    cb = self.callback_map[output]\n",
      "KeyError: 'my_h1.children'\n",
      "\n",
      "The above exception was the direct cause of the following exception:\n",
      "\n",
      "Traceback (most recent call last):\n",
      "  File \"/home/ayah/anaconda3/lib/python3.9/site-packages/flask/app.py\", line 2447, in wsgi_app\n",
      "    response = self.full_dispatch_request()\n",
      "  File \"/home/ayah/anaconda3/lib/python3.9/site-packages/flask/app.py\", line 1952, in full_dispatch_request\n",
      "    rv = self.handle_user_exception(e)\n",
      "  File \"/home/ayah/anaconda3/lib/python3.9/site-packages/flask/app.py\", line 1821, in handle_user_exception\n",
      "    reraise(exc_type, exc_value, tb)\n",
      "  File \"/home/ayah/anaconda3/lib/python3.9/site-packages/flask/_compat.py\", line 39, in reraise\n",
      "    raise value\n",
      "  File \"/home/ayah/anaconda3/lib/python3.9/site-packages/flask/app.py\", line 1950, in full_dispatch_request\n",
      "    rv = self.dispatch_request()\n",
      "  File \"/home/ayah/anaconda3/lib/python3.9/site-packages/flask/app.py\", line 1936, in dispatch_request\n",
      "    return self.view_functions[rule.endpoint](**req.view_args)\n",
      "  File \"/home/ayah/anaconda3/lib/python3.9/site-packages/dash/dash.py\", line 1344, in dispatch\n",
      "    raise KeyError(msg.format(output)) from missing_callback_function\n",
      "KeyError: \"Callback function not found for output 'my_h1.children', perhaps you forgot to prepend the '@'?\"\n"
     ]
    },
    {
     "name": "stderr",
     "output_type": "stream",
     "text": [
      "127.0.0.1 - - [29/Apr/2022 16:54:56] \"POST /_dash-update-component HTTP/1.1\" 500 -\n"
     ]
    },
    {
     "name": "stdout",
     "output_type": "stream",
     "text": [
      "Exception on /_dash-update-component [POST]\n",
      "Traceback (most recent call last):\n",
      "  File \"/home/ayah/anaconda3/lib/python3.9/site-packages/dash/dash.py\", line 1306, in dispatch\n",
      "    cb = self.callback_map[output]\n",
      "KeyError: 'my_h1.children'\n",
      "\n",
      "The above exception was the direct cause of the following exception:\n",
      "\n",
      "Traceback (most recent call last):\n",
      "  File \"/home/ayah/anaconda3/lib/python3.9/site-packages/flask/app.py\", line 2447, in wsgi_app\n",
      "    response = self.full_dispatch_request()\n",
      "  File \"/home/ayah/anaconda3/lib/python3.9/site-packages/flask/app.py\", line 1952, in full_dispatch_request\n",
      "    rv = self.handle_user_exception(e)\n",
      "  File \"/home/ayah/anaconda3/lib/python3.9/site-packages/flask/app.py\", line 1821, in handle_user_exception\n",
      "    reraise(exc_type, exc_value, tb)\n",
      "  File \"/home/ayah/anaconda3/lib/python3.9/site-packages/flask/_compat.py\", line 39, in reraise\n",
      "    raise value\n",
      "  File \"/home/ayah/anaconda3/lib/python3.9/site-packages/flask/app.py\", line 1950, in full_dispatch_request\n",
      "    rv = self.dispatch_request()\n",
      "  File \"/home/ayah/anaconda3/lib/python3.9/site-packages/flask/app.py\", line 1936, in dispatch_request\n",
      "    return self.view_functions[rule.endpoint](**req.view_args)\n",
      "  File \"/home/ayah/anaconda3/lib/python3.9/site-packages/dash/dash.py\", line 1344, in dispatch\n",
      "    raise KeyError(msg.format(output)) from missing_callback_function\n",
      "KeyError: \"Callback function not found for output 'my_h1.children', perhaps you forgot to prepend the '@'?\"\n"
     ]
    },
    {
     "name": "stderr",
     "output_type": "stream",
     "text": [
      "127.0.0.1 - - [29/Apr/2022 16:54:56] \"POST /_dash-update-component HTTP/1.1\" 500 -\n"
     ]
    },
    {
     "name": "stdout",
     "output_type": "stream",
     "text": [
      "Exception on /_dash-update-component [POST]\n",
      "Traceback (most recent call last):\n",
      "  File \"/home/ayah/anaconda3/lib/python3.9/site-packages/dash/dash.py\", line 1306, in dispatch\n",
      "    cb = self.callback_map[output]\n",
      "KeyError: 'my_h1.children'\n",
      "\n",
      "The above exception was the direct cause of the following exception:\n",
      "\n",
      "Traceback (most recent call last):\n",
      "  File \"/home/ayah/anaconda3/lib/python3.9/site-packages/flask/app.py\", line 2447, in wsgi_app\n",
      "    response = self.full_dispatch_request()\n",
      "  File \"/home/ayah/anaconda3/lib/python3.9/site-packages/flask/app.py\", line 1952, in full_dispatch_request\n",
      "    rv = self.handle_user_exception(e)\n",
      "  File \"/home/ayah/anaconda3/lib/python3.9/site-packages/flask/app.py\", line 1821, in handle_user_exception\n",
      "    reraise(exc_type, exc_value, tb)\n",
      "  File \"/home/ayah/anaconda3/lib/python3.9/site-packages/flask/_compat.py\", line 39, in reraise\n",
      "    raise value\n",
      "  File \"/home/ayah/anaconda3/lib/python3.9/site-packages/flask/app.py\", line 1950, in full_dispatch_request\n",
      "    rv = self.dispatch_request()\n",
      "  File \"/home/ayah/anaconda3/lib/python3.9/site-packages/flask/app.py\", line 1936, in dispatch_request\n",
      "    return self.view_functions[rule.endpoint](**req.view_args)\n",
      "  File \"/home/ayah/anaconda3/lib/python3.9/site-packages/dash/dash.py\", line 1344, in dispatch\n",
      "    raise KeyError(msg.format(output)) from missing_callback_function\n",
      "KeyError: \"Callback function not found for output 'my_h1.children', perhaps you forgot to prepend the '@'?\"\n"
     ]
    },
    {
     "name": "stderr",
     "output_type": "stream",
     "text": [
      "127.0.0.1 - - [29/Apr/2022 16:54:58] \"POST /_dash-update-component HTTP/1.1\" 500 -\n"
     ]
    },
    {
     "name": "stdout",
     "output_type": "stream",
     "text": [
      "Exception on /_dash-update-component [POST]\n",
      "Traceback (most recent call last):\n",
      "  File \"/home/ayah/anaconda3/lib/python3.9/site-packages/dash/dash.py\", line 1306, in dispatch\n",
      "    cb = self.callback_map[output]\n",
      "KeyError: 'my_h1.children'\n",
      "\n",
      "The above exception was the direct cause of the following exception:\n",
      "\n",
      "Traceback (most recent call last):\n",
      "  File \"/home/ayah/anaconda3/lib/python3.9/site-packages/flask/app.py\", line 2447, in wsgi_app\n",
      "    response = self.full_dispatch_request()\n",
      "  File \"/home/ayah/anaconda3/lib/python3.9/site-packages/flask/app.py\", line 1952, in full_dispatch_request\n",
      "    rv = self.handle_user_exception(e)\n",
      "  File \"/home/ayah/anaconda3/lib/python3.9/site-packages/flask/app.py\", line 1821, in handle_user_exception\n",
      "    reraise(exc_type, exc_value, tb)\n",
      "  File \"/home/ayah/anaconda3/lib/python3.9/site-packages/flask/_compat.py\", line 39, in reraise\n",
      "    raise value\n",
      "  File \"/home/ayah/anaconda3/lib/python3.9/site-packages/flask/app.py\", line 1950, in full_dispatch_request\n",
      "    rv = self.dispatch_request()\n",
      "  File \"/home/ayah/anaconda3/lib/python3.9/site-packages/flask/app.py\", line 1936, in dispatch_request\n",
      "    return self.view_functions[rule.endpoint](**req.view_args)\n",
      "  File \"/home/ayah/anaconda3/lib/python3.9/site-packages/dash/dash.py\", line 1344, in dispatch\n",
      "    raise KeyError(msg.format(output)) from missing_callback_function\n",
      "KeyError: \"Callback function not found for output 'my_h1.children', perhaps you forgot to prepend the '@'?\"\n"
     ]
    },
    {
     "name": "stderr",
     "output_type": "stream",
     "text": [
      "127.0.0.1 - - [29/Apr/2022 16:55:00] \"POST /_dash-update-component HTTP/1.1\" 500 -\n"
     ]
    },
    {
     "name": "stdout",
     "output_type": "stream",
     "text": [
      "Exception on /_dash-update-component [POST]\n",
      "Traceback (most recent call last):\n",
      "  File \"/home/ayah/anaconda3/lib/python3.9/site-packages/dash/dash.py\", line 1306, in dispatch\n",
      "    cb = self.callback_map[output]\n",
      "KeyError: 'my_h1.children'\n",
      "\n",
      "The above exception was the direct cause of the following exception:\n",
      "\n",
      "Traceback (most recent call last):\n",
      "  File \"/home/ayah/anaconda3/lib/python3.9/site-packages/flask/app.py\", line 2447, in wsgi_app\n",
      "    response = self.full_dispatch_request()\n",
      "  File \"/home/ayah/anaconda3/lib/python3.9/site-packages/flask/app.py\", line 1952, in full_dispatch_request\n",
      "    rv = self.handle_user_exception(e)\n",
      "  File \"/home/ayah/anaconda3/lib/python3.9/site-packages/flask/app.py\", line 1821, in handle_user_exception\n",
      "    reraise(exc_type, exc_value, tb)\n",
      "  File \"/home/ayah/anaconda3/lib/python3.9/site-packages/flask/_compat.py\", line 39, in reraise\n",
      "    raise value\n",
      "  File \"/home/ayah/anaconda3/lib/python3.9/site-packages/flask/app.py\", line 1950, in full_dispatch_request\n",
      "    rv = self.dispatch_request()\n",
      "  File \"/home/ayah/anaconda3/lib/python3.9/site-packages/flask/app.py\", line 1936, in dispatch_request\n",
      "    return self.view_functions[rule.endpoint](**req.view_args)\n",
      "  File \"/home/ayah/anaconda3/lib/python3.9/site-packages/dash/dash.py\", line 1344, in dispatch\n",
      "    raise KeyError(msg.format(output)) from missing_callback_function\n",
      "KeyError: \"Callback function not found for output 'my_h1.children', perhaps you forgot to prepend the '@'?\"\n"
     ]
    },
    {
     "name": "stderr",
     "output_type": "stream",
     "text": [
      "127.0.0.1 - - [29/Apr/2022 16:55:01] \"POST /_dash-update-component HTTP/1.1\" 500 -\n"
     ]
    },
    {
     "name": "stdout",
     "output_type": "stream",
     "text": [
      "Exception on /_dash-update-component [POST]\n",
      "Traceback (most recent call last):\n",
      "  File \"/home/ayah/anaconda3/lib/python3.9/site-packages/dash/dash.py\", line 1306, in dispatch\n",
      "    cb = self.callback_map[output]\n",
      "KeyError: 'my_h1.children'\n",
      "\n",
      "The above exception was the direct cause of the following exception:\n",
      "\n",
      "Traceback (most recent call last):\n",
      "  File \"/home/ayah/anaconda3/lib/python3.9/site-packages/flask/app.py\", line 2447, in wsgi_app\n",
      "    response = self.full_dispatch_request()\n",
      "  File \"/home/ayah/anaconda3/lib/python3.9/site-packages/flask/app.py\", line 1952, in full_dispatch_request\n",
      "    rv = self.handle_user_exception(e)\n",
      "  File \"/home/ayah/anaconda3/lib/python3.9/site-packages/flask/app.py\", line 1821, in handle_user_exception\n",
      "    reraise(exc_type, exc_value, tb)\n",
      "  File \"/home/ayah/anaconda3/lib/python3.9/site-packages/flask/_compat.py\", line 39, in reraise\n",
      "    raise value\n",
      "  File \"/home/ayah/anaconda3/lib/python3.9/site-packages/flask/app.py\", line 1950, in full_dispatch_request\n",
      "    rv = self.dispatch_request()\n",
      "  File \"/home/ayah/anaconda3/lib/python3.9/site-packages/flask/app.py\", line 1936, in dispatch_request\n",
      "    return self.view_functions[rule.endpoint](**req.view_args)\n",
      "  File \"/home/ayah/anaconda3/lib/python3.9/site-packages/dash/dash.py\", line 1344, in dispatch\n",
      "    raise KeyError(msg.format(output)) from missing_callback_function\n",
      "KeyError: \"Callback function not found for output 'my_h1.children', perhaps you forgot to prepend the '@'?\"\n"
     ]
    },
    {
     "name": "stderr",
     "output_type": "stream",
     "text": [
      "127.0.0.1 - - [29/Apr/2022 16:55:01] \"POST /_dash-update-component HTTP/1.1\" 500 -\n"
     ]
    },
    {
     "name": "stdout",
     "output_type": "stream",
     "text": [
      "Exception on /_dash-update-component [POST]\n",
      "Traceback (most recent call last):\n",
      "  File \"/home/ayah/anaconda3/lib/python3.9/site-packages/dash/dash.py\", line 1306, in dispatch\n",
      "    cb = self.callback_map[output]\n",
      "KeyError: 'my_h1.children'\n",
      "\n",
      "The above exception was the direct cause of the following exception:\n",
      "\n",
      "Traceback (most recent call last):\n",
      "  File \"/home/ayah/anaconda3/lib/python3.9/site-packages/flask/app.py\", line 2447, in wsgi_app\n",
      "    response = self.full_dispatch_request()\n",
      "  File \"/home/ayah/anaconda3/lib/python3.9/site-packages/flask/app.py\", line 1952, in full_dispatch_request\n",
      "    rv = self.handle_user_exception(e)\n",
      "  File \"/home/ayah/anaconda3/lib/python3.9/site-packages/flask/app.py\", line 1821, in handle_user_exception\n",
      "    reraise(exc_type, exc_value, tb)\n",
      "  File \"/home/ayah/anaconda3/lib/python3.9/site-packages/flask/_compat.py\", line 39, in reraise\n",
      "    raise value\n",
      "  File \"/home/ayah/anaconda3/lib/python3.9/site-packages/flask/app.py\", line 1950, in full_dispatch_request\n",
      "    rv = self.dispatch_request()\n",
      "  File \"/home/ayah/anaconda3/lib/python3.9/site-packages/flask/app.py\", line 1936, in dispatch_request\n",
      "    return self.view_functions[rule.endpoint](**req.view_args)\n",
      "  File \"/home/ayah/anaconda3/lib/python3.9/site-packages/dash/dash.py\", line 1344, in dispatch\n",
      "    raise KeyError(msg.format(output)) from missing_callback_function\n",
      "KeyError: \"Callback function not found for output 'my_h1.children', perhaps you forgot to prepend the '@'?\"\n"
     ]
    },
    {
     "name": "stderr",
     "output_type": "stream",
     "text": [
      "127.0.0.1 - - [29/Apr/2022 16:55:03] \"POST /_dash-update-component HTTP/1.1\" 500 -\n"
     ]
    }
   ],
   "source": [
    "app = Dash()\n",
    "@app.callback(\n",
    "    Output(component_id='graph1',component_property='figure'),\n",
    "    Output(component_id='graph2',component_property='figure'),\n",
    "    Output(component_id='graph3',component_property='figure'),\n",
    "    Input(component_id='ddown1',component_property='value'),\n",
    "    Input(component_id='ddown2',component_property='value'),\n",
    ")\n",
    "def update_My_Div(category,tier):\n",
    "    if category==None and tier==None:\n",
    "        df0 = df.sort_values(by=['followers'] , ascending=False)\n",
    "        df1 = df.sort_values(by=['posts'], ascending=False)\n",
    "        df2 = df.sort_values(by=['avg_engagement_rate'], ascending=False)\n",
    "        followers_Bar = px.bar(df0 , x= 'name', y='followers')\n",
    "        postsNum_Bar = px.bar(df1 , x= 'name', y='posts')\n",
    "        er_Bar = px.bar(df2 , x= 'username', y='avg_engagement_rate')\n",
    "        return followers_Bar,postsNum_Bar, er_Bar\n",
    "    elif tier==None:\n",
    "        df0 = df[df['category'] == category]\n",
    "        df0 = df0.sort_values(by=['followers'], ascending=False)\n",
    "        df1 = df0.sort_values(by=['posts'], ascending=False)\n",
    "        df2 = df0.sort_values(by=['avg_engagement_rate'], ascending=False)\n",
    "        followers_Bar = px.bar(df0 , x= 'name', y='followers')\n",
    "        postsNum_Bar = px.bar(df1 , x= 'name', y='posts')\n",
    "        er_Bar = px.bar(df2 , x= 'username', y='avg_engagement_rate')\n",
    "        return followers_Bar,postsNum_Bar, er_Bar\n",
    "    elif category==None:\n",
    "        df0 = df[df['tier'] == tier]\n",
    "        df0 = df0.sort_values(by=['followers'], ascending=False)\n",
    "        df1 = df0.sort_values(by=['posts'], ascending=False)\n",
    "        df2 = df0.sort_values(by=['avg_engagement_rate'], ascending=False)\n",
    "        followers_Bar = px.bar(df0 , x= 'name', y='followers')\n",
    "        postsNum_Bar = px.bar(df1 , x= 'name', y='posts')\n",
    "        er_Bar = px.bar(df2 , x= 'username', y='avg_engagement_rate')\n",
    "        return followers_Bar,postsNum_Bar,er_Bar\n",
    "        \n",
    "    else:\n",
    "        df0 = df[np.logical_and(df['category'] == category,df['tier'] == tier)]\n",
    "        df0 = df0.sort_values(by=['followers'], ascending=False)\n",
    "        df1 = df0.sort_values(by=['posts'], ascending=False)\n",
    "        df2 = df0.sort_values(by=['avg_engagement_rate'], ascending=False)\n",
    "        followers_Bar = px.bar(df0 , x= 'name', y='followers')\n",
    "        postsNum_Bar = px.bar(df1 , x= 'name', y='posts')\n",
    "        er_Bar = px.bar(df2 , x= 'username', y='avg_engagement_rate')\n",
    "        return followers_Bar,postsNum_Bar, er_Bar\n",
    "\n",
    "@app.callback(\n",
    "    Output(component_id='graph4',component_property='figure'),\n",
    "    Input(component_id='ddown3',component_property='value'),\n",
    ")\n",
    "def update_My_Div(username):\n",
    "    if username==None or len(username)==0:\n",
    "        Likes_scatter = px.scatter(df_detailed,\n",
    "                        x='datetimes',y='likes',\n",
    "                        color='username',\n",
    "                        hover_name='username',\n",
    "                        width=1000,height=1000,\n",
    "                        title='Date_and_Time_of_Post VS Likes',\n",
    "                        symbol='username',\n",
    "                        template='seaborn')\n",
    "        return Likes_scatter\n",
    "    else:\n",
    "        df_scatter = df_detailed[np.isin(df_detailed.username,username)]\n",
    "        Likes_scatter = px.scatter(df_scatter,\n",
    "                        x='datetimes',y='likes',\n",
    "                        color='username',\n",
    "                        hover_name='username',\n",
    "                        width=1000,height=1000,\n",
    "                        title='Date_and_Time_of_Post VS Likes',\n",
    "                        symbol='username',\n",
    "                        template='seaborn')\n",
    "        return Likes_scatter\n",
    "\n",
    "@app.callback(\n",
    "    Output(component_id='ddown5',component_property='options'),\n",
    "    Input(component_id='ddown4',component_property='value'),\n",
    ")\n",
    "\n",
    "def update_My_Div(username):\n",
    "    df_name = df_detailed[df_detailed['username']==username]\n",
    "    options=[{'label': str(datetimes), 'value': str(datetimes)}  for datetimes in df_name['datetimes'].unique()]\n",
    "\n",
    "    return options\n",
    "\n",
    "@app.callback(\n",
    "    Output(component_id='card1',component_property='children'),\n",
    "    Input(component_id='ddown4',component_property='value'),\n",
    "    Input(component_id='ddown5',component_property='value'),\n",
    ")\n",
    "\n",
    "def update_My_Div(username, datetimes):\n",
    "    \n",
    "    df_name = df_detailed[df_detailed['username']==username]\n",
    "    \n",
    "    if username == None:\n",
    "        children = [dbc.CardImg(src=\"https://raw.githubusercontent.com/ayahhhany/Instagram-Dashboard/main/avatars/insta.png\", top=True),]\n",
    "    elif datetimes == None or ((df_name['datetimes']!=datetimes).all()) :\n",
    "        children = [dbc.CardImg(src = df[df['username'] == username].iloc[0,8], top=True),\n",
    "                    dbc.CardBody([html.H4(username, className=\"card-title\"),]),\n",
    "                   ]\n",
    "    else:\n",
    "        children = [dbc.CardImg(src = df[df['username'] == username].iloc[0,8], top=True),\n",
    "                    dbc.CardBody([html.H4(username, className=\"card-title\"),]),\n",
    "                    html.P(df_name[df_name['datetimes'] == datetimes].iloc[0,5], className=\"card-text\",),\n",
    "                    dbc.Button(\"Open Post\", color=\"primary\", href=df_name[df_name['datetimes'] == datetimes].iloc[0,1],),\n",
    "                   ]\n",
    "\n",
    "    return children\n",
    "\n",
    "    \n",
    "app.layout=html.Div(children=[\n",
    "    \n",
    "     html.Div(children=[\n",
    "         html.Div('Combined Followers',style={'width':500,'fontSize' :40,}),\n",
    "         html.Div('Total Posts',style={'width': 300, 'fontSize' :40,}),\n",
    "         html.Div('Total Likes',style={'width': 300,'fontSize' :40,}),\n",
    "         html.Div('Higher Engagement Rate',style={'width': 400,'fontSize' :40,}),\n",
    "      ],style={'width': 1500,\n",
    "              'display': 'flex',\n",
    "              'flex-direction': 'row',\n",
    "              'justify-content': 'center',}\n",
    "        ),\n",
    "     html.Div(children=[\n",
    "         html.Div(str(df['followers'].sum()),style={'width':500,'fontSize' :40,}),\n",
    "         html.Div(str(df['posts'].sum()),style={'width': 300, 'fontSize' :40,}),\n",
    "         html.Div(str(df_detailed['likes'].sum()),style={'width': 300,'fontSize' :40,}),\n",
    "         html.Div(str(round(df['avg_engagement_rate'].max(),2)),style={'width': 300, 'fontSize' :40,}),\n",
    "      ],style={'width': 1500,\n",
    "              'display': 'flex',\n",
    "              'flex-direction': 'row',\n",
    "              'justify-content': 'center',}\n",
    "        ),    \n",
    "    \n",
    "     html.Div(dcc.Graph(figure=categories_followers_pie)),\n",
    "     html.Div(dcc.Graph(figure=tier_pie)),\n",
    "     html.Div(dcc.Graph(figure=posts_by_type_pie)),\n",
    "    \n",
    "    \n",
    "     html.Div(dcc.Graph(id='graph4')),\n",
    "     dcc.Dropdown(options=[{'label': str(username), 'value': str(username)}  for username in df_detailed['username'].unique()],\n",
    "                  id='ddown3',multi=True,\n",
    "    ),\n",
    "    \n",
    "    \n",
    "     dbc.Card(id='card1'),\n",
    "     dcc.Dropdown(options=[{'label': str(username), 'value': str(username)}  for username in df['username'].unique()],\n",
    "                      id='ddown4',\n",
    "        ),\n",
    "     dcc.Dropdown(\n",
    "                      id='ddown5',\n",
    "        ),\n",
    "     \n",
    "    \n",
    "     html.Div(dcc.Graph(id='graph1')),\n",
    "     html.Div(dcc.Graph(id='graph2')),\n",
    "     html.Div(dcc.Graph(id='graph3')),\n",
    "    \n",
    "    \n",
    "     dcc.Dropdown(options=[{'label': str(category), 'value': str(category)}  for category in df['category'].unique()],\n",
    "                  id='ddown1',\n",
    "    ),\n",
    "     dcc.Dropdown(options=[{'label': str(tier), 'value': str(tier)}  for tier in df['tier'].unique()],\n",
    "                  id='ddown2',\n",
    "    ),\n",
    "    \n",
    "])\n",
    "app.run_server()"
   ]
  },
  {
   "cell_type": "code",
   "execution_count": null,
   "id": "eeb55142",
   "metadata": {},
   "outputs": [],
   "source": []
  }
 ],
 "metadata": {
  "kernelspec": {
   "display_name": "Python 3 (ipykernel)",
   "language": "python",
   "name": "python3"
  },
  "language_info": {
   "codemirror_mode": {
    "name": "ipython",
    "version": 3
   },
   "file_extension": ".py",
   "mimetype": "text/x-python",
   "name": "python",
   "nbconvert_exporter": "python",
   "pygments_lexer": "ipython3",
   "version": "3.9.7"
  }
 },
 "nbformat": 4,
 "nbformat_minor": 5
}
