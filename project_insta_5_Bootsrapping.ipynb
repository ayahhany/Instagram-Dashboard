{
 "cells": [
  {
   "cell_type": "code",
   "execution_count": 139,
   "id": "32052f55",
   "metadata": {},
   "outputs": [],
   "source": [
    "from dash import Dash,html,dcc\n",
    "import plotly.express as px\n",
    "import pandas as pd\n",
    "import numpy as np\n",
    "from dash.dependencies import Input,Output,State\n",
    "import dash_bootstrap_components as dbc"
   ]
  },
  {
   "cell_type": "markdown",
   "id": "a0040b5c",
   "metadata": {},
   "source": [
    "# insta_general"
   ]
  },
  {
   "cell_type": "code",
   "execution_count": 140,
   "id": "9c3dd8d1",
   "metadata": {},
   "outputs": [],
   "source": [
    "df = pd.read_csv('outputs/insta_general.csv', header=0)"
   ]
  },
  {
   "cell_type": "code",
   "execution_count": 141,
   "id": "6d9ea11c",
   "metadata": {},
   "outputs": [
    {
     "name": "stdout",
     "output_type": "stream",
     "text": [
      "<class 'pandas.core.frame.DataFrame'>\n",
      "RangeIndex: 23 entries, 0 to 22\n",
      "Data columns (total 12 columns):\n",
      " #   Column               Non-Null Count  Dtype  \n",
      "---  ------               --------------  -----  \n",
      " 0   level_0              23 non-null     int64  \n",
      " 1   index                23 non-null     int64  \n",
      " 2   username             23 non-null     object \n",
      " 3   name                 23 non-null     object \n",
      " 4   category             23 non-null     object \n",
      " 5   followers            23 non-null     int64  \n",
      " 6   followings           23 non-null     int64  \n",
      " 7   posts                23 non-null     int64  \n",
      " 8   tier                 23 non-null     object \n",
      " 9   avatar               23 non-null     object \n",
      " 10  avg_engagement_rate  23 non-null     float64\n",
      " 11  total likes          23 non-null     int64  \n",
      "dtypes: float64(1), int64(6), object(5)\n",
      "memory usage: 2.3+ KB\n"
     ]
    }
   ],
   "source": [
    "df.info()"
   ]
  },
  {
   "cell_type": "code",
   "execution_count": 5,
   "id": "71e6af6f",
   "metadata": {},
   "outputs": [],
   "source": [
    "df0 = df.sort_values(by=['followers'])\n",
    "followers_Bar = px.bar(df0 , y= 'name', x='followers', orientation='h')"
   ]
  },
  {
   "cell_type": "code",
   "execution_count": 6,
   "id": "f669a28f",
   "metadata": {},
   "outputs": [],
   "source": [
    "df0 = df.sort_values(by=['posts'])\n",
    "postsNum_Bar = px.bar(df0 , x= 'name', y='posts')"
   ]
  },
  {
   "cell_type": "code",
   "execution_count": 7,
   "id": "dc373c18",
   "metadata": {},
   "outputs": [
    {
     "data": {
      "text/plain": [
       "['Aggrnyl',\n",
       " 'Aggrnyl_r',\n",
       " 'Agsunset',\n",
       " 'Agsunset_r',\n",
       " 'Blackbody',\n",
       " 'Blackbody_r',\n",
       " 'Bluered',\n",
       " 'Bluered_r',\n",
       " 'Blues',\n",
       " 'Blues_r',\n",
       " 'Blugrn',\n",
       " 'Blugrn_r',\n",
       " 'Bluyl',\n",
       " 'Bluyl_r',\n",
       " 'Brwnyl',\n",
       " 'Brwnyl_r',\n",
       " 'BuGn',\n",
       " 'BuGn_r',\n",
       " 'BuPu',\n",
       " 'BuPu_r',\n",
       " 'Burg',\n",
       " 'Burg_r',\n",
       " 'Burgyl',\n",
       " 'Burgyl_r',\n",
       " 'Cividis',\n",
       " 'Cividis_r',\n",
       " 'Darkmint',\n",
       " 'Darkmint_r',\n",
       " 'Electric',\n",
       " 'Electric_r',\n",
       " 'Emrld',\n",
       " 'Emrld_r',\n",
       " 'GnBu',\n",
       " 'GnBu_r',\n",
       " 'Greens',\n",
       " 'Greens_r',\n",
       " 'Greys',\n",
       " 'Greys_r',\n",
       " 'Hot',\n",
       " 'Hot_r',\n",
       " 'Inferno',\n",
       " 'Inferno_r',\n",
       " 'Jet',\n",
       " 'Jet_r',\n",
       " 'Magenta',\n",
       " 'Magenta_r',\n",
       " 'Magma',\n",
       " 'Magma_r',\n",
       " 'Mint',\n",
       " 'Mint_r',\n",
       " 'OrRd',\n",
       " 'OrRd_r',\n",
       " 'Oranges',\n",
       " 'Oranges_r',\n",
       " 'Oryel',\n",
       " 'Oryel_r',\n",
       " 'Peach',\n",
       " 'Peach_r',\n",
       " 'Pinkyl',\n",
       " 'Pinkyl_r',\n",
       " 'Plasma',\n",
       " 'Plasma_r',\n",
       " 'Plotly3',\n",
       " 'Plotly3_r',\n",
       " 'PuBu',\n",
       " 'PuBuGn',\n",
       " 'PuBuGn_r',\n",
       " 'PuBu_r',\n",
       " 'PuRd',\n",
       " 'PuRd_r',\n",
       " 'Purp',\n",
       " 'Purp_r',\n",
       " 'Purples',\n",
       " 'Purples_r',\n",
       " 'Purpor',\n",
       " 'Purpor_r',\n",
       " 'Rainbow',\n",
       " 'Rainbow_r',\n",
       " 'RdBu',\n",
       " 'RdBu_r',\n",
       " 'RdPu',\n",
       " 'RdPu_r',\n",
       " 'Redor',\n",
       " 'Redor_r',\n",
       " 'Reds',\n",
       " 'Reds_r',\n",
       " 'Sunset',\n",
       " 'Sunset_r',\n",
       " 'Sunsetdark',\n",
       " 'Sunsetdark_r',\n",
       " 'Teal',\n",
       " 'Teal_r',\n",
       " 'Tealgrn',\n",
       " 'Tealgrn_r',\n",
       " 'Turbo',\n",
       " 'Turbo_r',\n",
       " 'Viridis',\n",
       " 'Viridis_r',\n",
       " 'YlGn',\n",
       " 'YlGnBu',\n",
       " 'YlGnBu_r',\n",
       " 'YlGn_r',\n",
       " 'YlOrBr',\n",
       " 'YlOrBr_r',\n",
       " 'YlOrRd',\n",
       " 'YlOrRd_r',\n",
       " '__all__',\n",
       " '__builtins__',\n",
       " '__cached__',\n",
       " '__doc__',\n",
       " '__file__',\n",
       " '__loader__',\n",
       " '__name__',\n",
       " '__package__',\n",
       " '__spec__',\n",
       " '_cols',\n",
       " '_contents',\n",
       " '_k',\n",
       " '_swatches',\n",
       " '_swatches_continuous',\n",
       " 'algae',\n",
       " 'algae_r',\n",
       " 'amp',\n",
       " 'amp_r',\n",
       " 'deep',\n",
       " 'deep_r',\n",
       " 'dense',\n",
       " 'dense_r',\n",
       " 'gray',\n",
       " 'gray_r',\n",
       " 'haline',\n",
       " 'haline_r',\n",
       " 'ice',\n",
       " 'ice_r',\n",
       " 'matter',\n",
       " 'matter_r',\n",
       " 'solar',\n",
       " 'solar_r',\n",
       " 'speed',\n",
       " 'speed_r',\n",
       " 'swatches',\n",
       " 'swatches_continuous',\n",
       " 'tempo',\n",
       " 'tempo_r',\n",
       " 'thermal',\n",
       " 'thermal_r',\n",
       " 'turbid',\n",
       " 'turbid_r']"
      ]
     },
     "execution_count": 7,
     "metadata": {},
     "output_type": "execute_result"
    }
   ],
   "source": [
    "dir(px.colors.sequential)"
   ]
  },
  {
   "cell_type": "code",
   "execution_count": 153,
   "id": "05ed249c",
   "metadata": {},
   "outputs": [
    {
     "data": {
      "application/vnd.plotly.v1+json": {
       "config": {
        "plotlyServerURL": "https://plot.ly"
       },
       "data": [
        {
         "domain": {
          "x": [
           0,
           1
          ],
          "y": [
           0,
           1
          ]
         },
         "hovertemplate": "category=%{label}<br>followers=%{value}<extra></extra>",
         "labels": [
          "lifestyle",
          "lifestyle",
          "lifestyle",
          "lifestyle",
          "skincare",
          "skincare",
          "skincare",
          "fashion",
          "fashion",
          "fashion",
          "fashion",
          "makeup",
          "fitness",
          "fitness",
          "fitness",
          "food",
          "food",
          "food",
          "art",
          "art",
          "art",
          "art",
          "art"
         ],
         "legendgroup": "",
         "name": "",
         "showlegend": true,
         "type": "pie",
         "values": [
          689000,
          175000,
          165000,
          20300,
          44200,
          202000,
          39200,
          79600,
          16200,
          13900,
          89800,
          432000,
          40500,
          37600,
          1942,
          195000,
          39300,
          78600,
          971,
          119000,
          274000,
          14900,
          46800
         ]
        }
       ],
       "layout": {
        "legend": {
         "tracegroupgap": 0
        },
        "piecolorway": [
         "rgb(249, 221, 218)",
         "rgb(242, 185, 196)",
         "rgb(229, 151, 185)",
         "rgb(206, 120, 179)",
         "rgb(173, 95, 173)",
         "rgb(131, 75, 160)",
         "rgb(87, 59, 136)"
        ],
        "template": {
         "data": {
          "bar": [
           {
            "error_x": {
             "color": "#2a3f5f"
            },
            "error_y": {
             "color": "#2a3f5f"
            },
            "marker": {
             "line": {
              "color": "#E5ECF6",
              "width": 0.5
             },
             "pattern": {
              "fillmode": "overlay",
              "size": 10,
              "solidity": 0.2
             }
            },
            "type": "bar"
           }
          ],
          "barpolar": [
           {
            "marker": {
             "line": {
              "color": "#E5ECF6",
              "width": 0.5
             },
             "pattern": {
              "fillmode": "overlay",
              "size": 10,
              "solidity": 0.2
             }
            },
            "type": "barpolar"
           }
          ],
          "carpet": [
           {
            "aaxis": {
             "endlinecolor": "#2a3f5f",
             "gridcolor": "white",
             "linecolor": "white",
             "minorgridcolor": "white",
             "startlinecolor": "#2a3f5f"
            },
            "baxis": {
             "endlinecolor": "#2a3f5f",
             "gridcolor": "white",
             "linecolor": "white",
             "minorgridcolor": "white",
             "startlinecolor": "#2a3f5f"
            },
            "type": "carpet"
           }
          ],
          "choropleth": [
           {
            "colorbar": {
             "outlinewidth": 0,
             "ticks": ""
            },
            "type": "choropleth"
           }
          ],
          "contour": [
           {
            "colorbar": {
             "outlinewidth": 0,
             "ticks": ""
            },
            "colorscale": [
             [
              0,
              "#0d0887"
             ],
             [
              0.1111111111111111,
              "#46039f"
             ],
             [
              0.2222222222222222,
              "#7201a8"
             ],
             [
              0.3333333333333333,
              "#9c179e"
             ],
             [
              0.4444444444444444,
              "#bd3786"
             ],
             [
              0.5555555555555556,
              "#d8576b"
             ],
             [
              0.6666666666666666,
              "#ed7953"
             ],
             [
              0.7777777777777778,
              "#fb9f3a"
             ],
             [
              0.8888888888888888,
              "#fdca26"
             ],
             [
              1,
              "#f0f921"
             ]
            ],
            "type": "contour"
           }
          ],
          "contourcarpet": [
           {
            "colorbar": {
             "outlinewidth": 0,
             "ticks": ""
            },
            "type": "contourcarpet"
           }
          ],
          "heatmap": [
           {
            "colorbar": {
             "outlinewidth": 0,
             "ticks": ""
            },
            "colorscale": [
             [
              0,
              "#0d0887"
             ],
             [
              0.1111111111111111,
              "#46039f"
             ],
             [
              0.2222222222222222,
              "#7201a8"
             ],
             [
              0.3333333333333333,
              "#9c179e"
             ],
             [
              0.4444444444444444,
              "#bd3786"
             ],
             [
              0.5555555555555556,
              "#d8576b"
             ],
             [
              0.6666666666666666,
              "#ed7953"
             ],
             [
              0.7777777777777778,
              "#fb9f3a"
             ],
             [
              0.8888888888888888,
              "#fdca26"
             ],
             [
              1,
              "#f0f921"
             ]
            ],
            "type": "heatmap"
           }
          ],
          "heatmapgl": [
           {
            "colorbar": {
             "outlinewidth": 0,
             "ticks": ""
            },
            "colorscale": [
             [
              0,
              "#0d0887"
             ],
             [
              0.1111111111111111,
              "#46039f"
             ],
             [
              0.2222222222222222,
              "#7201a8"
             ],
             [
              0.3333333333333333,
              "#9c179e"
             ],
             [
              0.4444444444444444,
              "#bd3786"
             ],
             [
              0.5555555555555556,
              "#d8576b"
             ],
             [
              0.6666666666666666,
              "#ed7953"
             ],
             [
              0.7777777777777778,
              "#fb9f3a"
             ],
             [
              0.8888888888888888,
              "#fdca26"
             ],
             [
              1,
              "#f0f921"
             ]
            ],
            "type": "heatmapgl"
           }
          ],
          "histogram": [
           {
            "marker": {
             "pattern": {
              "fillmode": "overlay",
              "size": 10,
              "solidity": 0.2
             }
            },
            "type": "histogram"
           }
          ],
          "histogram2d": [
           {
            "colorbar": {
             "outlinewidth": 0,
             "ticks": ""
            },
            "colorscale": [
             [
              0,
              "#0d0887"
             ],
             [
              0.1111111111111111,
              "#46039f"
             ],
             [
              0.2222222222222222,
              "#7201a8"
             ],
             [
              0.3333333333333333,
              "#9c179e"
             ],
             [
              0.4444444444444444,
              "#bd3786"
             ],
             [
              0.5555555555555556,
              "#d8576b"
             ],
             [
              0.6666666666666666,
              "#ed7953"
             ],
             [
              0.7777777777777778,
              "#fb9f3a"
             ],
             [
              0.8888888888888888,
              "#fdca26"
             ],
             [
              1,
              "#f0f921"
             ]
            ],
            "type": "histogram2d"
           }
          ],
          "histogram2dcontour": [
           {
            "colorbar": {
             "outlinewidth": 0,
             "ticks": ""
            },
            "colorscale": [
             [
              0,
              "#0d0887"
             ],
             [
              0.1111111111111111,
              "#46039f"
             ],
             [
              0.2222222222222222,
              "#7201a8"
             ],
             [
              0.3333333333333333,
              "#9c179e"
             ],
             [
              0.4444444444444444,
              "#bd3786"
             ],
             [
              0.5555555555555556,
              "#d8576b"
             ],
             [
              0.6666666666666666,
              "#ed7953"
             ],
             [
              0.7777777777777778,
              "#fb9f3a"
             ],
             [
              0.8888888888888888,
              "#fdca26"
             ],
             [
              1,
              "#f0f921"
             ]
            ],
            "type": "histogram2dcontour"
           }
          ],
          "mesh3d": [
           {
            "colorbar": {
             "outlinewidth": 0,
             "ticks": ""
            },
            "type": "mesh3d"
           }
          ],
          "parcoords": [
           {
            "line": {
             "colorbar": {
              "outlinewidth": 0,
              "ticks": ""
             }
            },
            "type": "parcoords"
           }
          ],
          "pie": [
           {
            "automargin": true,
            "type": "pie"
           }
          ],
          "scatter": [
           {
            "marker": {
             "colorbar": {
              "outlinewidth": 0,
              "ticks": ""
             }
            },
            "type": "scatter"
           }
          ],
          "scatter3d": [
           {
            "line": {
             "colorbar": {
              "outlinewidth": 0,
              "ticks": ""
             }
            },
            "marker": {
             "colorbar": {
              "outlinewidth": 0,
              "ticks": ""
             }
            },
            "type": "scatter3d"
           }
          ],
          "scattercarpet": [
           {
            "marker": {
             "colorbar": {
              "outlinewidth": 0,
              "ticks": ""
             }
            },
            "type": "scattercarpet"
           }
          ],
          "scattergeo": [
           {
            "marker": {
             "colorbar": {
              "outlinewidth": 0,
              "ticks": ""
             }
            },
            "type": "scattergeo"
           }
          ],
          "scattergl": [
           {
            "marker": {
             "colorbar": {
              "outlinewidth": 0,
              "ticks": ""
             }
            },
            "type": "scattergl"
           }
          ],
          "scattermapbox": [
           {
            "marker": {
             "colorbar": {
              "outlinewidth": 0,
              "ticks": ""
             }
            },
            "type": "scattermapbox"
           }
          ],
          "scatterpolar": [
           {
            "marker": {
             "colorbar": {
              "outlinewidth": 0,
              "ticks": ""
             }
            },
            "type": "scatterpolar"
           }
          ],
          "scatterpolargl": [
           {
            "marker": {
             "colorbar": {
              "outlinewidth": 0,
              "ticks": ""
             }
            },
            "type": "scatterpolargl"
           }
          ],
          "scatterternary": [
           {
            "marker": {
             "colorbar": {
              "outlinewidth": 0,
              "ticks": ""
             }
            },
            "type": "scatterternary"
           }
          ],
          "surface": [
           {
            "colorbar": {
             "outlinewidth": 0,
             "ticks": ""
            },
            "colorscale": [
             [
              0,
              "#0d0887"
             ],
             [
              0.1111111111111111,
              "#46039f"
             ],
             [
              0.2222222222222222,
              "#7201a8"
             ],
             [
              0.3333333333333333,
              "#9c179e"
             ],
             [
              0.4444444444444444,
              "#bd3786"
             ],
             [
              0.5555555555555556,
              "#d8576b"
             ],
             [
              0.6666666666666666,
              "#ed7953"
             ],
             [
              0.7777777777777778,
              "#fb9f3a"
             ],
             [
              0.8888888888888888,
              "#fdca26"
             ],
             [
              1,
              "#f0f921"
             ]
            ],
            "type": "surface"
           }
          ],
          "table": [
           {
            "cells": {
             "fill": {
              "color": "#EBF0F8"
             },
             "line": {
              "color": "white"
             }
            },
            "header": {
             "fill": {
              "color": "#C8D4E3"
             },
             "line": {
              "color": "white"
             }
            },
            "type": "table"
           }
          ]
         },
         "layout": {
          "annotationdefaults": {
           "arrowcolor": "#2a3f5f",
           "arrowhead": 0,
           "arrowwidth": 1
          },
          "autotypenumbers": "strict",
          "coloraxis": {
           "colorbar": {
            "outlinewidth": 0,
            "ticks": ""
           }
          },
          "colorscale": {
           "diverging": [
            [
             0,
             "#8e0152"
            ],
            [
             0.1,
             "#c51b7d"
            ],
            [
             0.2,
             "#de77ae"
            ],
            [
             0.3,
             "#f1b6da"
            ],
            [
             0.4,
             "#fde0ef"
            ],
            [
             0.5,
             "#f7f7f7"
            ],
            [
             0.6,
             "#e6f5d0"
            ],
            [
             0.7,
             "#b8e186"
            ],
            [
             0.8,
             "#7fbc41"
            ],
            [
             0.9,
             "#4d9221"
            ],
            [
             1,
             "#276419"
            ]
           ],
           "sequential": [
            [
             0,
             "#0d0887"
            ],
            [
             0.1111111111111111,
             "#46039f"
            ],
            [
             0.2222222222222222,
             "#7201a8"
            ],
            [
             0.3333333333333333,
             "#9c179e"
            ],
            [
             0.4444444444444444,
             "#bd3786"
            ],
            [
             0.5555555555555556,
             "#d8576b"
            ],
            [
             0.6666666666666666,
             "#ed7953"
            ],
            [
             0.7777777777777778,
             "#fb9f3a"
            ],
            [
             0.8888888888888888,
             "#fdca26"
            ],
            [
             1,
             "#f0f921"
            ]
           ],
           "sequentialminus": [
            [
             0,
             "#0d0887"
            ],
            [
             0.1111111111111111,
             "#46039f"
            ],
            [
             0.2222222222222222,
             "#7201a8"
            ],
            [
             0.3333333333333333,
             "#9c179e"
            ],
            [
             0.4444444444444444,
             "#bd3786"
            ],
            [
             0.5555555555555556,
             "#d8576b"
            ],
            [
             0.6666666666666666,
             "#ed7953"
            ],
            [
             0.7777777777777778,
             "#fb9f3a"
            ],
            [
             0.8888888888888888,
             "#fdca26"
            ],
            [
             1,
             "#f0f921"
            ]
           ]
          },
          "colorway": [
           "#636efa",
           "#EF553B",
           "#00cc96",
           "#ab63fa",
           "#FFA15A",
           "#19d3f3",
           "#FF6692",
           "#B6E880",
           "#FF97FF",
           "#FECB52"
          ],
          "font": {
           "color": "#2a3f5f"
          },
          "geo": {
           "bgcolor": "white",
           "lakecolor": "white",
           "landcolor": "#E5ECF6",
           "showlakes": true,
           "showland": true,
           "subunitcolor": "white"
          },
          "hoverlabel": {
           "align": "left"
          },
          "hovermode": "closest",
          "mapbox": {
           "style": "light"
          },
          "paper_bgcolor": "white",
          "plot_bgcolor": "#E5ECF6",
          "polar": {
           "angularaxis": {
            "gridcolor": "white",
            "linecolor": "white",
            "ticks": ""
           },
           "bgcolor": "#E5ECF6",
           "radialaxis": {
            "gridcolor": "white",
            "linecolor": "white",
            "ticks": ""
           }
          },
          "scene": {
           "xaxis": {
            "backgroundcolor": "#E5ECF6",
            "gridcolor": "white",
            "gridwidth": 2,
            "linecolor": "white",
            "showbackground": true,
            "ticks": "",
            "zerolinecolor": "white"
           },
           "yaxis": {
            "backgroundcolor": "#E5ECF6",
            "gridcolor": "white",
            "gridwidth": 2,
            "linecolor": "white",
            "showbackground": true,
            "ticks": "",
            "zerolinecolor": "white"
           },
           "zaxis": {
            "backgroundcolor": "#E5ECF6",
            "gridcolor": "white",
            "gridwidth": 2,
            "linecolor": "white",
            "showbackground": true,
            "ticks": "",
            "zerolinecolor": "white"
           }
          },
          "shapedefaults": {
           "line": {
            "color": "#2a3f5f"
           }
          },
          "ternary": {
           "aaxis": {
            "gridcolor": "white",
            "linecolor": "white",
            "ticks": ""
           },
           "baxis": {
            "gridcolor": "white",
            "linecolor": "white",
            "ticks": ""
           },
           "bgcolor": "#E5ECF6",
           "caxis": {
            "gridcolor": "white",
            "linecolor": "white",
            "ticks": ""
           }
          },
          "title": {
           "x": 0.05
          },
          "xaxis": {
           "automargin": true,
           "gridcolor": "white",
           "linecolor": "white",
           "ticks": "",
           "title": {
            "standoff": 15
           },
           "zerolinecolor": "white",
           "zerolinewidth": 2
          },
          "yaxis": {
           "automargin": true,
           "gridcolor": "white",
           "linecolor": "white",
           "ticks": "",
           "title": {
            "standoff": 15
           },
           "zerolinecolor": "white",
           "zerolinewidth": 2
          }
         }
        },
        "title": {
         "text": "Most followed category"
        }
       }
      },
      "text/html": [
       "<div>                            <div id=\"000f3c1c-b998-4137-bc91-fd50ee6136d3\" class=\"plotly-graph-div\" style=\"height:525px; width:100%;\"></div>            <script type=\"text/javascript\">                require([\"plotly\"], function(Plotly) {                    window.PLOTLYENV=window.PLOTLYENV || {};                                    if (document.getElementById(\"000f3c1c-b998-4137-bc91-fd50ee6136d3\")) {                    Plotly.newPlot(                        \"000f3c1c-b998-4137-bc91-fd50ee6136d3\",                        [{\"domain\":{\"x\":[0.0,1.0],\"y\":[0.0,1.0]},\"hovertemplate\":\"category=%{label}<br>followers=%{value}<extra></extra>\",\"labels\":[\"lifestyle\",\"lifestyle\",\"lifestyle\",\"lifestyle\",\"skincare\",\"skincare\",\"skincare\",\"fashion\",\"fashion\",\"fashion\",\"fashion\",\"makeup\",\"fitness\",\"fitness\",\"fitness\",\"food\",\"food\",\"food\",\"art\",\"art\",\"art\",\"art\",\"art\"],\"legendgroup\":\"\",\"name\":\"\",\"showlegend\":true,\"values\":[689000,175000,165000,20300,44200,202000,39200,79600,16200,13900,89800,432000,40500,37600,1942,195000,39300,78600,971,119000,274000,14900,46800],\"type\":\"pie\"}],                        {\"template\":{\"data\":{\"bar\":[{\"error_x\":{\"color\":\"#2a3f5f\"},\"error_y\":{\"color\":\"#2a3f5f\"},\"marker\":{\"line\":{\"color\":\"#E5ECF6\",\"width\":0.5},\"pattern\":{\"fillmode\":\"overlay\",\"size\":10,\"solidity\":0.2}},\"type\":\"bar\"}],\"barpolar\":[{\"marker\":{\"line\":{\"color\":\"#E5ECF6\",\"width\":0.5},\"pattern\":{\"fillmode\":\"overlay\",\"size\":10,\"solidity\":0.2}},\"type\":\"barpolar\"}],\"carpet\":[{\"aaxis\":{\"endlinecolor\":\"#2a3f5f\",\"gridcolor\":\"white\",\"linecolor\":\"white\",\"minorgridcolor\":\"white\",\"startlinecolor\":\"#2a3f5f\"},\"baxis\":{\"endlinecolor\":\"#2a3f5f\",\"gridcolor\":\"white\",\"linecolor\":\"white\",\"minorgridcolor\":\"white\",\"startlinecolor\":\"#2a3f5f\"},\"type\":\"carpet\"}],\"choropleth\":[{\"colorbar\":{\"outlinewidth\":0,\"ticks\":\"\"},\"type\":\"choropleth\"}],\"contour\":[{\"colorbar\":{\"outlinewidth\":0,\"ticks\":\"\"},\"colorscale\":[[0.0,\"#0d0887\"],[0.1111111111111111,\"#46039f\"],[0.2222222222222222,\"#7201a8\"],[0.3333333333333333,\"#9c179e\"],[0.4444444444444444,\"#bd3786\"],[0.5555555555555556,\"#d8576b\"],[0.6666666666666666,\"#ed7953\"],[0.7777777777777778,\"#fb9f3a\"],[0.8888888888888888,\"#fdca26\"],[1.0,\"#f0f921\"]],\"type\":\"contour\"}],\"contourcarpet\":[{\"colorbar\":{\"outlinewidth\":0,\"ticks\":\"\"},\"type\":\"contourcarpet\"}],\"heatmap\":[{\"colorbar\":{\"outlinewidth\":0,\"ticks\":\"\"},\"colorscale\":[[0.0,\"#0d0887\"],[0.1111111111111111,\"#46039f\"],[0.2222222222222222,\"#7201a8\"],[0.3333333333333333,\"#9c179e\"],[0.4444444444444444,\"#bd3786\"],[0.5555555555555556,\"#d8576b\"],[0.6666666666666666,\"#ed7953\"],[0.7777777777777778,\"#fb9f3a\"],[0.8888888888888888,\"#fdca26\"],[1.0,\"#f0f921\"]],\"type\":\"heatmap\"}],\"heatmapgl\":[{\"colorbar\":{\"outlinewidth\":0,\"ticks\":\"\"},\"colorscale\":[[0.0,\"#0d0887\"],[0.1111111111111111,\"#46039f\"],[0.2222222222222222,\"#7201a8\"],[0.3333333333333333,\"#9c179e\"],[0.4444444444444444,\"#bd3786\"],[0.5555555555555556,\"#d8576b\"],[0.6666666666666666,\"#ed7953\"],[0.7777777777777778,\"#fb9f3a\"],[0.8888888888888888,\"#fdca26\"],[1.0,\"#f0f921\"]],\"type\":\"heatmapgl\"}],\"histogram\":[{\"marker\":{\"pattern\":{\"fillmode\":\"overlay\",\"size\":10,\"solidity\":0.2}},\"type\":\"histogram\"}],\"histogram2d\":[{\"colorbar\":{\"outlinewidth\":0,\"ticks\":\"\"},\"colorscale\":[[0.0,\"#0d0887\"],[0.1111111111111111,\"#46039f\"],[0.2222222222222222,\"#7201a8\"],[0.3333333333333333,\"#9c179e\"],[0.4444444444444444,\"#bd3786\"],[0.5555555555555556,\"#d8576b\"],[0.6666666666666666,\"#ed7953\"],[0.7777777777777778,\"#fb9f3a\"],[0.8888888888888888,\"#fdca26\"],[1.0,\"#f0f921\"]],\"type\":\"histogram2d\"}],\"histogram2dcontour\":[{\"colorbar\":{\"outlinewidth\":0,\"ticks\":\"\"},\"colorscale\":[[0.0,\"#0d0887\"],[0.1111111111111111,\"#46039f\"],[0.2222222222222222,\"#7201a8\"],[0.3333333333333333,\"#9c179e\"],[0.4444444444444444,\"#bd3786\"],[0.5555555555555556,\"#d8576b\"],[0.6666666666666666,\"#ed7953\"],[0.7777777777777778,\"#fb9f3a\"],[0.8888888888888888,\"#fdca26\"],[1.0,\"#f0f921\"]],\"type\":\"histogram2dcontour\"}],\"mesh3d\":[{\"colorbar\":{\"outlinewidth\":0,\"ticks\":\"\"},\"type\":\"mesh3d\"}],\"parcoords\":[{\"line\":{\"colorbar\":{\"outlinewidth\":0,\"ticks\":\"\"}},\"type\":\"parcoords\"}],\"pie\":[{\"automargin\":true,\"type\":\"pie\"}],\"scatter\":[{\"marker\":{\"colorbar\":{\"outlinewidth\":0,\"ticks\":\"\"}},\"type\":\"scatter\"}],\"scatter3d\":[{\"line\":{\"colorbar\":{\"outlinewidth\":0,\"ticks\":\"\"}},\"marker\":{\"colorbar\":{\"outlinewidth\":0,\"ticks\":\"\"}},\"type\":\"scatter3d\"}],\"scattercarpet\":[{\"marker\":{\"colorbar\":{\"outlinewidth\":0,\"ticks\":\"\"}},\"type\":\"scattercarpet\"}],\"scattergeo\":[{\"marker\":{\"colorbar\":{\"outlinewidth\":0,\"ticks\":\"\"}},\"type\":\"scattergeo\"}],\"scattergl\":[{\"marker\":{\"colorbar\":{\"outlinewidth\":0,\"ticks\":\"\"}},\"type\":\"scattergl\"}],\"scattermapbox\":[{\"marker\":{\"colorbar\":{\"outlinewidth\":0,\"ticks\":\"\"}},\"type\":\"scattermapbox\"}],\"scatterpolar\":[{\"marker\":{\"colorbar\":{\"outlinewidth\":0,\"ticks\":\"\"}},\"type\":\"scatterpolar\"}],\"scatterpolargl\":[{\"marker\":{\"colorbar\":{\"outlinewidth\":0,\"ticks\":\"\"}},\"type\":\"scatterpolargl\"}],\"scatterternary\":[{\"marker\":{\"colorbar\":{\"outlinewidth\":0,\"ticks\":\"\"}},\"type\":\"scatterternary\"}],\"surface\":[{\"colorbar\":{\"outlinewidth\":0,\"ticks\":\"\"},\"colorscale\":[[0.0,\"#0d0887\"],[0.1111111111111111,\"#46039f\"],[0.2222222222222222,\"#7201a8\"],[0.3333333333333333,\"#9c179e\"],[0.4444444444444444,\"#bd3786\"],[0.5555555555555556,\"#d8576b\"],[0.6666666666666666,\"#ed7953\"],[0.7777777777777778,\"#fb9f3a\"],[0.8888888888888888,\"#fdca26\"],[1.0,\"#f0f921\"]],\"type\":\"surface\"}],\"table\":[{\"cells\":{\"fill\":{\"color\":\"#EBF0F8\"},\"line\":{\"color\":\"white\"}},\"header\":{\"fill\":{\"color\":\"#C8D4E3\"},\"line\":{\"color\":\"white\"}},\"type\":\"table\"}]},\"layout\":{\"annotationdefaults\":{\"arrowcolor\":\"#2a3f5f\",\"arrowhead\":0,\"arrowwidth\":1},\"autotypenumbers\":\"strict\",\"coloraxis\":{\"colorbar\":{\"outlinewidth\":0,\"ticks\":\"\"}},\"colorscale\":{\"diverging\":[[0,\"#8e0152\"],[0.1,\"#c51b7d\"],[0.2,\"#de77ae\"],[0.3,\"#f1b6da\"],[0.4,\"#fde0ef\"],[0.5,\"#f7f7f7\"],[0.6,\"#e6f5d0\"],[0.7,\"#b8e186\"],[0.8,\"#7fbc41\"],[0.9,\"#4d9221\"],[1,\"#276419\"]],\"sequential\":[[0.0,\"#0d0887\"],[0.1111111111111111,\"#46039f\"],[0.2222222222222222,\"#7201a8\"],[0.3333333333333333,\"#9c179e\"],[0.4444444444444444,\"#bd3786\"],[0.5555555555555556,\"#d8576b\"],[0.6666666666666666,\"#ed7953\"],[0.7777777777777778,\"#fb9f3a\"],[0.8888888888888888,\"#fdca26\"],[1.0,\"#f0f921\"]],\"sequentialminus\":[[0.0,\"#0d0887\"],[0.1111111111111111,\"#46039f\"],[0.2222222222222222,\"#7201a8\"],[0.3333333333333333,\"#9c179e\"],[0.4444444444444444,\"#bd3786\"],[0.5555555555555556,\"#d8576b\"],[0.6666666666666666,\"#ed7953\"],[0.7777777777777778,\"#fb9f3a\"],[0.8888888888888888,\"#fdca26\"],[1.0,\"#f0f921\"]]},\"colorway\":[\"#636efa\",\"#EF553B\",\"#00cc96\",\"#ab63fa\",\"#FFA15A\",\"#19d3f3\",\"#FF6692\",\"#B6E880\",\"#FF97FF\",\"#FECB52\"],\"font\":{\"color\":\"#2a3f5f\"},\"geo\":{\"bgcolor\":\"white\",\"lakecolor\":\"white\",\"landcolor\":\"#E5ECF6\",\"showlakes\":true,\"showland\":true,\"subunitcolor\":\"white\"},\"hoverlabel\":{\"align\":\"left\"},\"hovermode\":\"closest\",\"mapbox\":{\"style\":\"light\"},\"paper_bgcolor\":\"white\",\"plot_bgcolor\":\"#E5ECF6\",\"polar\":{\"angularaxis\":{\"gridcolor\":\"white\",\"linecolor\":\"white\",\"ticks\":\"\"},\"bgcolor\":\"#E5ECF6\",\"radialaxis\":{\"gridcolor\":\"white\",\"linecolor\":\"white\",\"ticks\":\"\"}},\"scene\":{\"xaxis\":{\"backgroundcolor\":\"#E5ECF6\",\"gridcolor\":\"white\",\"gridwidth\":2,\"linecolor\":\"white\",\"showbackground\":true,\"ticks\":\"\",\"zerolinecolor\":\"white\"},\"yaxis\":{\"backgroundcolor\":\"#E5ECF6\",\"gridcolor\":\"white\",\"gridwidth\":2,\"linecolor\":\"white\",\"showbackground\":true,\"ticks\":\"\",\"zerolinecolor\":\"white\"},\"zaxis\":{\"backgroundcolor\":\"#E5ECF6\",\"gridcolor\":\"white\",\"gridwidth\":2,\"linecolor\":\"white\",\"showbackground\":true,\"ticks\":\"\",\"zerolinecolor\":\"white\"}},\"shapedefaults\":{\"line\":{\"color\":\"#2a3f5f\"}},\"ternary\":{\"aaxis\":{\"gridcolor\":\"white\",\"linecolor\":\"white\",\"ticks\":\"\"},\"baxis\":{\"gridcolor\":\"white\",\"linecolor\":\"white\",\"ticks\":\"\"},\"bgcolor\":\"#E5ECF6\",\"caxis\":{\"gridcolor\":\"white\",\"linecolor\":\"white\",\"ticks\":\"\"}},\"title\":{\"x\":0.05},\"xaxis\":{\"automargin\":true,\"gridcolor\":\"white\",\"linecolor\":\"white\",\"ticks\":\"\",\"title\":{\"standoff\":15},\"zerolinecolor\":\"white\",\"zerolinewidth\":2},\"yaxis\":{\"automargin\":true,\"gridcolor\":\"white\",\"linecolor\":\"white\",\"ticks\":\"\",\"title\":{\"standoff\":15},\"zerolinecolor\":\"white\",\"zerolinewidth\":2}}},\"legend\":{\"tracegroupgap\":0},\"title\":{\"text\":\"Most followed category\"},\"piecolorway\":[\"rgb(249, 221, 218)\",\"rgb(242, 185, 196)\",\"rgb(229, 151, 185)\",\"rgb(206, 120, 179)\",\"rgb(173, 95, 173)\",\"rgb(131, 75, 160)\",\"rgb(87, 59, 136)\"]},                        {\"responsive\": true}                    ).then(function(){\n",
       "                            \n",
       "var gd = document.getElementById('000f3c1c-b998-4137-bc91-fd50ee6136d3');\n",
       "var x = new MutationObserver(function (mutations, observer) {{\n",
       "        var display = window.getComputedStyle(gd).display;\n",
       "        if (!display || display === 'none') {{\n",
       "            console.log([gd, 'removed!']);\n",
       "            Plotly.purge(gd);\n",
       "            observer.disconnect();\n",
       "        }}\n",
       "}});\n",
       "\n",
       "// Listen for the removal of the full notebook cells\n",
       "var notebookContainer = gd.closest('#notebook-container');\n",
       "if (notebookContainer) {{\n",
       "    x.observe(notebookContainer, {childList: true});\n",
       "}}\n",
       "\n",
       "// Listen for the clearing of the current output cell\n",
       "var outputEl = gd.closest('.output');\n",
       "if (outputEl) {{\n",
       "    x.observe(outputEl, {childList: true});\n",
       "}}\n",
       "\n",
       "                        })                };                });            </script>        </div>"
      ]
     },
     "metadata": {},
     "output_type": "display_data"
    }
   ],
   "source": [
    "categories_followers_pie = px.pie(df, names='category', values='followers',title = \"Most followed category\" ,color_discrete_sequence= px.colors.sequential.Purpor)\n",
    "categories_followers_pie"
   ]
  },
  {
   "cell_type": "code",
   "execution_count": 9,
   "id": "103cef9f",
   "metadata": {
    "scrolled": true
   },
   "outputs": [
    {
     "data": {
      "application/vnd.plotly.v1+json": {
       "config": {
        "plotlyServerURL": "https://plot.ly"
       },
       "data": [
        {
         "alignmentgroup": "True",
         "hovertemplate": "variable=0<br>value=%{x}<br>count=%{y}<extra></extra>",
         "legendgroup": "0",
         "marker": {
          "color": "rgb(0, 0, 0)",
          "pattern": {
           "shape": ""
          }
         },
         "name": "0",
         "offsetgroup": "0",
         "orientation": "v",
         "showlegend": true,
         "textposition": "auto",
         "type": "bar",
         "x": [
          "Macro",
          "Mid-tier",
          "Mid-tier",
          "Micro",
          "Micro",
          "Mid-tier",
          "Micro",
          "Mid-tier",
          "Micro",
          "Micro",
          "Mid-tier",
          "Mid-tier",
          "Micro",
          "Micro",
          "Nano",
          "Mid-tier",
          "Micro",
          "Mid-tier",
          "Nano",
          "Mid-tier",
          "Mid-tier",
          "Micro",
          "Micro"
         ],
         "xaxis": "x",
         "y": [
          1,
          1,
          1,
          1,
          1,
          1,
          1,
          1,
          1,
          1,
          1,
          1,
          1,
          1,
          1,
          1,
          1,
          1,
          1,
          1,
          1,
          1,
          1
         ],
         "yaxis": "y"
        }
       ],
       "layout": {
        "barmode": "relative",
        "legend": {
         "title": {
          "text": "variable"
         },
         "tracegroupgap": 0
        },
        "margin": {
         "t": 60
        },
        "template": {
         "data": {
          "bar": [
           {
            "error_x": {
             "color": "#2a3f5f"
            },
            "error_y": {
             "color": "#2a3f5f"
            },
            "marker": {
             "line": {
              "color": "#E5ECF6",
              "width": 0.5
             },
             "pattern": {
              "fillmode": "overlay",
              "size": 10,
              "solidity": 0.2
             }
            },
            "type": "bar"
           }
          ],
          "barpolar": [
           {
            "marker": {
             "line": {
              "color": "#E5ECF6",
              "width": 0.5
             },
             "pattern": {
              "fillmode": "overlay",
              "size": 10,
              "solidity": 0.2
             }
            },
            "type": "barpolar"
           }
          ],
          "carpet": [
           {
            "aaxis": {
             "endlinecolor": "#2a3f5f",
             "gridcolor": "white",
             "linecolor": "white",
             "minorgridcolor": "white",
             "startlinecolor": "#2a3f5f"
            },
            "baxis": {
             "endlinecolor": "#2a3f5f",
             "gridcolor": "white",
             "linecolor": "white",
             "minorgridcolor": "white",
             "startlinecolor": "#2a3f5f"
            },
            "type": "carpet"
           }
          ],
          "choropleth": [
           {
            "colorbar": {
             "outlinewidth": 0,
             "ticks": ""
            },
            "type": "choropleth"
           }
          ],
          "contour": [
           {
            "colorbar": {
             "outlinewidth": 0,
             "ticks": ""
            },
            "colorscale": [
             [
              0,
              "#0d0887"
             ],
             [
              0.1111111111111111,
              "#46039f"
             ],
             [
              0.2222222222222222,
              "#7201a8"
             ],
             [
              0.3333333333333333,
              "#9c179e"
             ],
             [
              0.4444444444444444,
              "#bd3786"
             ],
             [
              0.5555555555555556,
              "#d8576b"
             ],
             [
              0.6666666666666666,
              "#ed7953"
             ],
             [
              0.7777777777777778,
              "#fb9f3a"
             ],
             [
              0.8888888888888888,
              "#fdca26"
             ],
             [
              1,
              "#f0f921"
             ]
            ],
            "type": "contour"
           }
          ],
          "contourcarpet": [
           {
            "colorbar": {
             "outlinewidth": 0,
             "ticks": ""
            },
            "type": "contourcarpet"
           }
          ],
          "heatmap": [
           {
            "colorbar": {
             "outlinewidth": 0,
             "ticks": ""
            },
            "colorscale": [
             [
              0,
              "#0d0887"
             ],
             [
              0.1111111111111111,
              "#46039f"
             ],
             [
              0.2222222222222222,
              "#7201a8"
             ],
             [
              0.3333333333333333,
              "#9c179e"
             ],
             [
              0.4444444444444444,
              "#bd3786"
             ],
             [
              0.5555555555555556,
              "#d8576b"
             ],
             [
              0.6666666666666666,
              "#ed7953"
             ],
             [
              0.7777777777777778,
              "#fb9f3a"
             ],
             [
              0.8888888888888888,
              "#fdca26"
             ],
             [
              1,
              "#f0f921"
             ]
            ],
            "type": "heatmap"
           }
          ],
          "heatmapgl": [
           {
            "colorbar": {
             "outlinewidth": 0,
             "ticks": ""
            },
            "colorscale": [
             [
              0,
              "#0d0887"
             ],
             [
              0.1111111111111111,
              "#46039f"
             ],
             [
              0.2222222222222222,
              "#7201a8"
             ],
             [
              0.3333333333333333,
              "#9c179e"
             ],
             [
              0.4444444444444444,
              "#bd3786"
             ],
             [
              0.5555555555555556,
              "#d8576b"
             ],
             [
              0.6666666666666666,
              "#ed7953"
             ],
             [
              0.7777777777777778,
              "#fb9f3a"
             ],
             [
              0.8888888888888888,
              "#fdca26"
             ],
             [
              1,
              "#f0f921"
             ]
            ],
            "type": "heatmapgl"
           }
          ],
          "histogram": [
           {
            "marker": {
             "pattern": {
              "fillmode": "overlay",
              "size": 10,
              "solidity": 0.2
             }
            },
            "type": "histogram"
           }
          ],
          "histogram2d": [
           {
            "colorbar": {
             "outlinewidth": 0,
             "ticks": ""
            },
            "colorscale": [
             [
              0,
              "#0d0887"
             ],
             [
              0.1111111111111111,
              "#46039f"
             ],
             [
              0.2222222222222222,
              "#7201a8"
             ],
             [
              0.3333333333333333,
              "#9c179e"
             ],
             [
              0.4444444444444444,
              "#bd3786"
             ],
             [
              0.5555555555555556,
              "#d8576b"
             ],
             [
              0.6666666666666666,
              "#ed7953"
             ],
             [
              0.7777777777777778,
              "#fb9f3a"
             ],
             [
              0.8888888888888888,
              "#fdca26"
             ],
             [
              1,
              "#f0f921"
             ]
            ],
            "type": "histogram2d"
           }
          ],
          "histogram2dcontour": [
           {
            "colorbar": {
             "outlinewidth": 0,
             "ticks": ""
            },
            "colorscale": [
             [
              0,
              "#0d0887"
             ],
             [
              0.1111111111111111,
              "#46039f"
             ],
             [
              0.2222222222222222,
              "#7201a8"
             ],
             [
              0.3333333333333333,
              "#9c179e"
             ],
             [
              0.4444444444444444,
              "#bd3786"
             ],
             [
              0.5555555555555556,
              "#d8576b"
             ],
             [
              0.6666666666666666,
              "#ed7953"
             ],
             [
              0.7777777777777778,
              "#fb9f3a"
             ],
             [
              0.8888888888888888,
              "#fdca26"
             ],
             [
              1,
              "#f0f921"
             ]
            ],
            "type": "histogram2dcontour"
           }
          ],
          "mesh3d": [
           {
            "colorbar": {
             "outlinewidth": 0,
             "ticks": ""
            },
            "type": "mesh3d"
           }
          ],
          "parcoords": [
           {
            "line": {
             "colorbar": {
              "outlinewidth": 0,
              "ticks": ""
             }
            },
            "type": "parcoords"
           }
          ],
          "pie": [
           {
            "automargin": true,
            "type": "pie"
           }
          ],
          "scatter": [
           {
            "marker": {
             "colorbar": {
              "outlinewidth": 0,
              "ticks": ""
             }
            },
            "type": "scatter"
           }
          ],
          "scatter3d": [
           {
            "line": {
             "colorbar": {
              "outlinewidth": 0,
              "ticks": ""
             }
            },
            "marker": {
             "colorbar": {
              "outlinewidth": 0,
              "ticks": ""
             }
            },
            "type": "scatter3d"
           }
          ],
          "scattercarpet": [
           {
            "marker": {
             "colorbar": {
              "outlinewidth": 0,
              "ticks": ""
             }
            },
            "type": "scattercarpet"
           }
          ],
          "scattergeo": [
           {
            "marker": {
             "colorbar": {
              "outlinewidth": 0,
              "ticks": ""
             }
            },
            "type": "scattergeo"
           }
          ],
          "scattergl": [
           {
            "marker": {
             "colorbar": {
              "outlinewidth": 0,
              "ticks": ""
             }
            },
            "type": "scattergl"
           }
          ],
          "scattermapbox": [
           {
            "marker": {
             "colorbar": {
              "outlinewidth": 0,
              "ticks": ""
             }
            },
            "type": "scattermapbox"
           }
          ],
          "scatterpolar": [
           {
            "marker": {
             "colorbar": {
              "outlinewidth": 0,
              "ticks": ""
             }
            },
            "type": "scatterpolar"
           }
          ],
          "scatterpolargl": [
           {
            "marker": {
             "colorbar": {
              "outlinewidth": 0,
              "ticks": ""
             }
            },
            "type": "scatterpolargl"
           }
          ],
          "scatterternary": [
           {
            "marker": {
             "colorbar": {
              "outlinewidth": 0,
              "ticks": ""
             }
            },
            "type": "scatterternary"
           }
          ],
          "surface": [
           {
            "colorbar": {
             "outlinewidth": 0,
             "ticks": ""
            },
            "colorscale": [
             [
              0,
              "#0d0887"
             ],
             [
              0.1111111111111111,
              "#46039f"
             ],
             [
              0.2222222222222222,
              "#7201a8"
             ],
             [
              0.3333333333333333,
              "#9c179e"
             ],
             [
              0.4444444444444444,
              "#bd3786"
             ],
             [
              0.5555555555555556,
              "#d8576b"
             ],
             [
              0.6666666666666666,
              "#ed7953"
             ],
             [
              0.7777777777777778,
              "#fb9f3a"
             ],
             [
              0.8888888888888888,
              "#fdca26"
             ],
             [
              1,
              "#f0f921"
             ]
            ],
            "type": "surface"
           }
          ],
          "table": [
           {
            "cells": {
             "fill": {
              "color": "#EBF0F8"
             },
             "line": {
              "color": "white"
             }
            },
            "header": {
             "fill": {
              "color": "#C8D4E3"
             },
             "line": {
              "color": "white"
             }
            },
            "type": "table"
           }
          ]
         },
         "layout": {
          "annotationdefaults": {
           "arrowcolor": "#2a3f5f",
           "arrowhead": 0,
           "arrowwidth": 1
          },
          "autotypenumbers": "strict",
          "coloraxis": {
           "colorbar": {
            "outlinewidth": 0,
            "ticks": ""
           }
          },
          "colorscale": {
           "diverging": [
            [
             0,
             "#8e0152"
            ],
            [
             0.1,
             "#c51b7d"
            ],
            [
             0.2,
             "#de77ae"
            ],
            [
             0.3,
             "#f1b6da"
            ],
            [
             0.4,
             "#fde0ef"
            ],
            [
             0.5,
             "#f7f7f7"
            ],
            [
             0.6,
             "#e6f5d0"
            ],
            [
             0.7,
             "#b8e186"
            ],
            [
             0.8,
             "#7fbc41"
            ],
            [
             0.9,
             "#4d9221"
            ],
            [
             1,
             "#276419"
            ]
           ],
           "sequential": [
            [
             0,
             "#0d0887"
            ],
            [
             0.1111111111111111,
             "#46039f"
            ],
            [
             0.2222222222222222,
             "#7201a8"
            ],
            [
             0.3333333333333333,
             "#9c179e"
            ],
            [
             0.4444444444444444,
             "#bd3786"
            ],
            [
             0.5555555555555556,
             "#d8576b"
            ],
            [
             0.6666666666666666,
             "#ed7953"
            ],
            [
             0.7777777777777778,
             "#fb9f3a"
            ],
            [
             0.8888888888888888,
             "#fdca26"
            ],
            [
             1,
             "#f0f921"
            ]
           ],
           "sequentialminus": [
            [
             0,
             "#0d0887"
            ],
            [
             0.1111111111111111,
             "#46039f"
            ],
            [
             0.2222222222222222,
             "#7201a8"
            ],
            [
             0.3333333333333333,
             "#9c179e"
            ],
            [
             0.4444444444444444,
             "#bd3786"
            ],
            [
             0.5555555555555556,
             "#d8576b"
            ],
            [
             0.6666666666666666,
             "#ed7953"
            ],
            [
             0.7777777777777778,
             "#fb9f3a"
            ],
            [
             0.8888888888888888,
             "#fdca26"
            ],
            [
             1,
             "#f0f921"
            ]
           ]
          },
          "colorway": [
           "#636efa",
           "#EF553B",
           "#00cc96",
           "#ab63fa",
           "#FFA15A",
           "#19d3f3",
           "#FF6692",
           "#B6E880",
           "#FF97FF",
           "#FECB52"
          ],
          "font": {
           "color": "#2a3f5f"
          },
          "geo": {
           "bgcolor": "white",
           "lakecolor": "white",
           "landcolor": "#E5ECF6",
           "showlakes": true,
           "showland": true,
           "subunitcolor": "white"
          },
          "hoverlabel": {
           "align": "left"
          },
          "hovermode": "closest",
          "mapbox": {
           "style": "light"
          },
          "paper_bgcolor": "white",
          "plot_bgcolor": "#E5ECF6",
          "polar": {
           "angularaxis": {
            "gridcolor": "white",
            "linecolor": "white",
            "ticks": ""
           },
           "bgcolor": "#E5ECF6",
           "radialaxis": {
            "gridcolor": "white",
            "linecolor": "white",
            "ticks": ""
           }
          },
          "scene": {
           "xaxis": {
            "backgroundcolor": "#E5ECF6",
            "gridcolor": "white",
            "gridwidth": 2,
            "linecolor": "white",
            "showbackground": true,
            "ticks": "",
            "zerolinecolor": "white"
           },
           "yaxis": {
            "backgroundcolor": "#E5ECF6",
            "gridcolor": "white",
            "gridwidth": 2,
            "linecolor": "white",
            "showbackground": true,
            "ticks": "",
            "zerolinecolor": "white"
           },
           "zaxis": {
            "backgroundcolor": "#E5ECF6",
            "gridcolor": "white",
            "gridwidth": 2,
            "linecolor": "white",
            "showbackground": true,
            "ticks": "",
            "zerolinecolor": "white"
           }
          },
          "shapedefaults": {
           "line": {
            "color": "#2a3f5f"
           }
          },
          "ternary": {
           "aaxis": {
            "gridcolor": "white",
            "linecolor": "white",
            "ticks": ""
           },
           "baxis": {
            "gridcolor": "white",
            "linecolor": "white",
            "ticks": ""
           },
           "bgcolor": "#E5ECF6",
           "caxis": {
            "gridcolor": "white",
            "linecolor": "white",
            "ticks": ""
           }
          },
          "title": {
           "x": 0.05
          },
          "xaxis": {
           "automargin": true,
           "gridcolor": "white",
           "linecolor": "white",
           "ticks": "",
           "title": {
            "standoff": 15
           },
           "zerolinecolor": "white",
           "zerolinewidth": 2
          },
          "yaxis": {
           "automargin": true,
           "gridcolor": "white",
           "linecolor": "white",
           "ticks": "",
           "title": {
            "standoff": 15
           },
           "zerolinecolor": "white",
           "zerolinewidth": 2
          }
         }
        },
        "xaxis": {
         "anchor": "y",
         "domain": [
          0,
          1
         ],
         "title": {
          "text": "value"
         }
        },
        "yaxis": {
         "anchor": "x",
         "domain": [
          0,
          1
         ],
         "title": {
          "text": "count"
         }
        }
       }
      },
      "text/html": [
       "<div>                            <div id=\"539622c6-b7d2-4380-a8f3-66e519df8a91\" class=\"plotly-graph-div\" style=\"height:525px; width:100%;\"></div>            <script type=\"text/javascript\">                require([\"plotly\"], function(Plotly) {                    window.PLOTLYENV=window.PLOTLYENV || {};                                    if (document.getElementById(\"539622c6-b7d2-4380-a8f3-66e519df8a91\")) {                    Plotly.newPlot(                        \"539622c6-b7d2-4380-a8f3-66e519df8a91\",                        [{\"alignmentgroup\":\"True\",\"hovertemplate\":\"variable=0<br>value=%{x}<br>count=%{y}<extra></extra>\",\"legendgroup\":\"0\",\"marker\":{\"color\":\"rgb(0, 0, 0)\",\"pattern\":{\"shape\":\"\"}},\"name\":\"0\",\"offsetgroup\":\"0\",\"orientation\":\"v\",\"showlegend\":true,\"textposition\":\"auto\",\"x\":[\"Macro\",\"Mid-tier\",\"Mid-tier\",\"Micro\",\"Micro\",\"Mid-tier\",\"Micro\",\"Mid-tier\",\"Micro\",\"Micro\",\"Mid-tier\",\"Mid-tier\",\"Micro\",\"Micro\",\"Nano\",\"Mid-tier\",\"Micro\",\"Mid-tier\",\"Nano\",\"Mid-tier\",\"Mid-tier\",\"Micro\",\"Micro\"],\"xaxis\":\"x\",\"y\":[1,1,1,1,1,1,1,1,1,1,1,1,1,1,1,1,1,1,1,1,1,1,1],\"yaxis\":\"y\",\"type\":\"bar\"}],                        {\"template\":{\"data\":{\"bar\":[{\"error_x\":{\"color\":\"#2a3f5f\"},\"error_y\":{\"color\":\"#2a3f5f\"},\"marker\":{\"line\":{\"color\":\"#E5ECF6\",\"width\":0.5},\"pattern\":{\"fillmode\":\"overlay\",\"size\":10,\"solidity\":0.2}},\"type\":\"bar\"}],\"barpolar\":[{\"marker\":{\"line\":{\"color\":\"#E5ECF6\",\"width\":0.5},\"pattern\":{\"fillmode\":\"overlay\",\"size\":10,\"solidity\":0.2}},\"type\":\"barpolar\"}],\"carpet\":[{\"aaxis\":{\"endlinecolor\":\"#2a3f5f\",\"gridcolor\":\"white\",\"linecolor\":\"white\",\"minorgridcolor\":\"white\",\"startlinecolor\":\"#2a3f5f\"},\"baxis\":{\"endlinecolor\":\"#2a3f5f\",\"gridcolor\":\"white\",\"linecolor\":\"white\",\"minorgridcolor\":\"white\",\"startlinecolor\":\"#2a3f5f\"},\"type\":\"carpet\"}],\"choropleth\":[{\"colorbar\":{\"outlinewidth\":0,\"ticks\":\"\"},\"type\":\"choropleth\"}],\"contour\":[{\"colorbar\":{\"outlinewidth\":0,\"ticks\":\"\"},\"colorscale\":[[0.0,\"#0d0887\"],[0.1111111111111111,\"#46039f\"],[0.2222222222222222,\"#7201a8\"],[0.3333333333333333,\"#9c179e\"],[0.4444444444444444,\"#bd3786\"],[0.5555555555555556,\"#d8576b\"],[0.6666666666666666,\"#ed7953\"],[0.7777777777777778,\"#fb9f3a\"],[0.8888888888888888,\"#fdca26\"],[1.0,\"#f0f921\"]],\"type\":\"contour\"}],\"contourcarpet\":[{\"colorbar\":{\"outlinewidth\":0,\"ticks\":\"\"},\"type\":\"contourcarpet\"}],\"heatmap\":[{\"colorbar\":{\"outlinewidth\":0,\"ticks\":\"\"},\"colorscale\":[[0.0,\"#0d0887\"],[0.1111111111111111,\"#46039f\"],[0.2222222222222222,\"#7201a8\"],[0.3333333333333333,\"#9c179e\"],[0.4444444444444444,\"#bd3786\"],[0.5555555555555556,\"#d8576b\"],[0.6666666666666666,\"#ed7953\"],[0.7777777777777778,\"#fb9f3a\"],[0.8888888888888888,\"#fdca26\"],[1.0,\"#f0f921\"]],\"type\":\"heatmap\"}],\"heatmapgl\":[{\"colorbar\":{\"outlinewidth\":0,\"ticks\":\"\"},\"colorscale\":[[0.0,\"#0d0887\"],[0.1111111111111111,\"#46039f\"],[0.2222222222222222,\"#7201a8\"],[0.3333333333333333,\"#9c179e\"],[0.4444444444444444,\"#bd3786\"],[0.5555555555555556,\"#d8576b\"],[0.6666666666666666,\"#ed7953\"],[0.7777777777777778,\"#fb9f3a\"],[0.8888888888888888,\"#fdca26\"],[1.0,\"#f0f921\"]],\"type\":\"heatmapgl\"}],\"histogram\":[{\"marker\":{\"pattern\":{\"fillmode\":\"overlay\",\"size\":10,\"solidity\":0.2}},\"type\":\"histogram\"}],\"histogram2d\":[{\"colorbar\":{\"outlinewidth\":0,\"ticks\":\"\"},\"colorscale\":[[0.0,\"#0d0887\"],[0.1111111111111111,\"#46039f\"],[0.2222222222222222,\"#7201a8\"],[0.3333333333333333,\"#9c179e\"],[0.4444444444444444,\"#bd3786\"],[0.5555555555555556,\"#d8576b\"],[0.6666666666666666,\"#ed7953\"],[0.7777777777777778,\"#fb9f3a\"],[0.8888888888888888,\"#fdca26\"],[1.0,\"#f0f921\"]],\"type\":\"histogram2d\"}],\"histogram2dcontour\":[{\"colorbar\":{\"outlinewidth\":0,\"ticks\":\"\"},\"colorscale\":[[0.0,\"#0d0887\"],[0.1111111111111111,\"#46039f\"],[0.2222222222222222,\"#7201a8\"],[0.3333333333333333,\"#9c179e\"],[0.4444444444444444,\"#bd3786\"],[0.5555555555555556,\"#d8576b\"],[0.6666666666666666,\"#ed7953\"],[0.7777777777777778,\"#fb9f3a\"],[0.8888888888888888,\"#fdca26\"],[1.0,\"#f0f921\"]],\"type\":\"histogram2dcontour\"}],\"mesh3d\":[{\"colorbar\":{\"outlinewidth\":0,\"ticks\":\"\"},\"type\":\"mesh3d\"}],\"parcoords\":[{\"line\":{\"colorbar\":{\"outlinewidth\":0,\"ticks\":\"\"}},\"type\":\"parcoords\"}],\"pie\":[{\"automargin\":true,\"type\":\"pie\"}],\"scatter\":[{\"marker\":{\"colorbar\":{\"outlinewidth\":0,\"ticks\":\"\"}},\"type\":\"scatter\"}],\"scatter3d\":[{\"line\":{\"colorbar\":{\"outlinewidth\":0,\"ticks\":\"\"}},\"marker\":{\"colorbar\":{\"outlinewidth\":0,\"ticks\":\"\"}},\"type\":\"scatter3d\"}],\"scattercarpet\":[{\"marker\":{\"colorbar\":{\"outlinewidth\":0,\"ticks\":\"\"}},\"type\":\"scattercarpet\"}],\"scattergeo\":[{\"marker\":{\"colorbar\":{\"outlinewidth\":0,\"ticks\":\"\"}},\"type\":\"scattergeo\"}],\"scattergl\":[{\"marker\":{\"colorbar\":{\"outlinewidth\":0,\"ticks\":\"\"}},\"type\":\"scattergl\"}],\"scattermapbox\":[{\"marker\":{\"colorbar\":{\"outlinewidth\":0,\"ticks\":\"\"}},\"type\":\"scattermapbox\"}],\"scatterpolar\":[{\"marker\":{\"colorbar\":{\"outlinewidth\":0,\"ticks\":\"\"}},\"type\":\"scatterpolar\"}],\"scatterpolargl\":[{\"marker\":{\"colorbar\":{\"outlinewidth\":0,\"ticks\":\"\"}},\"type\":\"scatterpolargl\"}],\"scatterternary\":[{\"marker\":{\"colorbar\":{\"outlinewidth\":0,\"ticks\":\"\"}},\"type\":\"scatterternary\"}],\"surface\":[{\"colorbar\":{\"outlinewidth\":0,\"ticks\":\"\"},\"colorscale\":[[0.0,\"#0d0887\"],[0.1111111111111111,\"#46039f\"],[0.2222222222222222,\"#7201a8\"],[0.3333333333333333,\"#9c179e\"],[0.4444444444444444,\"#bd3786\"],[0.5555555555555556,\"#d8576b\"],[0.6666666666666666,\"#ed7953\"],[0.7777777777777778,\"#fb9f3a\"],[0.8888888888888888,\"#fdca26\"],[1.0,\"#f0f921\"]],\"type\":\"surface\"}],\"table\":[{\"cells\":{\"fill\":{\"color\":\"#EBF0F8\"},\"line\":{\"color\":\"white\"}},\"header\":{\"fill\":{\"color\":\"#C8D4E3\"},\"line\":{\"color\":\"white\"}},\"type\":\"table\"}]},\"layout\":{\"annotationdefaults\":{\"arrowcolor\":\"#2a3f5f\",\"arrowhead\":0,\"arrowwidth\":1},\"autotypenumbers\":\"strict\",\"coloraxis\":{\"colorbar\":{\"outlinewidth\":0,\"ticks\":\"\"}},\"colorscale\":{\"diverging\":[[0,\"#8e0152\"],[0.1,\"#c51b7d\"],[0.2,\"#de77ae\"],[0.3,\"#f1b6da\"],[0.4,\"#fde0ef\"],[0.5,\"#f7f7f7\"],[0.6,\"#e6f5d0\"],[0.7,\"#b8e186\"],[0.8,\"#7fbc41\"],[0.9,\"#4d9221\"],[1,\"#276419\"]],\"sequential\":[[0.0,\"#0d0887\"],[0.1111111111111111,\"#46039f\"],[0.2222222222222222,\"#7201a8\"],[0.3333333333333333,\"#9c179e\"],[0.4444444444444444,\"#bd3786\"],[0.5555555555555556,\"#d8576b\"],[0.6666666666666666,\"#ed7953\"],[0.7777777777777778,\"#fb9f3a\"],[0.8888888888888888,\"#fdca26\"],[1.0,\"#f0f921\"]],\"sequentialminus\":[[0.0,\"#0d0887\"],[0.1111111111111111,\"#46039f\"],[0.2222222222222222,\"#7201a8\"],[0.3333333333333333,\"#9c179e\"],[0.4444444444444444,\"#bd3786\"],[0.5555555555555556,\"#d8576b\"],[0.6666666666666666,\"#ed7953\"],[0.7777777777777778,\"#fb9f3a\"],[0.8888888888888888,\"#fdca26\"],[1.0,\"#f0f921\"]]},\"colorway\":[\"#636efa\",\"#EF553B\",\"#00cc96\",\"#ab63fa\",\"#FFA15A\",\"#19d3f3\",\"#FF6692\",\"#B6E880\",\"#FF97FF\",\"#FECB52\"],\"font\":{\"color\":\"#2a3f5f\"},\"geo\":{\"bgcolor\":\"white\",\"lakecolor\":\"white\",\"landcolor\":\"#E5ECF6\",\"showlakes\":true,\"showland\":true,\"subunitcolor\":\"white\"},\"hoverlabel\":{\"align\":\"left\"},\"hovermode\":\"closest\",\"mapbox\":{\"style\":\"light\"},\"paper_bgcolor\":\"white\",\"plot_bgcolor\":\"#E5ECF6\",\"polar\":{\"angularaxis\":{\"gridcolor\":\"white\",\"linecolor\":\"white\",\"ticks\":\"\"},\"bgcolor\":\"#E5ECF6\",\"radialaxis\":{\"gridcolor\":\"white\",\"linecolor\":\"white\",\"ticks\":\"\"}},\"scene\":{\"xaxis\":{\"backgroundcolor\":\"#E5ECF6\",\"gridcolor\":\"white\",\"gridwidth\":2,\"linecolor\":\"white\",\"showbackground\":true,\"ticks\":\"\",\"zerolinecolor\":\"white\"},\"yaxis\":{\"backgroundcolor\":\"#E5ECF6\",\"gridcolor\":\"white\",\"gridwidth\":2,\"linecolor\":\"white\",\"showbackground\":true,\"ticks\":\"\",\"zerolinecolor\":\"white\"},\"zaxis\":{\"backgroundcolor\":\"#E5ECF6\",\"gridcolor\":\"white\",\"gridwidth\":2,\"linecolor\":\"white\",\"showbackground\":true,\"ticks\":\"\",\"zerolinecolor\":\"white\"}},\"shapedefaults\":{\"line\":{\"color\":\"#2a3f5f\"}},\"ternary\":{\"aaxis\":{\"gridcolor\":\"white\",\"linecolor\":\"white\",\"ticks\":\"\"},\"baxis\":{\"gridcolor\":\"white\",\"linecolor\":\"white\",\"ticks\":\"\"},\"bgcolor\":\"#E5ECF6\",\"caxis\":{\"gridcolor\":\"white\",\"linecolor\":\"white\",\"ticks\":\"\"}},\"title\":{\"x\":0.05},\"xaxis\":{\"automargin\":true,\"gridcolor\":\"white\",\"linecolor\":\"white\",\"ticks\":\"\",\"title\":{\"standoff\":15},\"zerolinecolor\":\"white\",\"zerolinewidth\":2},\"yaxis\":{\"automargin\":true,\"gridcolor\":\"white\",\"linecolor\":\"white\",\"ticks\":\"\",\"title\":{\"standoff\":15},\"zerolinecolor\":\"white\",\"zerolinewidth\":2}}},\"xaxis\":{\"anchor\":\"y\",\"domain\":[0.0,1.0],\"title\":{\"text\":\"value\"}},\"yaxis\":{\"anchor\":\"x\",\"domain\":[0.0,1.0],\"title\":{\"text\":\"count\"}},\"legend\":{\"title\":{\"text\":\"variable\"},\"tracegroupgap\":0},\"margin\":{\"t\":60},\"barmode\":\"relative\"},                        {\"responsive\": true}                    ).then(function(){\n",
       "                            \n",
       "var gd = document.getElementById('539622c6-b7d2-4380-a8f3-66e519df8a91');\n",
       "var x = new MutationObserver(function (mutations, observer) {{\n",
       "        var display = window.getComputedStyle(gd).display;\n",
       "        if (!display || display === 'none') {{\n",
       "            console.log([gd, 'removed!']);\n",
       "            Plotly.purge(gd);\n",
       "            observer.disconnect();\n",
       "        }}\n",
       "}});\n",
       "\n",
       "// Listen for the removal of the full notebook cells\n",
       "var notebookContainer = gd.closest('#notebook-container');\n",
       "if (notebookContainer) {{\n",
       "    x.observe(notebookContainer, {childList: true});\n",
       "}}\n",
       "\n",
       "// Listen for the clearing of the current output cell\n",
       "var outputEl = gd.closest('.output');\n",
       "if (outputEl) {{\n",
       "    x.observe(outputEl, {childList: true});\n",
       "}}\n",
       "\n",
       "                        })                };                });            </script>        </div>"
      ]
     },
     "metadata": {},
     "output_type": "display_data"
    }
   ],
   "source": [
    "tier_pie = px.bar(df['tier'].values, color_discrete_sequence= px.colors.sequential.gray)\n",
    "tier_pie"
   ]
  },
  {
   "cell_type": "code",
   "execution_count": 10,
   "id": "1297ecf8",
   "metadata": {},
   "outputs": [],
   "source": [
    "df0 = df.sort_values(by=['avg_engagement_rate'])\n",
    "er_Bar = px.bar(df0 , x= 'username', y='avg_engagement_rate')"
   ]
  },
  {
   "cell_type": "markdown",
   "id": "0ca5a951",
   "metadata": {},
   "source": [
    "# insta_detailed"
   ]
  },
  {
   "cell_type": "code",
   "execution_count": 23,
   "id": "4b871bf2",
   "metadata": {},
   "outputs": [],
   "source": [
    "df_detailed = pd.read_csv('outputs/insta_detailed_processed.csv', header=0)"
   ]
  },
  {
   "cell_type": "code",
   "execution_count": 24,
   "id": "06556c7b",
   "metadata": {},
   "outputs": [
    {
     "name": "stdout",
     "output_type": "stream",
     "text": [
      "<class 'pandas.core.frame.DataFrame'>\n",
      "RangeIndex: 460 entries, 0 to 459\n",
      "Data columns (total 10 columns):\n",
      " #   Column               Non-Null Count  Dtype  \n",
      "---  ------               --------------  -----  \n",
      " 0   index                460 non-null    int64  \n",
      " 1   username             460 non-null    object \n",
      " 2   post                 460 non-null    object \n",
      " 3   likes                460 non-null    int64  \n",
      " 4   type                 460 non-null    object \n",
      " 5   captions             460 non-null    object \n",
      " 6   date                 460 non-null    object \n",
      " 7   time                 460 non-null    object \n",
      " 8   engagement_rate      460 non-null    float64\n",
      " 9   avg_engagement_rate  460 non-null    float64\n",
      "dtypes: float64(2), int64(2), object(6)\n",
      "memory usage: 36.1+ KB\n"
     ]
    }
   ],
   "source": [
    "df_detailed.info()"
   ]
  },
  {
   "cell_type": "code",
   "execution_count": 25,
   "id": "1b7d3781",
   "metadata": {},
   "outputs": [],
   "source": [
    "df_detailed['date']= pd.to_datetime(df_detailed['date'])"
   ]
  },
  {
   "cell_type": "code",
   "execution_count": 26,
   "id": "e026d60a",
   "metadata": {},
   "outputs": [
    {
     "name": "stdout",
     "output_type": "stream",
     "text": [
      "<class 'pandas.core.frame.DataFrame'>\n",
      "RangeIndex: 460 entries, 0 to 459\n",
      "Data columns (total 10 columns):\n",
      " #   Column               Non-Null Count  Dtype         \n",
      "---  ------               --------------  -----         \n",
      " 0   index                460 non-null    int64         \n",
      " 1   username             460 non-null    object        \n",
      " 2   post                 460 non-null    object        \n",
      " 3   likes                460 non-null    int64         \n",
      " 4   type                 460 non-null    object        \n",
      " 5   captions             460 non-null    object        \n",
      " 6   date                 460 non-null    datetime64[ns]\n",
      " 7   time                 460 non-null    object        \n",
      " 8   engagement_rate      460 non-null    float64       \n",
      " 9   avg_engagement_rate  460 non-null    float64       \n",
      "dtypes: datetime64[ns](1), float64(2), int64(2), object(5)\n",
      "memory usage: 36.1+ KB\n"
     ]
    }
   ],
   "source": [
    "df_detailed.info()"
   ]
  },
  {
   "cell_type": "code",
   "execution_count": 15,
   "id": "ba3a8d2c",
   "metadata": {},
   "outputs": [],
   "source": [
    "posts_by_type_pie = px.pie(df_detailed, names='type')"
   ]
  },
  {
   "cell_type": "code",
   "execution_count": 18,
   "id": "03f36584",
   "metadata": {},
   "outputs": [],
   "source": [
    "#df_detailed['datetimes'] = pd.to_datetime(df_detailed['datetimes'])"
   ]
  },
  {
   "cell_type": "code",
   "execution_count": 19,
   "id": "037f4147",
   "metadata": {},
   "outputs": [
    {
     "data": {
      "text/plain": [
       "\"Likes_scatter = px.scatter(df_detailed,\\n                           x='datetimes',y='likes',\\n                           color='username',\\n                           hover_name='username',\\n                           width=1000,height=1000,\\n                           title='Date and Time of Post VS Likes',\\n                           symbol='username',\\n                           template='seaborn')\""
      ]
     },
     "execution_count": 19,
     "metadata": {},
     "output_type": "execute_result"
    }
   ],
   "source": [
    "'''Likes_scatter = px.scatter(df_detailed,\n",
    "                           x='datetimes',y='likes',\n",
    "                           color='username',\n",
    "                           hover_name='username',\n",
    "                           width=1000,height=1000,\n",
    "                           title='Date and Time of Post VS Likes',\n",
    "                           symbol='username',\n",
    "                           template='seaborn')'''"
   ]
  },
  {
   "cell_type": "markdown",
   "id": "1ddaa4e9",
   "metadata": {},
   "source": [
    "# Dash App"
   ]
  },
  {
   "cell_type": "code",
   "execution_count": 119,
   "id": "e612eb4b",
   "metadata": {},
   "outputs": [],
   "source": [
    "# lucky hour\n",
    "alllikes = [] \n",
    "max_like = []\n",
    "hours = []\n",
    "lucky_hour = []\n",
    "for user in df_detailed['username'].unique():\n",
    "    alllikes = df_detailed[df_detailed['username'] == user]['likes'].tolist()\n",
    "    max_like.append(max(alllikes))\n",
    "    hours = df_detailed[df_detailed['username'] == user]['time'].tolist()\n",
    "    lucky_hour.append(hours[np.argmax(alllikes)])"
   ]
  },
  {
   "cell_type": "code",
   "execution_count": 209,
   "id": "66b8b815",
   "metadata": {},
   "outputs": [],
   "source": [
    "#header\n",
    "card_content0 = [html.H1(\"Young Content Creators on Instagram\", \\\n",
    "         style ={'font-size': '600%', 'text-align': 'center', \\\n",
    "                 'height': '50%', 'color': '#8a5aa0', 'font-family': 'Cursive'})]\n",
    "\n",
    "def CustomCard(*args, **kwargs):\n",
    "    option = kwargs['color']\n",
    "    default_color = \"red\"\n",
    "    default_color_light = \"\"\n",
    "    default_color_dark = \"\"\n",
    "    if option =='primary':\n",
    "        kwargs.setdefault(\"style\", {\"background-color\": default_color, \"background\": \"linear-gradient(to top right, orange, deeppink)\"})\n",
    "    elif option =='secondary':\n",
    "        kwargs.setdefault(\"style\", {\"background-color\": default_color, \"background\": \"linear-gradient(to bottom left, orange, deeppink)\"})\n",
    "    elif option =='info':\n",
    "        kwargs.setdefault(\"style\", {\"background-color\": default_color, \"background\": \"linear-gradient(to top left, orange, deeppink)\"})\n",
    "    else:\n",
    "        kwargs.setdefault(\"style\", {\"background-color\": default_color, \"background\": \"linear-gradient(to bottom right, orange, deeppink)\"})\n",
    "    return dbc.Card(*args, **kwargs)\n",
    "\n",
    "def CustomButton(*args, **kwargs):\n",
    "\n",
    "    option = kwargs['color']\n",
    "    default_color = \"red\"\n",
    "    default_color_light = \"\"\n",
    "    default_color_dark = \"\"\n",
    "    if option =='primary':\n",
    "        kwargs.setdefault(\"style\", {\"background-color\": default_color, \"background\": \"linear-gradient(to top right, orange, deeppink)\"})\n",
    "    elif option =='secondary':\n",
    "        kwargs.setdefault(\"style\", {\"background-color\": default_color, \"background\": \"linear-gradient(to bottom left, orange, deeppink)\"})\n",
    "    elif option =='info':\n",
    "        kwargs.setdefault(\"style\", {\"background-color\": default_color, \"background\": \"linear-gradient(to top left, orange, deeppink)\"})\n",
    "    else:\n",
    "        kwargs.setdefault(\"style\", {\"background-color\": default_color, \"background\": \"linear-gradient(to bottom right, orange, deeppink)\"})\n",
    "    return dbc.Button(*args, **kwargs)\n",
    "\n",
    "#Big Numbers\n",
    "card_content1 = [ dbc.CardHeader(\"Combined Followers\"),\n",
    "                 dbc.CardBody([html.H5(str(df['followers'].sum()), className=\"card-title\")], style ={'text-align': 'center'}),]\n",
    "card_content2 = [ dbc.CardHeader(\"Total Posts\"),\n",
    "                 dbc.CardBody([html.H5(str(df['posts'].sum()), className=\"card-title\")], style ={'text-align': 'center'}),]\n",
    "card_content3 = [ dbc.CardHeader(\"Total Likes\"),\n",
    "                 dbc.CardBody([html.H5(str(df_detailed['likes'].sum()), className=\"card-title\")], style ={'text-align': 'center'}),]\n",
    "card_content4 = [ dbc.CardHeader(\"Highest Engagement Rate\"),\n",
    "                 dbc.CardBody([html.H5(str(round(df['avg_engagement_rate'].max(),2)), className=\"card-title\")], style ={'text-align': 'center'}),]\n",
    "\n",
    "#photo scroll\n",
    "photos = dbc.Col([\n",
    "             dbc.Card([\n",
    "                dbc.Row([\n",
    "                    dbc.Col([\n",
    "                        dbc.CardImg(src=f\"/assets/insta.png\", top=True,style={\"width\":\"120px\", 'clip-path': 'circle(42%)','cursor': 'pointer'}),\n",
    "                        dbc.CardBody(html.P(\"Instagram\", style = {'text-align': 'center'}))]) ,\n",
    "                *[\n",
    "                    dbc.Col([\n",
    "                        dbc.CardImg(src=f\"/assets/{i}.jpg\", top=True,style={\"width\":\"120px\", 'clip-path': 'circle(42%)', 'cursor': 'pointer'}),\n",
    "                        dbc.CardBody(html.P(df.username[i], style = {'text-align': 'center'}))]) for i in range(df.shape[0])]\n",
    "                ], style={\"flexWrap\":\"nowrap\" }),\n",
    "            ], style={'overflowX': 'scroll',  })\n",
    "        ], style={\"display\": \"flex\", 'padding': '5px'})\n",
    "\n",
    "# pie + scatter\n",
    "card_content5 = [html.Div(dcc.Graph(figure=categories_followers_pie), style = {'background-color' : '#fff7f0'}) ]\n",
    "                \n",
    "card_content6 = [dcc.Graph(id='graph4'),\n",
    "     dcc.Dropdown(options=[{'label': str(username), 'value': str(username)} \\\n",
    "                                for username in df_detailed['username'].unique()],id='ddown3',multi=True,)]\n",
    "\n",
    "# Bars\n",
    "card_content7 = [html.H4(\"Who is most followed?\", style={'text-align':'center','color': '#8a5aa0'}),dcc.Graph(id='graph1')]\n",
    "card_content8 = [html.H4(\"Who posts the most?\", style={'text-align':'center','color': '#8a5aa0'}),dcc.Graph(id='graph2')]\n",
    "card_content9 = [html.H4(\"Who has the highest Engagement Rate?\", style={'text-align':'center','color': '#8a5aa0'}),\n",
    "dcc.Graph(id='graph3')]\n",
    "\n",
    "card_content10 =[ dcc.Dropdown(options=[{'label': str(category), 'value': str(category)} \\\n",
    "                          for category in df['category'].unique()], id='ddown1',\n",
    "                ),\n",
    "                 dcc.Dropdown(options=[{'label': str(tier), 'value': str(tier)} \\\n",
    "                                       for tier in df['tier'].unique()], id='ddown2',) ]\n",
    "\n",
    "#Discover Posts\n",
    "card_content_posts = [ html.H2(\"Discover Posts\",style = {'text-align': 'center', 'color': '#8a5aa0'}),\n",
    "                 dbc.CardBody([dbc.Card(id='card1'),\n",
    "     dcc.Dropdown(options=[{'label': str(username), 'value': str(username)} \\\n",
    "                                for username in df['username'].unique()],id='ddown4',),\n",
    "     dcc.Dropdown(id='ddown5',),]),]\n",
    "\n"
   ]
  },
  {
   "cell_type": "code",
   "execution_count": null,
   "id": "d0997b71",
   "metadata": {},
   "outputs": [
    {
     "name": "stdout",
     "output_type": "stream",
     "text": [
      "Dash is running on http://127.0.0.1:8050/\n",
      "\n",
      "Dash is running on http://127.0.0.1:8050/\n",
      "\n",
      "Dash is running on http://127.0.0.1:8050/\n",
      "\n",
      "Dash is running on http://127.0.0.1:8050/\n",
      "\n",
      "Dash is running on http://127.0.0.1:8050/\n",
      "\n",
      "Dash is running on http://127.0.0.1:8050/\n",
      "\n",
      "Dash is running on http://127.0.0.1:8050/\n",
      "\n",
      "Dash is running on http://127.0.0.1:8050/\n",
      "\n",
      "Dash is running on http://127.0.0.1:8050/\n",
      "\n",
      "Dash is running on http://127.0.0.1:8050/\n",
      "\n",
      "Dash is running on http://127.0.0.1:8050/\n",
      "\n",
      "Dash is running on http://127.0.0.1:8050/\n",
      "\n",
      "Dash is running on http://127.0.0.1:8050/\n",
      "\n",
      "Dash is running on http://127.0.0.1:8050/\n",
      "\n",
      "Dash is running on http://127.0.0.1:8050/\n",
      "\n",
      "Dash is running on http://127.0.0.1:8050/\n",
      "\n",
      "Dash is running on http://127.0.0.1:8050/\n",
      "\n",
      "Dash is running on http://127.0.0.1:8050/\n",
      "\n",
      "Dash is running on http://127.0.0.1:8050/\n",
      "\n",
      "Dash is running on http://127.0.0.1:8050/\n",
      "\n",
      "Dash is running on http://127.0.0.1:8050/\n",
      "\n",
      "Dash is running on http://127.0.0.1:8050/\n",
      "\n",
      "Dash is running on http://127.0.0.1:8050/\n",
      "\n",
      "Dash is running on http://127.0.0.1:8050/\n",
      "\n",
      "Dash is running on http://127.0.0.1:8050/\n",
      "\n",
      "Dash is running on http://127.0.0.1:8050/\n",
      "\n",
      "Dash is running on http://127.0.0.1:8050/\n",
      "\n",
      "Dash is running on http://127.0.0.1:8050/\n",
      "\n",
      "Dash is running on http://127.0.0.1:8050/\n",
      "\n",
      "Dash is running on http://127.0.0.1:8050/\n",
      "\n",
      "Dash is running on http://127.0.0.1:8050/\n",
      "\n",
      "Dash is running on http://127.0.0.1:8050/\n",
      "\n",
      "Dash is running on http://127.0.0.1:8050/\n",
      "\n",
      "Dash is running on http://127.0.0.1:8050/\n",
      "\n",
      "Dash is running on http://127.0.0.1:8050/\n",
      "\n",
      "Dash is running on http://127.0.0.1:8050/\n",
      "\n",
      "Dash is running on http://127.0.0.1:8050/\n",
      "\n",
      "Dash is running on http://127.0.0.1:8050/\n",
      "\n",
      "Dash is running on http://127.0.0.1:8050/\n",
      "\n",
      "Dash is running on http://127.0.0.1:8050/\n",
      "\n",
      "Dash is running on http://127.0.0.1:8050/\n",
      "\n",
      "Dash is running on http://127.0.0.1:8050/\n",
      "\n",
      "Dash is running on http://127.0.0.1:8050/\n",
      "\n",
      "Dash is running on http://127.0.0.1:8050/\n",
      "\n",
      "Dash is running on http://127.0.0.1:8050/\n",
      "\n",
      "Dash is running on http://127.0.0.1:8050/\n",
      "\n",
      "Dash is running on http://127.0.0.1:8050/\n",
      "\n",
      "Dash is running on http://127.0.0.1:8050/\n",
      "\n",
      "Dash is running on http://127.0.0.1:8050/\n",
      "\n",
      "Dash is running on http://127.0.0.1:8050/\n",
      "\n",
      "Dash is running on http://127.0.0.1:8050/\n",
      "\n",
      "Dash is running on http://127.0.0.1:8050/\n",
      "\n",
      "Dash is running on http://127.0.0.1:8050/\n",
      "\n",
      "Dash is running on http://127.0.0.1:8050/\n",
      "\n",
      "Dash is running on http://127.0.0.1:8050/\n",
      "\n",
      "Dash is running on http://127.0.0.1:8050/\n",
      "\n",
      "Dash is running on http://127.0.0.1:8050/\n",
      "\n",
      "Dash is running on http://127.0.0.1:8050/\n",
      "\n",
      "Dash is running on http://127.0.0.1:8050/\n",
      "\n",
      "Dash is running on http://127.0.0.1:8050/\n",
      "\n",
      "Dash is running on http://127.0.0.1:8050/\n",
      "\n",
      "Dash is running on http://127.0.0.1:8050/\n",
      "\n",
      " * Serving Flask app \"__main__\" (lazy loading)\n",
      " * Environment: production\n",
      "\u001b[31m   WARNING: This is a development server. Do not use it in a production deployment.\u001b[0m\n",
      "\u001b[2m   Use a production WSGI server instead.\u001b[0m\n",
      " * Debug mode: off\n"
     ]
    },
    {
     "name": "stderr",
     "output_type": "stream",
     "text": [
      " * Running on http://127.0.0.1:8050/ (Press CTRL+C to quit)\n",
      "127.0.0.1 - - [01/May/2022 06:35:53] \"GET / HTTP/1.1\" 200 -\n",
      "127.0.0.1 - - [01/May/2022 06:35:54] \"GET /_dash-component-suites/dash_bootstrap_components/_components/dash_bootstrap_components.v1_1_0m1651242495.min.js HTTP/1.1\" 200 -\n",
      "127.0.0.1 - - [01/May/2022 06:35:54] \"GET /_dash-component-suites/dash/dash-renderer/build/dash_renderer.v2_3_0m1648105790.min.js HTTP/1.1\" 200 -\n",
      "127.0.0.1 - - [01/May/2022 06:35:54] \"GET /_dash-component-suites/dash/dcc/dash_core_components.v2_3_0m1648105790.js HTTP/1.1\" 200 -\n",
      "127.0.0.1 - - [01/May/2022 06:35:54] \"GET /_dash-component-suites/dash/html/dash_html_components.v2_0_2m1648105790.min.js HTTP/1.1\" 200 -\n",
      "127.0.0.1 - - [01/May/2022 06:35:54] \"GET /_dash-layout HTTP/1.1\" 200 -\n",
      "127.0.0.1 - - [01/May/2022 06:35:54] \"GET /_dash-dependencies HTTP/1.1\" 200 -\n",
      "127.0.0.1 - - [01/May/2022 06:35:54] \"GET /_dash-component-suites/dash/dcc/async-graph.js HTTP/1.1\" 304 -\n",
      "127.0.0.1 - - [01/May/2022 06:35:54] \"GET /_dash-component-suites/dash/dcc/async-plotlyjs.js HTTP/1.1\" 200 -\n",
      "127.0.0.1 - - [01/May/2022 06:35:54] \"GET /_dash-component-suites/dash/dcc/async-dropdown.js HTTP/1.1\" 200 -\n",
      "127.0.0.1 - - [01/May/2022 06:35:54] \"POST /_dash-update-component HTTP/1.1\" 200 -\n",
      "127.0.0.1 - - [01/May/2022 06:35:54] \"POST /_dash-update-component HTTP/1.1\" 200 -\n",
      "127.0.0.1 - - [01/May/2022 06:35:55] \"POST /_dash-update-component HTTP/1.1\" 200 -\n",
      "127.0.0.1 - - [01/May/2022 06:35:55] \"POST /_dash-update-component HTTP/1.1\" 200 -\n",
      "127.0.0.1 - - [01/May/2022 06:36:09] \"POST /_dash-update-component HTTP/1.1\" 200 -\n",
      "127.0.0.1 - - [01/May/2022 06:37:34] \"POST /_dash-update-component HTTP/1.1\" 200 -\n",
      "127.0.0.1 - - [01/May/2022 06:37:34] \"POST /_dash-update-component HTTP/1.1\" 200 -\n",
      "127.0.0.1 - - [01/May/2022 06:37:38] \"POST /_dash-update-component HTTP/1.1\" 200 -\n",
      "127.0.0.1 - - [01/May/2022 06:39:58] \"GET / HTTP/1.1\" 200 -\n",
      "127.0.0.1 - - [01/May/2022 06:39:58] \"GET /_dash-component-suites/dash/deps/polyfill@7.v2_3_0m1648105790.12.1.min.js HTTP/1.1\" 200 -\n",
      "127.0.0.1 - - [01/May/2022 06:39:58] \"GET /_dash-component-suites/dash/dash-renderer/build/dash_renderer.v2_3_0m1648105790.min.js HTTP/1.1\" 200 -\n",
      "127.0.0.1 - - [01/May/2022 06:39:58] \"GET /_dash-component-suites/dash/deps/react-dom@16.v2_3_0m1648105790.14.0.min.js HTTP/1.1\" 200 -\n",
      "127.0.0.1 - - [01/May/2022 06:39:58] \"GET /_dash-component-suites/dash/html/dash_html_components.v2_0_2m1648105790.min.js HTTP/1.1\" 200 -\n",
      "127.0.0.1 - - [01/May/2022 06:39:58] \"GET /_dash-component-suites/dash_bootstrap_components/_components/dash_bootstrap_components.v1_1_0m1651242495.min.js HTTP/1.1\" 200 -\n",
      "127.0.0.1 - - [01/May/2022 06:39:58] \"GET /_dash-component-suites/dash/dcc/dash_core_components.v2_3_0m1648105790.js HTTP/1.1\" 200 -\n",
      "127.0.0.1 - - [01/May/2022 06:39:59] \"GET /_dash-layout HTTP/1.1\" 200 -\n",
      "127.0.0.1 - - [01/May/2022 06:39:59] \"GET /_dash-dependencies HTTP/1.1\" 200 -\n",
      "127.0.0.1 - - [01/May/2022 06:39:59] \"GET /_dash-component-suites/dash/dcc/async-graph.js HTTP/1.1\" 304 -\n",
      "127.0.0.1 - - [01/May/2022 06:39:59] \"GET /_dash-component-suites/dash/dcc/async-plotlyjs.js HTTP/1.1\" 200 -\n",
      "127.0.0.1 - - [01/May/2022 06:39:59] \"GET /_dash-component-suites/dash/dcc/async-dropdown.js HTTP/1.1\" 304 -\n",
      "127.0.0.1 - - [01/May/2022 06:40:19] \"GET / HTTP/1.1\" 200 -\n",
      "127.0.0.1 - - [01/May/2022 06:40:19] \"GET /_dash-component-suites/dash_bootstrap_components/_components/dash_bootstrap_components.v1_1_0m1651242495.min.js HTTP/1.1\" 200 -\n",
      "127.0.0.1 - - [01/May/2022 06:40:19] \"GET /_dash-component-suites/dash/dash-renderer/build/dash_renderer.v2_3_0m1648105790.min.js HTTP/1.1\" 200 -\n",
      "127.0.0.1 - - [01/May/2022 06:40:20] \"GET /_dash-component-suites/dash/dcc/dash_core_components.v2_3_0m1648105790.js HTTP/1.1\" 200 -\n",
      "127.0.0.1 - - [01/May/2022 06:40:20] \"GET /_dash-component-suites/dash/html/dash_html_components.v2_0_2m1648105790.min.js HTTP/1.1\" 200 -\n",
      "127.0.0.1 - - [01/May/2022 06:40:20] \"GET /_dash-component-suites/dash/dcc/async-graph.js HTTP/1.1\" 304 -\n",
      "127.0.0.1 - - [01/May/2022 06:40:20] \"GET /_dash-component-suites/dash/dcc/async-plotlyjs.js HTTP/1.1\" 200 -\n",
      "127.0.0.1 - - [01/May/2022 06:40:20] \"GET /_dash-component-suites/dash/dcc/async-dropdown.js HTTP/1.1\" 304 -\n",
      "127.0.0.1 - - [01/May/2022 06:40:20] \"POST /_dash-update-component HTTP/1.1\" 200 -\n",
      "127.0.0.1 - - [01/May/2022 06:40:20] \"POST /_dash-update-component HTTP/1.1\" 200 -\n",
      "127.0.0.1 - - [01/May/2022 06:40:21] \"POST /_dash-update-component HTTP/1.1\" 200 -\n",
      "127.0.0.1 - - [01/May/2022 06:40:21] \"POST /_dash-update-component HTTP/1.1\" 200 -\n",
      "127.0.0.1 - - [01/May/2022 06:44:32] \"POST /_dash-update-component HTTP/1.1\" 200 -\n",
      "127.0.0.1 - - [01/May/2022 06:51:42] \"POST /_dash-update-component HTTP/1.1\" 200 -\n",
      "127.0.0.1 - - [01/May/2022 06:51:42] \"POST /_dash-update-component HTTP/1.1\" 200 -\n",
      "127.0.0.1 - - [01/May/2022 06:51:45] \"POST /_dash-update-component HTTP/1.1\" 200 -\n",
      "127.0.0.1 - - [01/May/2022 06:55:40] \"GET /_dash-component-suites/dash_bootstrap_components/_components/dash_bootstrap_components.v1_1_0m1651242495.min.js HTTP/1.1\" 200 -\n",
      "127.0.0.1 - - [01/May/2022 06:55:40] \"GET /_dash-component-suites/dash/dash-renderer/build/dash_renderer.v2_3_0m1648105790.min.js HTTP/1.1\" 200 -\n",
      "127.0.0.1 - - [01/May/2022 06:55:40] \"GET /_dash-component-suites/dash/dcc/dash_core_components.v2_3_0m1648105790.js HTTP/1.1\" 200 -\n",
      "127.0.0.1 - - [01/May/2022 06:55:40] \"GET /_dash-component-suites/dash/html/dash_html_components.v2_0_2m1648105790.min.js HTTP/1.1\" 200 -\n",
      "127.0.0.1 - - [01/May/2022 06:55:40] \"GET /_dash-component-suites/dash/dcc/async-graph.js HTTP/1.1\" 304 -\n",
      "127.0.0.1 - - [01/May/2022 06:55:40] \"GET /_dash-component-suites/dash/dcc/async-plotlyjs.js HTTP/1.1\" 200 -\n",
      "127.0.0.1 - - [01/May/2022 06:55:40] \"GET /_dash-component-suites/dash/dcc/async-dropdown.js HTTP/1.1\" 200 -\n",
      "127.0.0.1 - - [01/May/2022 06:55:40] \"POST /_dash-update-component HTTP/1.1\" 200 -\n",
      "127.0.0.1 - - [01/May/2022 06:55:40] \"POST /_dash-update-component HTTP/1.1\" 200 -\n",
      "127.0.0.1 - - [01/May/2022 06:55:41] \"POST /_dash-update-component HTTP/1.1\" 200 -\n",
      "127.0.0.1 - - [01/May/2022 06:55:41] \"POST /_dash-update-component HTTP/1.1\" 200 -\n",
      "127.0.0.1 - - [01/May/2022 09:13:01] \"GET /_dash-component-suites/dash_bootstrap_components/_components/dash_bootstrap_components.v1_1_0m1651242495.min.js HTTP/1.1\" 200 -\n",
      "127.0.0.1 - - [01/May/2022 09:13:01] \"GET /_dash-component-suites/dash/dcc/dash_core_components.v2_3_0m1648105790.js HTTP/1.1\" 200 -\n",
      "127.0.0.1 - - [01/May/2022 09:13:01] \"GET /_dash-component-suites/dash/dash-renderer/build/dash_renderer.v2_3_0m1648105790.min.js HTTP/1.1\" 200 -\n",
      "127.0.0.1 - - [01/May/2022 09:13:01] \"GET /_dash-component-suites/dash/html/dash_html_components.v2_0_2m1648105790.min.js HTTP/1.1\" 200 -\n",
      "127.0.0.1 - - [01/May/2022 09:13:01] \"GET /_dash-layout HTTP/1.1\" 200 -\n",
      "127.0.0.1 - - [01/May/2022 09:13:01] \"GET /_dash-dependencies HTTP/1.1\" 200 -\n",
      "127.0.0.1 - - [01/May/2022 09:13:01] \"GET /_dash-component-suites/dash/dcc/async-graph.js HTTP/1.1\" 304 -\n",
      "127.0.0.1 - - [01/May/2022 09:13:01] \"GET /_dash-component-suites/dash/dcc/async-dropdown.js HTTP/1.1\" 200 -\n",
      "127.0.0.1 - - [01/May/2022 09:13:01] \"GET /_dash-component-suites/dash/dcc/async-plotlyjs.js HTTP/1.1\" 200 -\n",
      "127.0.0.1 - - [01/May/2022 09:13:01] \"POST /_dash-update-component HTTP/1.1\" 200 -\n",
      "127.0.0.1 - - [01/May/2022 09:13:01] \"POST /_dash-update-component HTTP/1.1\" 200 -\n",
      "127.0.0.1 - - [01/May/2022 09:13:02] \"POST /_dash-update-component HTTP/1.1\" 200 -\n",
      "127.0.0.1 - - [01/May/2022 09:13:02] \"GET /_dash-component-suites/dash/deps/react-dom@16.v2_3_0m1648105790.14.0.min.js HTTP/1.1\" 200 -\n",
      "127.0.0.1 - - [01/May/2022 09:13:02] \"GET /_dash-component-suites/dash_bootstrap_components/_components/dash_bootstrap_components.v1_1_0m1651242495.min.js HTTP/1.1\" 200 -\n",
      "127.0.0.1 - - [01/May/2022 09:13:02] \"GET /_dash-component-suites/dash/deps/polyfill@7.v2_3_0m1648105790.12.1.min.js HTTP/1.1\" 200 -\n",
      "127.0.0.1 - - [01/May/2022 09:13:02] \"GET /_dash-component-suites/dash/dash-renderer/build/dash_renderer.v2_3_0m1648105790.min.js HTTP/1.1\" 200 -\n",
      "127.0.0.1 - - [01/May/2022 09:13:02] \"GET /_dash-component-suites/dash/dcc/dash_core_components.v2_3_0m1648105790.js HTTP/1.1\" 200 -\n",
      "127.0.0.1 - - [01/May/2022 09:13:02] \"GET /_dash-component-suites/dash/html/dash_html_components.v2_0_2m1648105790.min.js HTTP/1.1\" 200 -\n"
     ]
    },
    {
     "name": "stderr",
     "output_type": "stream",
     "text": [
      "127.0.0.1 - - [01/May/2022 09:13:02] \"POST /_dash-update-component HTTP/1.1\" 200 -\n",
      "127.0.0.1 - - [01/May/2022 09:13:03] \"GET /_dash-component-suites/dash/dcc/async-graph.js HTTP/1.1\" 304 -\n",
      "127.0.0.1 - - [01/May/2022 09:13:03] \"GET /_dash-component-suites/dash/dcc/async-plotlyjs.js HTTP/1.1\" 200 -\n",
      "127.0.0.1 - - [01/May/2022 09:13:03] \"GET /_dash-component-suites/dash/dcc/async-dropdown.js HTTP/1.1\" 304 -\n",
      "127.0.0.1 - - [01/May/2022 09:13:03] \"POST /_dash-update-component HTTP/1.1\" 200 -\n",
      "127.0.0.1 - - [01/May/2022 09:13:03] \"POST /_dash-update-component HTTP/1.1\" 200 -\n",
      "127.0.0.1 - - [01/May/2022 09:13:03] \"POST /_dash-update-component HTTP/1.1\" 200 -\n",
      "127.0.0.1 - - [01/May/2022 09:13:04] \"POST /_dash-update-component HTTP/1.1\" 200 -\n",
      "127.0.0.1 - - [01/May/2022 09:13:05] \"GET / HTTP/1.1\" 200 -\n",
      "127.0.0.1 - - [01/May/2022 09:13:05] \"GET /_dash-component-suites/dash/deps/polyfill@7.v2_3_0m1648105790.12.1.min.js HTTP/1.1\" 200 -\n",
      "127.0.0.1 - - [01/May/2022 09:13:05] \"GET /_dash-component-suites/dash/deps/react@16.v2_3_0m1648105790.14.0.min.js HTTP/1.1\" 200 -\n",
      "127.0.0.1 - - [01/May/2022 09:13:05] \"GET /_dash-component-suites/dash/deps/react-dom@16.v2_3_0m1648105790.14.0.min.js HTTP/1.1\" 200 -\n",
      "127.0.0.1 - - [01/May/2022 09:13:05] \"GET /_dash-component-suites/dash_bootstrap_components/_components/dash_bootstrap_components.v1_1_0m1651242495.min.js HTTP/1.1\" 200 -\n",
      "127.0.0.1 - - [01/May/2022 09:13:05] \"GET /_dash-component-suites/dash/deps/prop-types@15.v2_3_0m1648105790.7.2.min.js HTTP/1.1\" 200 -\n",
      "127.0.0.1 - - [01/May/2022 09:13:05] \"GET /_dash-component-suites/dash/dash-renderer/build/dash_renderer.v2_3_0m1648105790.min.js HTTP/1.1\" 200 -\n",
      "127.0.0.1 - - [01/May/2022 09:13:05] \"GET /_dash-component-suites/dash/dcc/dash_core_components.v2_3_0m1648105790.js HTTP/1.1\" 200 -\n",
      "127.0.0.1 - - [01/May/2022 09:13:05] \"GET /_dash-component-suites/dash/dcc/dash_core_components-shared.v2_3_0m1648105790.js HTTP/1.1\" 200 -\n",
      "127.0.0.1 - - [01/May/2022 09:13:05] \"GET /_dash-component-suites/dash/html/dash_html_components.v2_0_2m1648105790.min.js HTTP/1.1\" 200 -\n",
      "127.0.0.1 - - [01/May/2022 09:13:05] \"GET /_dash-component-suites/dash/dash_table/bundle.v5_1_1m1648105790.js HTTP/1.1\" 200 -\n",
      "127.0.0.1 - - [01/May/2022 09:13:05] \"GET /_dash-layout HTTP/1.1\" 200 -\n",
      "127.0.0.1 - - [01/May/2022 09:13:05] \"GET /_dash-dependencies HTTP/1.1\" 200 -\n",
      "127.0.0.1 - - [01/May/2022 09:13:05] \"GET /assets/insta.png HTTP/1.1\" 200 -\n",
      "127.0.0.1 - - [01/May/2022 09:13:05] \"GET /assets/0.jpg HTTP/1.1\" 304 -\n",
      "127.0.0.1 - - [01/May/2022 09:13:05] \"GET /assets/1.jpg HTTP/1.1\" 200 -\n",
      "127.0.0.1 - - [01/May/2022 09:13:05] \"GET /assets/2.jpg HTTP/1.1\" 200 -\n",
      "127.0.0.1 - - [01/May/2022 09:13:05] \"GET /assets/3.jpg HTTP/1.1\" 200 -\n",
      "127.0.0.1 - - [01/May/2022 09:13:05] \"GET /assets/4.jpg HTTP/1.1\" 200 -\n",
      "127.0.0.1 - - [01/May/2022 09:13:05] \"GET /assets/5.jpg HTTP/1.1\" 200 -\n",
      "127.0.0.1 - - [01/May/2022 09:13:05] \"GET /assets/6.jpg HTTP/1.1\" 200 -\n",
      "127.0.0.1 - - [01/May/2022 09:13:05] \"GET /assets/7.jpg HTTP/1.1\" 200 -\n",
      "127.0.0.1 - - [01/May/2022 09:13:05] \"GET /assets/8.jpg HTTP/1.1\" 304 -\n",
      "127.0.0.1 - - [01/May/2022 09:13:05] \"GET /assets/10.jpg HTTP/1.1\" 304 -\n",
      "127.0.0.1 - - [01/May/2022 09:13:05] \"GET /assets/9.jpg HTTP/1.1\" 304 -\n",
      "127.0.0.1 - - [01/May/2022 09:13:05] \"GET /assets/11.jpg HTTP/1.1\" 304 -\n",
      "127.0.0.1 - - [01/May/2022 09:13:05] \"GET /assets/12.jpg HTTP/1.1\" 200 -\n",
      "127.0.0.1 - - [01/May/2022 09:13:05] \"GET /assets/14.jpg HTTP/1.1\" 200 -\n",
      "127.0.0.1 - - [01/May/2022 09:13:05] \"GET /assets/13.jpg HTTP/1.1\" 200 -\n",
      "127.0.0.1 - - [01/May/2022 09:13:05] \"GET /assets/15.jpg HTTP/1.1\" 200 -\n",
      "127.0.0.1 - - [01/May/2022 09:13:05] \"GET /assets/16.jpg HTTP/1.1\" 200 -\n",
      "127.0.0.1 - - [01/May/2022 09:13:05] \"GET /_dash-component-suites/dash/dcc/async-graph.js HTTP/1.1\" 304 -\n",
      "127.0.0.1 - - [01/May/2022 09:13:05] \"GET /_dash-component-suites/dash/dcc/async-dropdown.js HTTP/1.1\" 304 -\n",
      "127.0.0.1 - - [01/May/2022 09:13:05] \"GET /assets/17.jpg HTTP/1.1\" 200 -\n",
      "127.0.0.1 - - [01/May/2022 09:13:05] \"GET /_dash-component-suites/dash/dcc/async-plotlyjs.js HTTP/1.1\" 200 -\n",
      "127.0.0.1 - - [01/May/2022 09:13:05] \"GET /assets/19.jpg HTTP/1.1\" 200 -\n",
      "127.0.0.1 - - [01/May/2022 09:13:05] \"GET /assets/18.jpg HTTP/1.1\" 200 -\n",
      "127.0.0.1 - - [01/May/2022 09:13:05] \"POST /_dash-update-component HTTP/1.1\" 200 -\n",
      "127.0.0.1 - - [01/May/2022 09:13:06] \"POST /_dash-update-component HTTP/1.1\" 200 -\n",
      "127.0.0.1 - - [01/May/2022 09:13:06] \"GET /assets/20.jpg HTTP/1.1\" 200 -\n",
      "127.0.0.1 - - [01/May/2022 09:13:06] \"GET /assets/21.jpg HTTP/1.1\" 200 -\n",
      "127.0.0.1 - - [01/May/2022 09:13:06] \"GET /assets/22.jpg HTTP/1.1\" 200 -\n",
      "127.0.0.1 - - [01/May/2022 09:13:06] \"POST /_dash-update-component HTTP/1.1\" 200 -\n",
      "127.0.0.1 - - [01/May/2022 09:13:06] \"POST /_dash-update-component HTTP/1.1\" 200 -\n",
      "127.0.0.1 - - [01/May/2022 09:16:07] \"POST /_dash-update-component HTTP/1.1\" 200 -\n",
      "127.0.0.1 - - [01/May/2022 10:07:12] \"POST /_dash-update-component HTTP/1.1\" 200 -\n",
      "127.0.0.1 - - [01/May/2022 10:07:12] \"POST /_dash-update-component HTTP/1.1\" 200 -\n",
      "127.0.0.1 - - [01/May/2022 11:08:08] \"POST /_dash-update-component HTTP/1.1\" 200 -\n",
      "127.0.0.1 - - [01/May/2022 11:08:08] \"POST /_dash-update-component HTTP/1.1\" 200 -\n",
      "127.0.0.1 - - [01/May/2022 11:09:48] \"POST /_dash-update-component HTTP/1.1\" 200 -\n",
      "127.0.0.1 - - [01/May/2022 11:10:00] \"POST /_dash-update-component HTTP/1.1\" 200 -\n",
      "127.0.0.1 - - [01/May/2022 11:10:03] \"POST /_dash-update-component HTTP/1.1\" 200 -\n",
      "127.0.0.1 - - [01/May/2022 11:10:12] \"POST /_dash-update-component HTTP/1.1\" 200 -\n",
      "127.0.0.1 - - [01/May/2022 11:10:17] \"POST /_dash-update-component HTTP/1.1\" 200 -\n",
      "127.0.0.1 - - [01/May/2022 11:10:21] \"POST /_dash-update-component HTTP/1.1\" 200 -\n",
      "127.0.0.1 - - [01/May/2022 11:10:23] \"POST /_dash-update-component HTTP/1.1\" 200 -\n",
      "127.0.0.1 - - [01/May/2022 11:10:27] \"POST /_dash-update-component HTTP/1.1\" 200 -\n",
      "127.0.0.1 - - [01/May/2022 11:12:06] \"POST /_dash-update-component HTTP/1.1\" 200 -\n",
      "127.0.0.1 - - [01/May/2022 11:12:06] \"POST /_dash-update-component HTTP/1.1\" 200 -\n",
      "127.0.0.1 - - [01/May/2022 11:12:08] \"POST /_dash-update-component HTTP/1.1\" 200 -\n",
      "127.0.0.1 - - [01/May/2022 11:12:34] \"POST /_dash-update-component HTTP/1.1\" 200 -\n",
      "127.0.0.1 - - [01/May/2022 11:23:03] \"POST /_dash-update-component HTTP/1.1\" 200 -\n",
      "127.0.0.1 - - [01/May/2022 11:23:03] \"POST /_dash-update-component HTTP/1.1\" 200 -\n",
      "127.0.0.1 - - [01/May/2022 11:23:06] \"POST /_dash-update-component HTTP/1.1\" 200 -\n",
      "127.0.0.1 - - [01/May/2022 11:23:10] \"POST /_dash-update-component HTTP/1.1\" 200 -\n",
      "127.0.0.1 - - [01/May/2022 11:23:16] \"POST /_dash-update-component HTTP/1.1\" 200 -\n",
      "127.0.0.1 - - [01/May/2022 11:23:16] \"POST /_dash-update-component HTTP/1.1\" 200 -\n",
      "127.0.0.1 - - [01/May/2022 11:23:18] \"POST /_dash-update-component HTTP/1.1\" 200 -\n",
      "127.0.0.1 - - [01/May/2022 11:23:18] \"POST /_dash-update-component HTTP/1.1\" 200 -\n",
      "127.0.0.1 - - [01/May/2022 11:23:21] \"POST /_dash-update-component HTTP/1.1\" 200 -\n",
      "127.0.0.1 - - [01/May/2022 11:37:18] \"POST /_dash-update-component HTTP/1.1\" 200 -\n",
      "127.0.0.1 - - [01/May/2022 11:37:23] \"POST /_dash-update-component HTTP/1.1\" 200 -\n",
      "127.0.0.1 - - [01/May/2022 11:37:46] \"GET /favicon.ico HTTP/1.1\" 200 -\n",
      "127.0.0.1 - - [01/May/2022 13:23:05] \"POST /_dash-update-component HTTP/1.1\" 200 -\n",
      "127.0.0.1 - - [01/May/2022 13:23:05] \"POST /_dash-update-component HTTP/1.1\" 200 -\n",
      "127.0.0.1 - - [01/May/2022 13:23:09] \"POST /_dash-update-component HTTP/1.1\" 200 -\n",
      "127.0.0.1 - - [01/May/2022 13:23:18] \"POST /_dash-update-component HTTP/1.1\" 200 -\n",
      "127.0.0.1 - - [01/May/2022 13:25:28] \"POST /_dash-update-component HTTP/1.1\" 200 -\n"
     ]
    }
   ],
   "source": [
    "app = Dash(external_stylesheets=[dbc.themes.BOOTSTRAP])\n",
    "\n",
    "@app.callback(\n",
    "    Output(component_id='graph1',component_property='figure'),\n",
    "    Output(component_id='graph2',component_property='figure'),\n",
    "    Output(component_id='graph3',component_property='figure'),\n",
    "    Input(component_id='ddown1',component_property='value'),\n",
    "    Input(component_id='ddown2',component_property='value'),\n",
    ")\n",
    "def update_My_Div(category,tier):\n",
    "    if category==None and tier==None:\n",
    "        df0 = df.sort_values(by=['followers'] , ascending=False)\n",
    "        df1 = df.sort_values(by=['posts'], ascending=False)\n",
    "        df2 = df.sort_values(by=['avg_engagement_rate'], ascending=False)\n",
    "        followers_Bar = px.bar(df0 , x= 'username', y='followers', color = 'username', color_discrete_sequence= px.colors.sequential.Purpor)\n",
    "        postsNum_Bar = px.bar(df1 , x= 'username', y='posts', color = 'username', color_discrete_sequence= px.colors.sequential.Purpor)\n",
    "        er_Bar = px.bar(df2 , x= 'username', y='avg_engagement_rate' , color = 'username', color_discrete_sequence= px.colors.sequential.Purpor)\n",
    "        return followers_Bar,postsNum_Bar, er_Bar\n",
    "    elif tier==None:\n",
    "        df0 = df[df['category'] == category]\n",
    "        df0 = df0.sort_values(by=['followers'], ascending=False)\n",
    "        df1 = df0.sort_values(by=['posts'], ascending=False)\n",
    "        df2 = df0.sort_values(by=['avg_engagement_rate'], ascending=False)\n",
    "        followers_Bar = px.bar(df0 , x= 'username', y='followers' , color = 'username', color_discrete_sequence= px.colors.sequential.Purpor)\n",
    "        postsNum_Bar = px.bar(df1 , x= 'username', y='posts' , color = 'username', color_discrete_sequence= px.colors.sequential.Purpor)\n",
    "        er_Bar = px.bar(df2 , x= 'username', y='avg_engagement_rate', color = 'username', color_discrete_sequence= px.colors.sequential.Purpor)\n",
    "        return followers_Bar,postsNum_Bar, er_Bar\n",
    "    elif category==None:\n",
    "        df0 = df[df['tier'] == tier]\n",
    "        df0 = df0.sort_values(by=['followers'], ascending=False)\n",
    "        df1 = df0.sort_values(by=['posts'], ascending=False)\n",
    "        df2 = df0.sort_values(by=['avg_engagement_rate'], ascending=False)\n",
    "        followers_Bar = px.bar(df0 , x= 'username', y='followers', color = 'username', color_discrete_sequence= px.colors.sequential.Purpor)\n",
    "        postsNum_Bar = px.bar(df1 , x= 'username', y='posts' , color = 'username', color_discrete_sequence= px.colors.sequential.Purpor)\n",
    "        er_Bar = px.bar(df2 , x= 'username', y='avg_engagement_rate', color = 'username', color_discrete_sequence= px.colors.sequential.Purpor)\n",
    "        return followers_Bar,postsNum_Bar,er_Bar\n",
    "        \n",
    "    else:\n",
    "        df0 = df[np.logical_and(df['category'] == category,df['tier'] == tier)]\n",
    "        df0 = df0.sort_values(by=['followers'], ascending=False)\n",
    "        df1 = df0.sort_values(by=['posts'], ascending=False)\n",
    "        df2 = df0.sort_values(by=['avg_engagement_rate'], ascending=False)\n",
    "        followers_Bar = px.bar(df0 , x= 'username', y='followers', color = 'username', color_discrete_sequence= px.colors.sequential.Purpor)\n",
    "        postsNum_Bar = px.bar(df1 , x= 'username', y='posts' , color = 'username', color_discrete_sequence= px.colors.sequential.Purpor)\n",
    "        er_Bar = px.bar(df2 , x= 'username', y='avg_engagement_rate', color = 'username', color_discrete_sequence= px.colors.sequential.Purpor)\n",
    "        return followers_Bar,postsNum_Bar, er_Bar\n",
    "    \n",
    "@app.callback(\n",
    "    Output(component_id='graph4',component_property='figure'),\n",
    "    Input(component_id='ddown3',component_property='value'),\n",
    ")\n",
    "def update_My_Div(username):\n",
    "    if username==None or len(username)==0:\n",
    "        Likes_scatter = px.scatter(df_detailed,\n",
    "                        x='date',y='likes',\n",
    "                        color='username',\n",
    "                        hover_name='username',\n",
    "                        title='Date VS Likes',\n",
    "                        symbol='username',\n",
    "                        color_discrete_sequence= px.colors.sequential.Purpor_r)\n",
    "        return Likes_scatter\n",
    "    else:\n",
    "        df_scatter = df_detailed[np.isin(df_detailed.username,username)]\n",
    "        Likes_scatter = px.scatter(df_scatter,\n",
    "                        x='date',y='likes',\n",
    "                        color='username',\n",
    "                        hover_name='username',\n",
    "                        title='Date VS Likes',\n",
    "                        symbol='username',\n",
    "                        color_discrete_sequence= px.colors.sequential.Purpor_r)\n",
    "        return Likes_scatter\n",
    "\n",
    "@app.callback(\n",
    "    Output(component_id='ddown5',component_property='options'),\n",
    "    Input(component_id='ddown4',component_property='value'),\n",
    ")\n",
    "\n",
    "def update_My_Div(username):\n",
    "    df_name = df_detailed[df_detailed['username']==username]\n",
    "    options=[{'label': str(date)[:10], 'value': str(date)}  for date in df_name['date'].unique()]\n",
    "\n",
    "    return options\n",
    "\n",
    "@app.callback(\n",
    "    Output(component_id='card1',component_property='children'),\n",
    "    Input(component_id='ddown4',component_property='value'),\n",
    "    Input(component_id='ddown5',component_property='value'),\n",
    ")\n",
    "def update_My_Div(username, date):\n",
    "    \n",
    "    df_name = df_detailed[df_detailed['username']==username]\n",
    "    \n",
    "    if username == None:\n",
    "        children = [dbc.CardImg(src=\"https://raw.githubusercontent.com/ayahhhany/Instagram-Dashboard/main/assets/insta.png\", top=True,style = {\"width\":\"200px\", 'clip-path': 'circle(42%)', 'cursor': 'pointer', 'margin-left': 'auto', 'margin-right': 'auto'})]\n",
    "    elif date == None or ((df_name['date']!=date).all()) :\n",
    "        children = [ dbc.CardImg(src = df[df['username'] == username].iloc[0,9], top=True, style={\"width\":\"200px\", 'clip-path': 'circle(42%)', 'cursor': 'pointer','margin-left': 'auto', 'margin-right': 'auto'}),\n",
    "                    dbc.CardHeader(f\"Lucky Hour is around {lucky_hour[df[df['username'] == username].index[0]][:2]} (GMT+2) \"),\n",
    "                    dbc.CardBody([html.H4(username, className=\"card-title\"),]),\n",
    "                    \n",
    "                   ]\n",
    "    else:\n",
    "        children = [ dbc.CardImg(src = df[df['username'] == username].iloc[0,9], top=True, style = {\"width\":\"200px\", 'clip-path': 'circle(42%)', 'cursor': 'pointer', 'margin-left': 'auto', 'margin-right': 'auto'}),\n",
    "                    dbc.CardHeader(f\"Lucky Hour is around {lucky_hour[df[df['username'] == username].index[0]][:2]} (GMT+2) \"),\n",
    "\n",
    "                    dbc.CardBody([html.H4(username, className=\"card-title\"),]),\n",
    "                    html.P((df_name[df_name['date'] == date].iloc[0,5]), className=\"card-text\",),\n",
    "                    CustomButton(\"Open Post\", color=\"secondary\", href=df_name[df_name['date'] == date].iloc[0,2],),\n",
    "                   ]\n",
    "\n",
    "    return children\n",
    "\n",
    "    \n",
    "\n",
    "\n",
    "app.layout =html.Div(children=[\n",
    "    \n",
    " html.Div(\n",
    "    [\n",
    "        dbc.Row(\n",
    "            [\n",
    "                dbc.Col(dbc.Card(card_content0)),\n",
    "            ],\n",
    "            className=\"mb-4\", \n",
    "        ),\n",
    "        dbc.Row(\n",
    "            [\n",
    "                dbc.Col(CustomCard(card_content1, color=\"primary\", inverse=True )),\n",
    "                dbc.Col(CustomCard(card_content2, color=\"secondary\", inverse=True)),\n",
    "                dbc.Col(CustomCard(card_content3, color=\"info\", inverse=True)),\n",
    "                dbc.Col(CustomCard(card_content4, color=\"success\", inverse=True)),\n",
    "            ],\n",
    "            className=\"mb-4\",\n",
    "        ),\n",
    "        dbc.Row(\n",
    "            [\n",
    "                dbc.Col(dbc.Card(photos)),\n",
    "            ],\n",
    "            className=\"mb-4\",\n",
    "        ),\n",
    "        dbc.Row(\n",
    "            [\n",
    "                dbc.Col(card_content5, width = 4),\n",
    "                dbc.Col(card_content_posts , width=3),\n",
    "                dbc.Col(card_content6, width =5),\n",
    "            ],\n",
    "            className=\"mb-4\",\n",
    "        ),\n",
    "        dbc.Row(\n",
    "            [\n",
    "                dbc.Col(card_content7,  width=4),\n",
    "                dbc.Col(card_content8,  width=4),\n",
    "                dbc.Col(card_content9,  width=4),\n",
    "            ],\n",
    "            className=\"mb-4\",\n",
    "        ),\n",
    "        dbc.Row(\n",
    "            [\n",
    "                dbc.Col(card_content10),\n",
    "            ],\n",
    "            className=\"mb-4\",\n",
    "        ),\n",
    "    ]\n",
    ")\n",
    "    ])\n",
    "app.run_server()\n",
    "\n"
   ]
  },
  {
   "cell_type": "code",
   "execution_count": null,
   "id": "bd480f16",
   "metadata": {},
   "outputs": [],
   "source": []
  }
 ],
 "metadata": {
  "kernelspec": {
   "display_name": "Python 3 (ipykernel)",
   "language": "python",
   "name": "python3"
  },
  "language_info": {
   "codemirror_mode": {
    "name": "ipython",
    "version": 3
   },
   "file_extension": ".py",
   "mimetype": "text/x-python",
   "name": "python",
   "nbconvert_exporter": "python",
   "pygments_lexer": "ipython3",
   "version": "3.9.7"
  }
 },
 "nbformat": 4,
 "nbformat_minor": 5
}
