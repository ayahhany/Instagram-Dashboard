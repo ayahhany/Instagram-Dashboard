{
 "cells": [
  {
   "cell_type": "code",
   "execution_count": 1,
   "id": "32052f55",
   "metadata": {},
   "outputs": [],
   "source": [
    "from dash import Dash,html,dcc\n",
    "import plotly.express as px\n",
    "import pandas as pd\n",
    "import numpy as np\n",
    "from dash.dependencies import Input,Output,State\n",
    "import dash_bootstrap_components as dbc"
   ]
  },
  {
   "cell_type": "markdown",
   "id": "a0040b5c",
   "metadata": {},
   "source": [
    "# insta_general"
   ]
  },
  {
   "cell_type": "code",
   "execution_count": 2,
   "id": "9c3dd8d1",
   "metadata": {},
   "outputs": [],
   "source": [
    "df = pd.read_csv('insta_general.csv', header=0)"
   ]
  },
  {
   "cell_type": "code",
   "execution_count": 3,
   "id": "92ba0abe",
   "metadata": {},
   "outputs": [],
   "source": [
    "df['posts']= df['posts'].astype('string').str.replace(',','').astype('int')"
   ]
  },
  {
   "cell_type": "code",
   "execution_count": 4,
   "id": "60c0d837",
   "metadata": {},
   "outputs": [],
   "source": [
    "df['followers']= df['followers'].astype('int')\n",
    "df['followings']= df['followings'].astype('int')"
   ]
  },
  {
   "cell_type": "code",
   "execution_count": 5,
   "id": "71e6af6f",
   "metadata": {},
   "outputs": [],
   "source": [
    "df0 = df.sort_values(by=['followers'])\n",
    "followers_Bar = px.bar(df0 , y= 'name', x='followers', orientation='h')"
   ]
  },
  {
   "cell_type": "code",
   "execution_count": 6,
   "id": "f669a28f",
   "metadata": {},
   "outputs": [],
   "source": [
    "df0 = df.sort_values(by=['posts'])\n",
    "postsNum_Bar = px.bar(df0 , x= 'name', y='posts')"
   ]
  },
  {
   "cell_type": "code",
   "execution_count": 7,
   "id": "05ed249c",
   "metadata": {},
   "outputs": [],
   "source": [
    "categories_followers_pie = px.pie(df, names='category', values='followers',  color_discrete_sequence= px.colors.sequential.Purpor, title = \"Most Followed Category\")"
   ]
  },
  {
   "cell_type": "code",
   "execution_count": 8,
   "id": "103cef9f",
   "metadata": {
    "scrolled": true
   },
   "outputs": [],
   "source": [
    "tier_pie = px.pie(df, names='tier')"
   ]
  },
  {
   "cell_type": "code",
   "execution_count": 9,
   "id": "1297ecf8",
   "metadata": {},
   "outputs": [],
   "source": [
    "df0 = df.sort_values(by=['avg_engagement_rate'])\n",
    "er_Bar = px.bar(df0 , x= 'username', y='avg_engagement_rate')"
   ]
  },
  {
   "cell_type": "markdown",
   "id": "0ca5a951",
   "metadata": {},
   "source": [
    "# insta_detailed"
   ]
  },
  {
   "cell_type": "code",
   "execution_count": 10,
   "id": "4b871bf2",
   "metadata": {},
   "outputs": [],
   "source": [
    "df_detailed = pd.read_csv('insta_detailed.csv', header=0)"
   ]
  },
  {
   "cell_type": "code",
   "execution_count": 11,
   "id": "580064f5",
   "metadata": {},
   "outputs": [],
   "source": [
    "df_temp = df_detailed.drop(df_detailed[df_detailed['likes']=='unknown'].index)\n",
    "df_detailed['likes'] = df_detailed['likes'].replace('unknown',df_temp['likes'].astype('int').min())\n",
    "df_detailed['likes'] = df_detailed['likes'].astype('int')\n",
    "df_detailed['captions']=df_detailed['captions'].fillna(' ')"
   ]
  },
  {
   "cell_type": "code",
   "execution_count": 12,
   "id": "ba3a8d2c",
   "metadata": {},
   "outputs": [],
   "source": [
    "posts_by_type_pie = px.pie(df_detailed, names='type')"
   ]
  },
  {
   "cell_type": "code",
   "execution_count": 13,
   "id": "03f36584",
   "metadata": {},
   "outputs": [],
   "source": [
    "df_detailed['date'] = pd.to_datetime(df_detailed['date'])"
   ]
  },
  {
   "cell_type": "code",
   "execution_count": 14,
   "id": "037f4147",
   "metadata": {},
   "outputs": [],
   "source": [
    "Likes_scatter = px.scatter(df_detailed,\n",
    "                           x='date',y='likes',\n",
    "                           color='username',\n",
    "                           hover_name='username',\n",
    "                           width=1000,height=1000,\n",
    "                           title='Date VS Likes',\n",
    "                           symbol='username',\n",
    "                           template='seaborn')"
   ]
  },
  {
   "cell_type": "markdown",
   "id": "1ddaa4e9",
   "metadata": {},
   "source": [
    "# Dash App"
   ]
  },
  {
   "cell_type": "code",
   "execution_count": 15,
   "id": "7e979968",
   "metadata": {},
   "outputs": [],
   "source": [
    "#header\n",
    "card_content0 = [html.H1(\"Young Content Creators on Instagram\", \\\n",
    "         style ={'font-size': '500%', 'text-align': 'center', \\\n",
    "                 \"background\": \"linear-gradient(to top right, ##F7DAE8,  #FEE3D0)\", 'height': '50%'})]"
   ]
  },
  {
   "cell_type": "code",
   "execution_count": 16,
   "id": "4f87a25c",
   "metadata": {},
   "outputs": [],
   "source": [
    "def CustomCard(*args, **kwargs):\n",
    "    print(kwargs)\n",
    "    option = kwargs['color']\n",
    "    default_color = \"red\"\n",
    "    default_color_light = \"\"\n",
    "    default_color_dark = \"\"\n",
    "    if option =='primary':\n",
    "        kwargs.setdefault(\"style\", {\"background-color\": default_color, \"background\": \"linear-gradient(to top right, orange, deeppink)\"})\n",
    "    elif option =='secondary':\n",
    "        kwargs.setdefault(\"style\", {\"background-color\": default_color, \"background\": \"linear-gradient(to bottom left, orange, deeppink)\"})\n",
    "    elif option =='info':\n",
    "        kwargs.setdefault(\"style\", {\"background-color\": default_color, \"background\": \"linear-gradient(to top left, orange, deeppink)\"})\n",
    "    else:\n",
    "        kwargs.setdefault(\"style\", {\"background-color\": default_color, \"background\": \"linear-gradient(to bottom right, orange, deeppink)\"})\n",
    "    return dbc.Card(*args, **kwargs)"
   ]
  },
  {
   "cell_type": "code",
   "execution_count": 17,
   "id": "9b2e2557",
   "metadata": {},
   "outputs": [],
   "source": [
    "#Big Numbers\n",
    "card_content1 = [ dbc.CardHeader(\"Combined Followers\"),\n",
    "                 dbc.CardBody([html.H5(str(df['followers'].sum()), className=\"card-title\")], style ={'text-align': 'center'}),]\n",
    "card_content2 = [ dbc.CardHeader(\"Total Posts\"),\n",
    "                 dbc.CardBody([html.H5(str(df['posts'].sum()), className=\"card-title\")], style ={'text-align': 'center'}),]\n",
    "card_content3 = [ dbc.CardHeader(\"Total Likes\"),\n",
    "                 dbc.CardBody([html.H5(str(df_detailed['likes'].sum()), className=\"card-title\")], style ={'text-align': 'center'}),]\n",
    "card_content4 = [ dbc.CardHeader(\"Highest Engagement Rate\"),\n",
    "                 dbc.CardBody([html.H5(str(round(df['avg_engagement_rate'].max(),2)), className=\"card-title\")], style ={'text-align': 'center'}),]"
   ]
  },
  {
   "cell_type": "code",
   "execution_count": 46,
   "id": "6b000348",
   "metadata": {},
   "outputs": [],
   "source": [
    "#photo scroll\n",
    "photos = dbc.Col([\n",
    "             dbc.Card([\n",
    "                dbc.Row([\n",
    "                    dbc.Col([\n",
    "                        dbc.CardImg(src=f\"/assets/insta.png\", top=True,style={\"width\":\"120px\", 'clip-path': 'circle(42%)','cursor': 'pointer'}),\n",
    "                        dbc.CardBody(html.P(\"Instagram\", style = {'text-align': 'center'}))]) ,\n",
    "                *[\n",
    "                    dbc.Col([\n",
    "                        dbc.CardImg(src=f\"/assets/{i}.jpg\", top=True,style={\"width\":\"120px\", 'clip-path': 'circle(42%)', 'cursor': 'pointer'}),\n",
    "                        dbc.CardBody(html.P(df.username[i], style = {'text-align': 'center'}))]) for i in range(df.shape[0])]\n",
    "                ], style={\"flexWrap\":\"nowrap\" }),\n",
    "            ], style={'overflowX': 'scroll',  })\n",
    "        ], style={\"display\": \"flex\", 'padding': '5px'})"
   ]
  },
  {
   "cell_type": "code",
   "execution_count": 42,
   "id": "e9519acc",
   "metadata": {},
   "outputs": [],
   "source": [
    "# pie + scatter\n",
    "card_content5 = [dcc.Graph(figure=categories_followers_pie), ]\n",
    "                \n",
    "card_content6 = [dcc.Graph(id='graph4'),\n",
    "     dcc.Dropdown(options=[{'label': str(username), 'value': str(username)} \\\n",
    "                                for username in df_detailed['username'].unique()],id='ddown3',multi=True,)]"
   ]
  },
  {
   "cell_type": "code",
   "execution_count": 20,
   "id": "dad7770d",
   "metadata": {},
   "outputs": [],
   "source": [
    "# Bars\n",
    "card_content7 = dcc.Graph(id='graph1')\n",
    "card_content8 = dcc.Graph(id='graph2')\n",
    "card_content9 = dcc.Graph(id='graph3')\n",
    "\n",
    "card_content10 =[ dcc.Dropdown(options=[{'label': str(category), 'value': str(category)} \\\n",
    "                          for category in df['category'].unique()], id='ddown1',\n",
    "                ),\n",
    "                 dcc.Dropdown(options=[{'label': str(tier), 'value': str(tier)} \\\n",
    "                                       for tier in df['tier'].unique()], id='ddown2',) ]"
   ]
  },
  {
   "cell_type": "code",
   "execution_count": 53,
   "id": "c07a7cba",
   "metadata": {},
   "outputs": [],
   "source": [
    "#Discover Posts\n",
    "card_content_posts = [ html.H2(\"Discover Posts\",style = {'text-align': 'center', 'color': 'pink'}),\n",
    "                 dbc.CardBody([dbc.Card(id='card1'),\n",
    "     dcc.Dropdown(options=[{'label': str(username), 'value': str(username)} \\\n",
    "                                for username in df['username'].unique()],id='ddown4',),\n",
    "     dcc.Dropdown(id='ddown5',),]),]\n"
   ]
  },
  {
   "cell_type": "code",
   "execution_count": null,
   "id": "eeb55142",
   "metadata": {},
   "outputs": [
    {
     "name": "stdout",
     "output_type": "stream",
     "text": [
      "{'color': 'primary', 'inverse': True}\n",
      "{'color': 'secondary', 'inverse': True}\n",
      "{'color': 'info', 'inverse': True}\n",
      "{'color': 'success', 'inverse': True}\n",
      "Dash is running on http://127.0.0.1:8050/\n",
      "\n",
      "Dash is running on http://127.0.0.1:8050/\n",
      "\n",
      "Dash is running on http://127.0.0.1:8050/\n",
      "\n",
      "Dash is running on http://127.0.0.1:8050/\n",
      "\n",
      "Dash is running on http://127.0.0.1:8050/\n",
      "\n",
      "Dash is running on http://127.0.0.1:8050/\n",
      "\n",
      "Dash is running on http://127.0.0.1:8050/\n",
      "\n",
      "Dash is running on http://127.0.0.1:8050/\n",
      "\n",
      "Dash is running on http://127.0.0.1:8050/\n",
      "\n",
      "Dash is running on http://127.0.0.1:8050/\n",
      "\n",
      "Dash is running on http://127.0.0.1:8050/\n",
      "\n",
      "Dash is running on http://127.0.0.1:8050/\n",
      "\n",
      "Dash is running on http://127.0.0.1:8050/\n",
      "\n",
      "Dash is running on http://127.0.0.1:8050/\n",
      "\n",
      "Dash is running on http://127.0.0.1:8050/\n",
      "\n",
      "Dash is running on http://127.0.0.1:8050/\n",
      "\n",
      "Dash is running on http://127.0.0.1:8050/\n",
      "\n",
      "Dash is running on http://127.0.0.1:8050/\n",
      "\n",
      "Dash is running on http://127.0.0.1:8050/\n",
      "\n",
      " * Serving Flask app \"__main__\" (lazy loading)\n",
      " * Environment: production\n",
      "\u001b[31m   WARNING: This is a development server. Do not use it in a production deployment.\u001b[0m\n",
      "\u001b[2m   Use a production WSGI server instead.\u001b[0m\n",
      " * Debug mode: off\n"
     ]
    },
    {
     "name": "stderr",
     "output_type": "stream",
     "text": [
      " * Running on http://127.0.0.1:8050/ (Press CTRL+C to quit)\n",
      "127.0.0.1 - - [30/Apr/2022 23:03:26] \"GET / HTTP/1.1\" 200 -\n",
      "127.0.0.1 - - [30/Apr/2022 23:03:26] \"GET /_dash-layout HTTP/1.1\" 200 -\n",
      "127.0.0.1 - - [30/Apr/2022 23:03:26] \"GET /_dash-dependencies HTTP/1.1\" 200 -\n",
      "127.0.0.1 - - [30/Apr/2022 23:03:26] \"GET /_dash-component-suites/dash/dcc/async-graph.js HTTP/1.1\" 200 -\n",
      "127.0.0.1 - - [30/Apr/2022 23:03:26] \"GET /_dash-component-suites/dash/dcc/async-plotlyjs.js HTTP/1.1\" 200 -\n",
      "127.0.0.1 - - [30/Apr/2022 23:03:26] \"GET /_dash-component-suites/dash/dcc/async-dropdown.js HTTP/1.1\" 200 -\n",
      "127.0.0.1 - - [30/Apr/2022 23:03:26] \"POST /_dash-update-component HTTP/1.1\" 200 -\n",
      "127.0.0.1 - - [30/Apr/2022 23:03:26] \"POST /_dash-update-component HTTP/1.1\" 200 -\n",
      "127.0.0.1 - - [30/Apr/2022 23:03:26] \"POST /_dash-update-component HTTP/1.1\" 200 -\n",
      "127.0.0.1 - - [30/Apr/2022 23:03:27] \"GET /_favicon.ico?v=2.3.0 HTTP/1.1\" 200 -\n",
      "127.0.0.1 - - [30/Apr/2022 23:03:27] \"POST /_dash-update-component HTTP/1.1\" 200 -\n",
      "127.0.0.1 - - [30/Apr/2022 23:03:31] \"POST /_dash-update-component HTTP/1.1\" 200 -\n",
      "127.0.0.1 - - [30/Apr/2022 23:03:31] \"POST /_dash-update-component HTTP/1.1\" 200 -\n",
      "127.0.0.1 - - [30/Apr/2022 23:03:32] \"POST /_dash-update-component HTTP/1.1\" 200 -\n"
     ]
    }
   ],
   "source": [
    "app = Dash(external_stylesheets=[dbc.themes.BOOTSTRAP])\n",
    "\n",
    "@app.callback(\n",
    "    Output(component_id='graph1',component_property='figure'),\n",
    "    Output(component_id='graph2',component_property='figure'),\n",
    "    Output(component_id='graph3',component_property='figure'),\n",
    "    Input(component_id='ddown1',component_property='value'),\n",
    "    Input(component_id='ddown2',component_property='value'),\n",
    ")\n",
    "def update_My_Div(category,tier):\n",
    "    if category==None and tier==None:\n",
    "        df0 = df.sort_values(by=['followers'] , ascending=False)\n",
    "        df1 = df.sort_values(by=['posts'], ascending=False)\n",
    "        df2 = df.sort_values(by=['avg_engagement_rate'], ascending=False)\n",
    "        followers_Bar = px.bar(df0 , x= 'username', y='followers', title = \"Who is most followed?\", color = 'username', color_discrete_sequence= px.colors.sequential.Purpor)\n",
    "        postsNum_Bar = px.bar(df1 , x= 'username', y='posts', title = \"Who posts the most?\", color = 'username', color_discrete_sequence= px.colors.sequential.Purpor)\n",
    "        er_Bar = px.bar(df2 , x= 'username', y='avg_engagement_rate' , title = \"Who has the highest Engagement Rate?\" , color = 'username', color_discrete_sequence= px.colors.sequential.Purpor)\n",
    "        return followers_Bar,postsNum_Bar, er_Bar\n",
    "    elif tier==None:\n",
    "        df0 = df[df['category'] == category]\n",
    "        df0 = df0.sort_values(by=['followers'], ascending=False)\n",
    "        df1 = df0.sort_values(by=['posts'], ascending=False)\n",
    "        df2 = df0.sort_values(by=['avg_engagement_rate'], ascending=False)\n",
    "        followers_Bar = px.bar(df0 , x= 'username', y='followers', title = \"Who is most followed?\" , color = 'username', color_discrete_sequence= px.colors.sequential.Purpor)\n",
    "        postsNum_Bar = px.bar(df1 , x= 'username', y='posts' , title = \"Who posts the most?\", color = 'username', color_discrete_sequence= px.colors.sequential.Purpor)\n",
    "        er_Bar = px.bar(df2 , x= 'username', y='avg_engagement_rate', title = \"Who has the highest Engagement Rate?\", color = 'username', color_discrete_sequence= px.colors.sequential.Purpor)\n",
    "        return followers_Bar,postsNum_Bar, er_Bar\n",
    "    elif category==None:\n",
    "        df0 = df[df['tier'] == tier]\n",
    "        df0 = df0.sort_values(by=['followers'], ascending=False)\n",
    "        df1 = df0.sort_values(by=['posts'], ascending=False)\n",
    "        df2 = df0.sort_values(by=['avg_engagement_rate'], ascending=False)\n",
    "        followers_Bar = px.bar(df0 , x= 'username', y='followers', title = \"Who is most followed?\", color = 'username', color_discrete_sequence= px.colors.sequential.Purpor)\n",
    "        postsNum_Bar = px.bar(df1 , x= 'username', y='posts' , title = \"Who posts the most?\", color = 'username', color_discrete_sequence= px.colors.sequential.Purpor)\n",
    "        er_Bar = px.bar(df2 , x= 'username', y='avg_engagement_rate', title = \"Who has the highest Engagement Rate?\", color = 'username', color_discrete_sequence= px.colors.sequential.Purpor)\n",
    "        return followers_Bar,postsNum_Bar,er_Bar\n",
    "        \n",
    "    else:\n",
    "        df0 = df[np.logical_and(df['category'] == category,df['tier'] == tier)]\n",
    "        df0 = df0.sort_values(by=['followers'], ascending=False)\n",
    "        df1 = df0.sort_values(by=['posts'], ascending=False)\n",
    "        df2 = df0.sort_values(by=['avg_engagement_rate'], ascending=False)\n",
    "        followers_Bar = px.bar(df0 , x= 'username', y='followers', title = \"Who is most followed?\", color = 'username', color_discrete_sequence= px.colors.sequential.Purpor)\n",
    "        postsNum_Bar = px.bar(df1 , x= 'username', y='posts' , title = \"Who posts the most?\", color = 'username', color_discrete_sequence= px.colors.sequential.Purpor)\n",
    "        er_Bar = px.bar(df2 , x= 'username', y='avg_engagement_rate', title = \"Who has the highest Engagement Rate?\", color = 'username', color_discrete_sequence= px.colors.sequential.Purpor)\n",
    "        return followers_Bar,postsNum_Bar, er_Bar\n",
    "    \n",
    "@app.callback(\n",
    "    Output(component_id='graph4',component_property='figure'),\n",
    "    Input(component_id='ddown3',component_property='value'),\n",
    ")\n",
    "def update_My_Div(username):\n",
    "    if username==None or len(username)==0:\n",
    "        Likes_scatter = px.scatter(df_detailed,\n",
    "                        x='date',y='likes',\n",
    "                        color='username',\n",
    "                        hover_name='username',\n",
    "                        title='Date VS Likes',\n",
    "                        symbol='username',\n",
    "                        color_discrete_sequence= px.colors.sequential.Purpor)\n",
    "        return Likes_scatter\n",
    "    else:\n",
    "        df_scatter = df_detailed[np.isin(df_detailed.username,username)]\n",
    "        Likes_scatter = px.scatter(df_scatter,\n",
    "                        x='date',y='likes',\n",
    "                        color='username',\n",
    "                        hover_name='username',\n",
    "                        title='Date VS Likes',\n",
    "                        symbol='username',\n",
    "                        color_discrete_sequence= px.colors.sequential.Purpor)\n",
    "        return Likes_scatter\n",
    "\n",
    "@app.callback(\n",
    "    Output(component_id='ddown5',component_property='options'),\n",
    "    Input(component_id='ddown4',component_property='value'),\n",
    ")\n",
    "\n",
    "def update_My_Div(username):\n",
    "    df_name = df_detailed[df_detailed['username']==username]\n",
    "    options=[{'label': str(date), 'value': str(date)}  for date in df_name['date'].unique()]\n",
    "\n",
    "    return options\n",
    "\n",
    "@app.callback(\n",
    "    Output(component_id='card1',component_property='children'),\n",
    "    Input(component_id='ddown4',component_property='value'),\n",
    "    Input(component_id='ddown5',component_property='value'),\n",
    ")\n",
    "\n",
    "def update_My_Div(username, date):\n",
    "    \n",
    "    df_name = df_detailed[df_detailed['username']==username]\n",
    "    \n",
    "    if username == None:\n",
    "        children = []\n",
    "    elif date == None or ((df_name['date']!=date).all()) :\n",
    "        children = [\n",
    "                    dbc.CardBody([html.H4(username, className=\"card-title\"),]),\n",
    "                   ]\n",
    "    else:\n",
    "        children = [\n",
    "                    dbc.CardBody([html.H4(username, className=\"card-title\"),]),\n",
    "                    html.P(df_name[df_name['date'] == date].iloc[0,5], className=\"card-text\",),\n",
    "                    dbc.Button(\"Open Post\", color=\"primary\", href=df_name[df_name['date'] == date].iloc[0,1],),\n",
    "                   ]\n",
    "\n",
    "    return children\n",
    "    \n",
    "    \n",
    "\n",
    "\n",
    "app.layout =html.Div(children=[\n",
    "    \n",
    " html.Div(\n",
    "    [\n",
    "        dbc.Row(\n",
    "            [\n",
    "                dbc.Col(dbc.Card(card_content0)),\n",
    "            ],\n",
    "            className=\"mb-4\",\n",
    "        ),\n",
    "        dbc.Row(\n",
    "            [\n",
    "                dbc.Col(CustomCard(card_content1, color=\"primary\", inverse=True )),\n",
    "                dbc.Col(CustomCard(card_content2, color=\"secondary\", inverse=True)),\n",
    "                dbc.Col(CustomCard(card_content3, color=\"info\", inverse=True)),\n",
    "                dbc.Col(CustomCard(card_content4, color=\"success\", inverse=True)),\n",
    "            ],\n",
    "            className=\"mb-4\",\n",
    "        ),\n",
    "        dbc.Row(\n",
    "            [\n",
    "                dbc.Col(dbc.Card(photos)),\n",
    "            ],\n",
    "            className=\"mb-4\",\n",
    "        ),\n",
    "        dbc.Row(\n",
    "            [\n",
    "                dbc.Col(card_content5, width = 4),\n",
    "                dbc.Col(card_content_posts , width=3),\n",
    "                dbc.Col(card_content6, width =5),\n",
    "            ],\n",
    "            className=\"mb-4\",\n",
    "        ),\n",
    "        dbc.Row(\n",
    "            [\n",
    "                dbc.Col(card_content7,  width=4),\n",
    "                dbc.Col(card_content8,  width=4),\n",
    "                dbc.Col(card_content9,  width=4),\n",
    "            ],\n",
    "            className=\"mb-4\",\n",
    "        ),\n",
    "        dbc.Row(\n",
    "            [\n",
    "                dbc.Col(card_content10),\n",
    "            ],\n",
    "            className=\"mb-4\",\n",
    "        ),\n",
    "    ]\n",
    ")\n",
    "    ])\n",
    "app.run_server()"
   ]
  },
  {
   "cell_type": "code",
   "execution_count": null,
   "id": "a9379406",
   "metadata": {},
   "outputs": [],
   "source": []
  }
 ],
 "metadata": {
  "kernelspec": {
   "display_name": "Python 3 (ipykernel)",
   "language": "python",
   "name": "python3"
  },
  "language_info": {
   "codemirror_mode": {
    "name": "ipython",
    "version": 3
   },
   "file_extension": ".py",
   "mimetype": "text/x-python",
   "name": "python",
   "nbconvert_exporter": "python",
   "pygments_lexer": "ipython3",
   "version": "3.9.7"
  }
 },
 "nbformat": 4,
 "nbformat_minor": 5
}
